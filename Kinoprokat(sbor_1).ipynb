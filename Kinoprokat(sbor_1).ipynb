{
 "cells": [
  {
   "cell_type": "markdown",
   "metadata": {
    "id": "sIfNaMOxgFyK"
   },
   "source": [
    "## Исследование данных о российском кинопрокате\n",
    "\n"
   ]
  },
  {
   "cell_type": "markdown",
   "metadata": {
    "id": "3bSlkCsbgFyL"
   },
   "source": [
    "### Шаг 1. Откройте файлы с данными и объедините их в один датафрейм. \n",
    "\n",
    "Объедините данные таким образом, чтобы все объекты из датасета `mkrf_movies` обязательно вошли в получившийся датафрейм. \n",
    "\n",
    "<div id=\"accordion\">\n",
    "    <div class=\"card\">\n",
    "        <div class=\"card-header\" id=\"headingThree\">\n",
    "            <button class=\"btn btn-link collapsed\" data-toggle=\"collapse\" data-target=\"#collapseHint_0\" aria-expanded=\"false\" aria-controls=\"collapseHint_0\">Подсказка</button>\n",
    "        </div>\n",
    "        <div id=\"collapseHint_0\" class=\"collapse\" aria-labelledby=\"headingThree\" data-parent=\"#accordion\">\n",
    "            <div class=\"card-body\">\n",
    "Обратите внимание на тип данных столбца, по которому будете соединять датафреймы. Тип данных этих столбцов должен быть одинаковым в обоих датафреймах.\n",
    "            </div>\n",
    "        </div>\n",
    "    </div>\n",
    "</div>"
   ]
  },
  {
   "cell_type": "code",
   "execution_count": 1,
   "metadata": {
    "id": "dw87FlzMgFyM",
    "scrolled": false
   },
   "outputs": [
    {
     "name": "stdout",
     "output_type": "stream",
     "text": [
      "<class 'pandas.core.frame.DataFrame'>\n",
      "RangeIndex: 7486 entries, 0 to 7485\n",
      "Data columns (total 15 columns):\n",
      "title                    7486 non-null object\n",
      "puNumber                 7486 non-null object\n",
      "show_start_date          7486 non-null object\n",
      "type                     7486 non-null object\n",
      "film_studio              7468 non-null object\n",
      "production_country       7484 non-null object\n",
      "director                 7477 non-null object\n",
      "producer                 6918 non-null object\n",
      "age_restriction          7486 non-null object\n",
      "refundable_support       332 non-null float64\n",
      "nonrefundable_support    332 non-null float64\n",
      "budget                   332 non-null float64\n",
      "financing_source         332 non-null object\n",
      "ratings                  6519 non-null object\n",
      "genres                   6510 non-null object\n",
      "dtypes: float64(3), object(12)\n",
      "memory usage: 877.4+ KB\n"
     ]
    },
    {
     "data": {
      "text/html": [
       "<div>\n",
       "<style scoped>\n",
       "    .dataframe tbody tr th:only-of-type {\n",
       "        vertical-align: middle;\n",
       "    }\n",
       "\n",
       "    .dataframe tbody tr th {\n",
       "        vertical-align: top;\n",
       "    }\n",
       "\n",
       "    .dataframe thead th {\n",
       "        text-align: right;\n",
       "    }\n",
       "</style>\n",
       "<table border=\"1\" class=\"dataframe\">\n",
       "  <thead>\n",
       "    <tr style=\"text-align: right;\">\n",
       "      <th></th>\n",
       "      <th>title</th>\n",
       "      <th>puNumber</th>\n",
       "      <th>show_start_date</th>\n",
       "      <th>type</th>\n",
       "      <th>film_studio</th>\n",
       "      <th>production_country</th>\n",
       "      <th>director</th>\n",
       "      <th>producer</th>\n",
       "      <th>age_restriction</th>\n",
       "      <th>refundable_support</th>\n",
       "      <th>nonrefundable_support</th>\n",
       "      <th>budget</th>\n",
       "      <th>financing_source</th>\n",
       "      <th>ratings</th>\n",
       "      <th>genres</th>\n",
       "    </tr>\n",
       "  </thead>\n",
       "  <tbody>\n",
       "    <tr>\n",
       "      <td>0</td>\n",
       "      <td>Открытый простор</td>\n",
       "      <td>221048915</td>\n",
       "      <td>2015-11-27T12:00:00.000Z</td>\n",
       "      <td>Художественный</td>\n",
       "      <td>Тачстоун Пикчерз, Кобальт Пикчерз, Бикон Пикче...</td>\n",
       "      <td>США</td>\n",
       "      <td>Кевин Костнер</td>\n",
       "      <td>Дэвид Валдес, Кевин Костнер, Джейк Эбертс</td>\n",
       "      <td>«18+» - запрещено для детей</td>\n",
       "      <td>NaN</td>\n",
       "      <td>NaN</td>\n",
       "      <td>NaN</td>\n",
       "      <td>NaN</td>\n",
       "      <td>7.2</td>\n",
       "      <td>боевик,драма,мелодрама</td>\n",
       "    </tr>\n",
       "    <tr>\n",
       "      <td>1</td>\n",
       "      <td>Особо важное задание</td>\n",
       "      <td>111013716</td>\n",
       "      <td>2016-09-13T12:00:00.000Z</td>\n",
       "      <td>Художественный</td>\n",
       "      <td>Киностудия \"Мосфильм\"</td>\n",
       "      <td>СССР</td>\n",
       "      <td>Е.Матвеев</td>\n",
       "      <td>NaN</td>\n",
       "      <td>«6+» - для детей старше 6 лет</td>\n",
       "      <td>NaN</td>\n",
       "      <td>NaN</td>\n",
       "      <td>NaN</td>\n",
       "      <td>NaN</td>\n",
       "      <td>6.6</td>\n",
       "      <td>драма,военный</td>\n",
       "    </tr>\n",
       "    <tr>\n",
       "      <td>2</td>\n",
       "      <td>Особо опасен</td>\n",
       "      <td>221038416</td>\n",
       "      <td>2016-10-10T12:00:00.000Z</td>\n",
       "      <td>Художественный</td>\n",
       "      <td>Юниверсал Пикчерз, Кикстарт Продакшнз, Марк Пл...</td>\n",
       "      <td>США</td>\n",
       "      <td>Тимур Бекмамбетов</td>\n",
       "      <td>Джим Лемли, Джейсон Нетер, Марк Е.Платт, Яйн Смит</td>\n",
       "      <td>«18+» - запрещено для детей</td>\n",
       "      <td>NaN</td>\n",
       "      <td>NaN</td>\n",
       "      <td>NaN</td>\n",
       "      <td>NaN</td>\n",
       "      <td>6.8</td>\n",
       "      <td>фантастика,боевик,триллер</td>\n",
       "    </tr>\n",
       "    <tr>\n",
       "      <td>3</td>\n",
       "      <td>Особо опасен</td>\n",
       "      <td>221026916</td>\n",
       "      <td>2016-06-10T12:00:00.000Z</td>\n",
       "      <td>Художественный</td>\n",
       "      <td>Юниверсал Пикчерз, Кикстарт Продакшнз, Марк Пл...</td>\n",
       "      <td>США</td>\n",
       "      <td>Тимур Бекмамбетов</td>\n",
       "      <td>Джим Лемли, Джейсон Нетер, Марк Е.Платт, Яйн Смит</td>\n",
       "      <td>«18+» - запрещено для детей</td>\n",
       "      <td>NaN</td>\n",
       "      <td>NaN</td>\n",
       "      <td>NaN</td>\n",
       "      <td>NaN</td>\n",
       "      <td>6.8</td>\n",
       "      <td>фантастика,боевик,триллер</td>\n",
       "    </tr>\n",
       "    <tr>\n",
       "      <td>4</td>\n",
       "      <td>Особо опасен</td>\n",
       "      <td>221030815</td>\n",
       "      <td>2015-07-29T12:00:00.000Z</td>\n",
       "      <td>Художественный</td>\n",
       "      <td>Юниверсал Пикчерз, Кикстарт Продакшнз, Марк Пл...</td>\n",
       "      <td>США</td>\n",
       "      <td>Тимур Бекмамбетов</td>\n",
       "      <td>Джим Лемли, Джейсон Нетер, Марк Е.Платт, Яйн Смит</td>\n",
       "      <td>«18+» - запрещено для детей</td>\n",
       "      <td>NaN</td>\n",
       "      <td>NaN</td>\n",
       "      <td>NaN</td>\n",
       "      <td>NaN</td>\n",
       "      <td>6.8</td>\n",
       "      <td>фантастика,боевик,триллер</td>\n",
       "    </tr>\n",
       "  </tbody>\n",
       "</table>\n",
       "</div>"
      ],
      "text/plain": [
       "                  title   puNumber           show_start_date            type  \\\n",
       "0      Открытый простор  221048915  2015-11-27T12:00:00.000Z  Художественный   \n",
       "1  Особо важное задание  111013716  2016-09-13T12:00:00.000Z  Художественный   \n",
       "2          Особо опасен  221038416  2016-10-10T12:00:00.000Z  Художественный   \n",
       "3          Особо опасен  221026916  2016-06-10T12:00:00.000Z  Художественный   \n",
       "4          Особо опасен  221030815  2015-07-29T12:00:00.000Z  Художественный   \n",
       "\n",
       "                                         film_studio production_country  \\\n",
       "0  Тачстоун Пикчерз, Кобальт Пикчерз, Бикон Пикче...                США   \n",
       "1                              Киностудия \"Мосфильм\"               СССР   \n",
       "2  Юниверсал Пикчерз, Кикстарт Продакшнз, Марк Пл...                США   \n",
       "3  Юниверсал Пикчерз, Кикстарт Продакшнз, Марк Пл...                США   \n",
       "4  Юниверсал Пикчерз, Кикстарт Продакшнз, Марк Пл...                США   \n",
       "\n",
       "            director                                           producer  \\\n",
       "0      Кевин Костнер          Дэвид Валдес, Кевин Костнер, Джейк Эбертс   \n",
       "1          Е.Матвеев                                                NaN   \n",
       "2  Тимур Бекмамбетов  Джим Лемли, Джейсон Нетер, Марк Е.Платт, Яйн Смит   \n",
       "3  Тимур Бекмамбетов  Джим Лемли, Джейсон Нетер, Марк Е.Платт, Яйн Смит   \n",
       "4  Тимур Бекмамбетов  Джим Лемли, Джейсон Нетер, Марк Е.Платт, Яйн Смит   \n",
       "\n",
       "                 age_restriction  refundable_support  nonrefundable_support  \\\n",
       "0    «18+» - запрещено для детей                 NaN                    NaN   \n",
       "1  «6+» - для детей старше 6 лет                 NaN                    NaN   \n",
       "2    «18+» - запрещено для детей                 NaN                    NaN   \n",
       "3    «18+» - запрещено для детей                 NaN                    NaN   \n",
       "4    «18+» - запрещено для детей                 NaN                    NaN   \n",
       "\n",
       "   budget financing_source ratings                     genres  \n",
       "0     NaN              NaN     7.2     боевик,драма,мелодрама  \n",
       "1     NaN              NaN     6.6              драма,военный  \n",
       "2     NaN              NaN     6.8  фантастика,боевик,триллер  \n",
       "3     NaN              NaN     6.8  фантастика,боевик,триллер  \n",
       "4     NaN              NaN     6.8  фантастика,боевик,триллер  "
      ]
     },
     "execution_count": 1,
     "metadata": {},
     "output_type": "execute_result"
    }
   ],
   "source": [
    "import pandas as pd\n",
    "import seaborn as sns\n",
    "import matplotlib.pyplot as plt\n",
    "try:\n",
    "    data_1 = pd.read_csv('/datasets/mkrf_movies.csv')\n",
    "    data_1.info()\n",
    "except:\n",
    "    print('alarm, волк унес зайчат')\n",
    "data_1.head()"
   ]
  },
  {
   "cell_type": "code",
   "execution_count": 2,
   "metadata": {},
   "outputs": [
    {
     "name": "stdout",
     "output_type": "stream",
     "text": [
      "<class 'pandas.core.frame.DataFrame'>\n",
      "RangeIndex: 3158 entries, 0 to 3157\n",
      "Data columns (total 2 columns):\n",
      "puNumber      3158 non-null int64\n",
      "box_office    3158 non-null float64\n",
      "dtypes: float64(1), int64(1)\n",
      "memory usage: 49.5 KB\n"
     ]
    },
    {
     "data": {
      "text/html": [
       "<div>\n",
       "<style scoped>\n",
       "    .dataframe tbody tr th:only-of-type {\n",
       "        vertical-align: middle;\n",
       "    }\n",
       "\n",
       "    .dataframe tbody tr th {\n",
       "        vertical-align: top;\n",
       "    }\n",
       "\n",
       "    .dataframe thead th {\n",
       "        text-align: right;\n",
       "    }\n",
       "</style>\n",
       "<table border=\"1\" class=\"dataframe\">\n",
       "  <thead>\n",
       "    <tr style=\"text-align: right;\">\n",
       "      <th></th>\n",
       "      <th>puNumber</th>\n",
       "      <th>box_office</th>\n",
       "    </tr>\n",
       "  </thead>\n",
       "  <tbody>\n",
       "    <tr>\n",
       "      <td>0</td>\n",
       "      <td>111000113</td>\n",
       "      <td>2.450000e+03</td>\n",
       "    </tr>\n",
       "    <tr>\n",
       "      <td>1</td>\n",
       "      <td>111000115</td>\n",
       "      <td>6.104000e+04</td>\n",
       "    </tr>\n",
       "    <tr>\n",
       "      <td>2</td>\n",
       "      <td>111000116</td>\n",
       "      <td>1.530300e+08</td>\n",
       "    </tr>\n",
       "    <tr>\n",
       "      <td>3</td>\n",
       "      <td>111000117</td>\n",
       "      <td>1.226096e+07</td>\n",
       "    </tr>\n",
       "    <tr>\n",
       "      <td>4</td>\n",
       "      <td>111000118</td>\n",
       "      <td>1.636841e+08</td>\n",
       "    </tr>\n",
       "  </tbody>\n",
       "</table>\n",
       "</div>"
      ],
      "text/plain": [
       "    puNumber    box_office\n",
       "0  111000113  2.450000e+03\n",
       "1  111000115  6.104000e+04\n",
       "2  111000116  1.530300e+08\n",
       "3  111000117  1.226096e+07\n",
       "4  111000118  1.636841e+08"
      ]
     },
     "execution_count": 2,
     "metadata": {},
     "output_type": "execute_result"
    }
   ],
   "source": [
    "try:\n",
    "    data_2 = pd.read_csv('/datasets/mkrf_shows.csv')\n",
    "    data_2.info()\n",
    "except:\n",
    "    print('alarm, волк унес зайчат')\n",
    "data_2.head()"
   ]
  },
  {
   "cell_type": "code",
   "execution_count": 3,
   "metadata": {},
   "outputs": [
    {
     "name": "stdout",
     "output_type": "stream",
     "text": [
      "<class 'pandas.core.frame.DataFrame'>\n",
      "RangeIndex: 3158 entries, 0 to 3157\n",
      "Data columns (total 2 columns):\n",
      "puNumber      3158 non-null object\n",
      "box_office    3158 non-null float64\n",
      "dtypes: float64(1), object(1)\n",
      "memory usage: 49.5+ KB\n"
     ]
    }
   ],
   "source": [
    "\n",
    "data_2['puNumber'] = data_2['puNumber'].astype('str')\n",
    "data_2.info()\n"
   ]
  },
  {
   "cell_type": "code",
   "execution_count": 4,
   "metadata": {},
   "outputs": [
    {
     "name": "stdout",
     "output_type": "stream",
     "text": [
      "<class 'pandas.core.frame.DataFrame'>\n",
      "Int64Index: 7486 entries, 0 to 7485\n",
      "Data columns (total 16 columns):\n",
      "title                    7486 non-null object\n",
      "puNumber                 7486 non-null object\n",
      "show_start_date          7486 non-null object\n",
      "type                     7486 non-null object\n",
      "film_studio              7468 non-null object\n",
      "production_country       7484 non-null object\n",
      "director                 7477 non-null object\n",
      "producer                 6918 non-null object\n",
      "age_restriction          7486 non-null object\n",
      "refundable_support       332 non-null float64\n",
      "nonrefundable_support    332 non-null float64\n",
      "budget                   332 non-null float64\n",
      "financing_source         332 non-null object\n",
      "ratings                  6519 non-null object\n",
      "genres                   6510 non-null object\n",
      "box_office               3158 non-null float64\n",
      "dtypes: float64(4), object(12)\n",
      "memory usage: 994.2+ KB\n"
     ]
    },
    {
     "data": {
      "text/plain": [
       "array(['Художественный', 'Анимационный', 'Прочие', 'Документальный',\n",
       "       'Научно-популярный', ' Художественный', ' Анимационный',\n",
       "       'Музыкально-развлекательный'], dtype=object)"
      ]
     },
     "execution_count": 4,
     "metadata": {},
     "output_type": "execute_result"
    }
   ],
   "source": [
    "\n",
    "df = data_1.merge(data_2, on='puNumber', how='left')\n",
    "df.head()\n",
    "df.info()\n",
    "df.shape\n",
    "df['type'].unique()"
   ]
  },
  {
   "cell_type": "markdown",
   "metadata": {},
   "source": [
    "Выгрузили данные `data_1`, `data_2` и объединили их в датафрейм `df`, объединив по столбцу `puNumber` , для этого в `data_2` поменяли тип данныых в столбце `puNumber` с `int` na `str`."
   ]
  },
  {
   "cell_type": "markdown",
   "metadata": {
    "id": "KLDGpPG0gFyM"
   },
   "source": [
    "### Шаг 2. Предобработка данных"
   ]
  },
  {
   "cell_type": "markdown",
   "metadata": {
    "id": "ssWwKXsxgFyO"
   },
   "source": [
    "#### Шаг 2.1. Проверьте типы данных\n",
    "\n",
    "- Проверьте типы данных в датафрейме и преобразуйте их там, где это необходимо."
   ]
  },
  {
   "cell_type": "code",
   "execution_count": 5,
   "metadata": {
    "id": "kVGSplJOgFyO",
    "scrolled": false
   },
   "outputs": [
    {
     "name": "stdout",
     "output_type": "stream",
     "text": [
      "<class 'pandas.core.frame.DataFrame'>\n",
      "Int64Index: 7486 entries, 0 to 7485\n",
      "Data columns (total 16 columns):\n",
      "title                    7486 non-null object\n",
      "puNumber                 7486 non-null object\n",
      "show_start_date          7486 non-null object\n",
      "type                     7486 non-null object\n",
      "film_studio              7468 non-null object\n",
      "production_country       7484 non-null object\n",
      "director                 7477 non-null object\n",
      "producer                 6918 non-null object\n",
      "age_restriction          7486 non-null object\n",
      "refundable_support       332 non-null float64\n",
      "nonrefundable_support    332 non-null float64\n",
      "budget                   332 non-null float64\n",
      "financing_source         332 non-null object\n",
      "ratings                  6519 non-null object\n",
      "genres                   6510 non-null object\n",
      "box_office               3158 non-null float64\n",
      "dtypes: float64(4), object(12)\n",
      "memory usage: 994.2+ KB\n"
     ]
    },
    {
     "data": {
      "text/html": [
       "<div>\n",
       "<style scoped>\n",
       "    .dataframe tbody tr th:only-of-type {\n",
       "        vertical-align: middle;\n",
       "    }\n",
       "\n",
       "    .dataframe tbody tr th {\n",
       "        vertical-align: top;\n",
       "    }\n",
       "\n",
       "    .dataframe thead th {\n",
       "        text-align: right;\n",
       "    }\n",
       "</style>\n",
       "<table border=\"1\" class=\"dataframe\">\n",
       "  <thead>\n",
       "    <tr style=\"text-align: right;\">\n",
       "      <th></th>\n",
       "      <th>title</th>\n",
       "      <th>puNumber</th>\n",
       "      <th>show_start_date</th>\n",
       "      <th>type</th>\n",
       "      <th>film_studio</th>\n",
       "      <th>production_country</th>\n",
       "      <th>director</th>\n",
       "      <th>producer</th>\n",
       "      <th>age_restriction</th>\n",
       "      <th>refundable_support</th>\n",
       "      <th>nonrefundable_support</th>\n",
       "      <th>budget</th>\n",
       "      <th>financing_source</th>\n",
       "      <th>ratings</th>\n",
       "      <th>genres</th>\n",
       "      <th>box_office</th>\n",
       "    </tr>\n",
       "  </thead>\n",
       "  <tbody>\n",
       "    <tr>\n",
       "      <td>0</td>\n",
       "      <td>Открытый простор</td>\n",
       "      <td>221048915</td>\n",
       "      <td>2015-11-27T12:00:00.000Z</td>\n",
       "      <td>Художественный</td>\n",
       "      <td>Тачстоун Пикчерз, Кобальт Пикчерз, Бикон Пикче...</td>\n",
       "      <td>США</td>\n",
       "      <td>Кевин Костнер</td>\n",
       "      <td>Дэвид Валдес, Кевин Костнер, Джейк Эбертс</td>\n",
       "      <td>«18+» - запрещено для детей</td>\n",
       "      <td>NaN</td>\n",
       "      <td>NaN</td>\n",
       "      <td>NaN</td>\n",
       "      <td>NaN</td>\n",
       "      <td>7.2</td>\n",
       "      <td>боевик,драма,мелодрама</td>\n",
       "      <td>NaN</td>\n",
       "    </tr>\n",
       "    <tr>\n",
       "      <td>1</td>\n",
       "      <td>Особо важное задание</td>\n",
       "      <td>111013716</td>\n",
       "      <td>2016-09-13T12:00:00.000Z</td>\n",
       "      <td>Художественный</td>\n",
       "      <td>Киностудия \"Мосфильм\"</td>\n",
       "      <td>СССР</td>\n",
       "      <td>Е.Матвеев</td>\n",
       "      <td>NaN</td>\n",
       "      <td>«6+» - для детей старше 6 лет</td>\n",
       "      <td>NaN</td>\n",
       "      <td>NaN</td>\n",
       "      <td>NaN</td>\n",
       "      <td>NaN</td>\n",
       "      <td>6.6</td>\n",
       "      <td>драма,военный</td>\n",
       "      <td>NaN</td>\n",
       "    </tr>\n",
       "    <tr>\n",
       "      <td>2</td>\n",
       "      <td>Особо опасен</td>\n",
       "      <td>221038416</td>\n",
       "      <td>2016-10-10T12:00:00.000Z</td>\n",
       "      <td>Художественный</td>\n",
       "      <td>Юниверсал Пикчерз, Кикстарт Продакшнз, Марк Пл...</td>\n",
       "      <td>США</td>\n",
       "      <td>Тимур Бекмамбетов</td>\n",
       "      <td>Джим Лемли, Джейсон Нетер, Марк Е.Платт, Яйн Смит</td>\n",
       "      <td>«18+» - запрещено для детей</td>\n",
       "      <td>NaN</td>\n",
       "      <td>NaN</td>\n",
       "      <td>NaN</td>\n",
       "      <td>NaN</td>\n",
       "      <td>6.8</td>\n",
       "      <td>фантастика,боевик,триллер</td>\n",
       "      <td>NaN</td>\n",
       "    </tr>\n",
       "    <tr>\n",
       "      <td>3</td>\n",
       "      <td>Особо опасен</td>\n",
       "      <td>221026916</td>\n",
       "      <td>2016-06-10T12:00:00.000Z</td>\n",
       "      <td>Художественный</td>\n",
       "      <td>Юниверсал Пикчерз, Кикстарт Продакшнз, Марк Пл...</td>\n",
       "      <td>США</td>\n",
       "      <td>Тимур Бекмамбетов</td>\n",
       "      <td>Джим Лемли, Джейсон Нетер, Марк Е.Платт, Яйн Смит</td>\n",
       "      <td>«18+» - запрещено для детей</td>\n",
       "      <td>NaN</td>\n",
       "      <td>NaN</td>\n",
       "      <td>NaN</td>\n",
       "      <td>NaN</td>\n",
       "      <td>6.8</td>\n",
       "      <td>фантастика,боевик,триллер</td>\n",
       "      <td>NaN</td>\n",
       "    </tr>\n",
       "    <tr>\n",
       "      <td>4</td>\n",
       "      <td>Особо опасен</td>\n",
       "      <td>221030815</td>\n",
       "      <td>2015-07-29T12:00:00.000Z</td>\n",
       "      <td>Художественный</td>\n",
       "      <td>Юниверсал Пикчерз, Кикстарт Продакшнз, Марк Пл...</td>\n",
       "      <td>США</td>\n",
       "      <td>Тимур Бекмамбетов</td>\n",
       "      <td>Джим Лемли, Джейсон Нетер, Марк Е.Платт, Яйн Смит</td>\n",
       "      <td>«18+» - запрещено для детей</td>\n",
       "      <td>NaN</td>\n",
       "      <td>NaN</td>\n",
       "      <td>NaN</td>\n",
       "      <td>NaN</td>\n",
       "      <td>6.8</td>\n",
       "      <td>фантастика,боевик,триллер</td>\n",
       "      <td>NaN</td>\n",
       "    </tr>\n",
       "  </tbody>\n",
       "</table>\n",
       "</div>"
      ],
      "text/plain": [
       "                  title   puNumber           show_start_date            type  \\\n",
       "0      Открытый простор  221048915  2015-11-27T12:00:00.000Z  Художественный   \n",
       "1  Особо важное задание  111013716  2016-09-13T12:00:00.000Z  Художественный   \n",
       "2          Особо опасен  221038416  2016-10-10T12:00:00.000Z  Художественный   \n",
       "3          Особо опасен  221026916  2016-06-10T12:00:00.000Z  Художественный   \n",
       "4          Особо опасен  221030815  2015-07-29T12:00:00.000Z  Художественный   \n",
       "\n",
       "                                         film_studio production_country  \\\n",
       "0  Тачстоун Пикчерз, Кобальт Пикчерз, Бикон Пикче...                США   \n",
       "1                              Киностудия \"Мосфильм\"               СССР   \n",
       "2  Юниверсал Пикчерз, Кикстарт Продакшнз, Марк Пл...                США   \n",
       "3  Юниверсал Пикчерз, Кикстарт Продакшнз, Марк Пл...                США   \n",
       "4  Юниверсал Пикчерз, Кикстарт Продакшнз, Марк Пл...                США   \n",
       "\n",
       "            director                                           producer  \\\n",
       "0      Кевин Костнер          Дэвид Валдес, Кевин Костнер, Джейк Эбертс   \n",
       "1          Е.Матвеев                                                NaN   \n",
       "2  Тимур Бекмамбетов  Джим Лемли, Джейсон Нетер, Марк Е.Платт, Яйн Смит   \n",
       "3  Тимур Бекмамбетов  Джим Лемли, Джейсон Нетер, Марк Е.Платт, Яйн Смит   \n",
       "4  Тимур Бекмамбетов  Джим Лемли, Джейсон Нетер, Марк Е.Платт, Яйн Смит   \n",
       "\n",
       "                 age_restriction  refundable_support  nonrefundable_support  \\\n",
       "0    «18+» - запрещено для детей                 NaN                    NaN   \n",
       "1  «6+» - для детей старше 6 лет                 NaN                    NaN   \n",
       "2    «18+» - запрещено для детей                 NaN                    NaN   \n",
       "3    «18+» - запрещено для детей                 NaN                    NaN   \n",
       "4    «18+» - запрещено для детей                 NaN                    NaN   \n",
       "\n",
       "   budget financing_source ratings                     genres  box_office  \n",
       "0     NaN              NaN     7.2     боевик,драма,мелодрама         NaN  \n",
       "1     NaN              NaN     6.6              драма,военный         NaN  \n",
       "2     NaN              NaN     6.8  фантастика,боевик,триллер         NaN  \n",
       "3     NaN              NaN     6.8  фантастика,боевик,триллер         NaN  \n",
       "4     NaN              NaN     6.8  фантастика,боевик,триллер         NaN  "
      ]
     },
     "execution_count": 5,
     "metadata": {},
     "output_type": "execute_result"
    }
   ],
   "source": [
    "df.info()\n",
    "df.head()\n"
   ]
  },
  {
   "cell_type": "markdown",
   "metadata": {},
   "source": [
    "Изменим тип данных в столбцах `show_start_date` на дататайм и столбец `ratings` на числовое, за одно приведем столбец к удобному виду."
   ]
  },
  {
   "cell_type": "code",
   "execution_count": 6,
   "metadata": {
    "scrolled": false
   },
   "outputs": [
    {
     "data": {
      "text/html": [
       "<div>\n",
       "<style scoped>\n",
       "    .dataframe tbody tr th:only-of-type {\n",
       "        vertical-align: middle;\n",
       "    }\n",
       "\n",
       "    .dataframe tbody tr th {\n",
       "        vertical-align: top;\n",
       "    }\n",
       "\n",
       "    .dataframe thead th {\n",
       "        text-align: right;\n",
       "    }\n",
       "</style>\n",
       "<table border=\"1\" class=\"dataframe\">\n",
       "  <thead>\n",
       "    <tr style=\"text-align: right;\">\n",
       "      <th></th>\n",
       "      <th>title</th>\n",
       "      <th>puNumber</th>\n",
       "      <th>show_start_date</th>\n",
       "      <th>type</th>\n",
       "      <th>film_studio</th>\n",
       "      <th>production_country</th>\n",
       "      <th>director</th>\n",
       "      <th>producer</th>\n",
       "      <th>age_restriction</th>\n",
       "      <th>refundable_support</th>\n",
       "      <th>nonrefundable_support</th>\n",
       "      <th>budget</th>\n",
       "      <th>financing_source</th>\n",
       "      <th>ratings</th>\n",
       "      <th>genres</th>\n",
       "      <th>box_office</th>\n",
       "    </tr>\n",
       "  </thead>\n",
       "  <tbody>\n",
       "    <tr>\n",
       "      <td>0</td>\n",
       "      <td>Открытый простор</td>\n",
       "      <td>221048915</td>\n",
       "      <td>2015-11-27 12:00:00+00:00</td>\n",
       "      <td>Художественный</td>\n",
       "      <td>Тачстоун Пикчерз, Кобальт Пикчерз, Бикон Пикче...</td>\n",
       "      <td>США</td>\n",
       "      <td>Кевин Костнер</td>\n",
       "      <td>Дэвид Валдес, Кевин Костнер, Джейк Эбертс</td>\n",
       "      <td>«18+» - запрещено для детей</td>\n",
       "      <td>NaN</td>\n",
       "      <td>NaN</td>\n",
       "      <td>NaN</td>\n",
       "      <td>NaN</td>\n",
       "      <td>72.0</td>\n",
       "      <td>боевик,драма,мелодрама</td>\n",
       "      <td>NaN</td>\n",
       "    </tr>\n",
       "    <tr>\n",
       "      <td>1</td>\n",
       "      <td>Особо важное задание</td>\n",
       "      <td>111013716</td>\n",
       "      <td>2016-09-13 12:00:00+00:00</td>\n",
       "      <td>Художественный</td>\n",
       "      <td>Киностудия \"Мосфильм\"</td>\n",
       "      <td>СССР</td>\n",
       "      <td>Е.Матвеев</td>\n",
       "      <td>NaN</td>\n",
       "      <td>«6+» - для детей старше 6 лет</td>\n",
       "      <td>NaN</td>\n",
       "      <td>NaN</td>\n",
       "      <td>NaN</td>\n",
       "      <td>NaN</td>\n",
       "      <td>66.0</td>\n",
       "      <td>драма,военный</td>\n",
       "      <td>NaN</td>\n",
       "    </tr>\n",
       "    <tr>\n",
       "      <td>2</td>\n",
       "      <td>Особо опасен</td>\n",
       "      <td>221038416</td>\n",
       "      <td>2016-10-10 12:00:00+00:00</td>\n",
       "      <td>Художественный</td>\n",
       "      <td>Юниверсал Пикчерз, Кикстарт Продакшнз, Марк Пл...</td>\n",
       "      <td>США</td>\n",
       "      <td>Тимур Бекмамбетов</td>\n",
       "      <td>Джим Лемли, Джейсон Нетер, Марк Е.Платт, Яйн Смит</td>\n",
       "      <td>«18+» - запрещено для детей</td>\n",
       "      <td>NaN</td>\n",
       "      <td>NaN</td>\n",
       "      <td>NaN</td>\n",
       "      <td>NaN</td>\n",
       "      <td>68.0</td>\n",
       "      <td>фантастика,боевик,триллер</td>\n",
       "      <td>NaN</td>\n",
       "    </tr>\n",
       "    <tr>\n",
       "      <td>3</td>\n",
       "      <td>Особо опасен</td>\n",
       "      <td>221026916</td>\n",
       "      <td>2016-06-10 12:00:00+00:00</td>\n",
       "      <td>Художественный</td>\n",
       "      <td>Юниверсал Пикчерз, Кикстарт Продакшнз, Марк Пл...</td>\n",
       "      <td>США</td>\n",
       "      <td>Тимур Бекмамбетов</td>\n",
       "      <td>Джим Лемли, Джейсон Нетер, Марк Е.Платт, Яйн Смит</td>\n",
       "      <td>«18+» - запрещено для детей</td>\n",
       "      <td>NaN</td>\n",
       "      <td>NaN</td>\n",
       "      <td>NaN</td>\n",
       "      <td>NaN</td>\n",
       "      <td>68.0</td>\n",
       "      <td>фантастика,боевик,триллер</td>\n",
       "      <td>NaN</td>\n",
       "    </tr>\n",
       "    <tr>\n",
       "      <td>4</td>\n",
       "      <td>Особо опасен</td>\n",
       "      <td>221030815</td>\n",
       "      <td>2015-07-29 12:00:00+00:00</td>\n",
       "      <td>Художественный</td>\n",
       "      <td>Юниверсал Пикчерз, Кикстарт Продакшнз, Марк Пл...</td>\n",
       "      <td>США</td>\n",
       "      <td>Тимур Бекмамбетов</td>\n",
       "      <td>Джим Лемли, Джейсон Нетер, Марк Е.Платт, Яйн Смит</td>\n",
       "      <td>«18+» - запрещено для детей</td>\n",
       "      <td>NaN</td>\n",
       "      <td>NaN</td>\n",
       "      <td>NaN</td>\n",
       "      <td>NaN</td>\n",
       "      <td>68.0</td>\n",
       "      <td>фантастика,боевик,триллер</td>\n",
       "      <td>NaN</td>\n",
       "    </tr>\n",
       "  </tbody>\n",
       "</table>\n",
       "</div>"
      ],
      "text/plain": [
       "                  title   puNumber           show_start_date            type  \\\n",
       "0      Открытый простор  221048915 2015-11-27 12:00:00+00:00  Художественный   \n",
       "1  Особо важное задание  111013716 2016-09-13 12:00:00+00:00  Художественный   \n",
       "2          Особо опасен  221038416 2016-10-10 12:00:00+00:00  Художественный   \n",
       "3          Особо опасен  221026916 2016-06-10 12:00:00+00:00  Художественный   \n",
       "4          Особо опасен  221030815 2015-07-29 12:00:00+00:00  Художественный   \n",
       "\n",
       "                                         film_studio production_country  \\\n",
       "0  Тачстоун Пикчерз, Кобальт Пикчерз, Бикон Пикче...                США   \n",
       "1                              Киностудия \"Мосфильм\"               СССР   \n",
       "2  Юниверсал Пикчерз, Кикстарт Продакшнз, Марк Пл...                США   \n",
       "3  Юниверсал Пикчерз, Кикстарт Продакшнз, Марк Пл...                США   \n",
       "4  Юниверсал Пикчерз, Кикстарт Продакшнз, Марк Пл...                США   \n",
       "\n",
       "            director                                           producer  \\\n",
       "0      Кевин Костнер          Дэвид Валдес, Кевин Костнер, Джейк Эбертс   \n",
       "1          Е.Матвеев                                                NaN   \n",
       "2  Тимур Бекмамбетов  Джим Лемли, Джейсон Нетер, Марк Е.Платт, Яйн Смит   \n",
       "3  Тимур Бекмамбетов  Джим Лемли, Джейсон Нетер, Марк Е.Платт, Яйн Смит   \n",
       "4  Тимур Бекмамбетов  Джим Лемли, Джейсон Нетер, Марк Е.Платт, Яйн Смит   \n",
       "\n",
       "                 age_restriction  refundable_support  nonrefundable_support  \\\n",
       "0    «18+» - запрещено для детей                 NaN                    NaN   \n",
       "1  «6+» - для детей старше 6 лет                 NaN                    NaN   \n",
       "2    «18+» - запрещено для детей                 NaN                    NaN   \n",
       "3    «18+» - запрещено для детей                 NaN                    NaN   \n",
       "4    «18+» - запрещено для детей                 NaN                    NaN   \n",
       "\n",
       "   budget financing_source  ratings                     genres  box_office  \n",
       "0     NaN              NaN     72.0     боевик,драма,мелодрама         NaN  \n",
       "1     NaN              NaN     66.0              драма,военный         NaN  \n",
       "2     NaN              NaN     68.0  фантастика,боевик,триллер         NaN  \n",
       "3     NaN              NaN     68.0  фантастика,боевик,триллер         NaN  \n",
       "4     NaN              NaN     68.0  фантастика,боевик,триллер         NaN  "
      ]
     },
     "execution_count": 6,
     "metadata": {},
     "output_type": "execute_result"
    }
   ],
   "source": [
    "def rating(cat):\n",
    "    try:\n",
    "        if cat.find('%') >= 0:\n",
    "            return float(cat.strip('%'))\n",
    "    except:\n",
    "        pass\n",
    "    return float(cat) * 10\n",
    "df['ratings'] = df['ratings'].apply(rating)\n",
    "df['ratings'] = df['ratings'].astype('float')\n",
    "df['show_start_date'] = pd.to_datetime(df['show_start_date'], format='%Y-%m-%dT%H:%M:%S.%f%z')\n",
    "df.head()"
   ]
  },
  {
   "cell_type": "markdown",
   "metadata": {
    "id": "i0MOLbF-gFyP"
   },
   "source": [
    "#### Шаг 2.2. Изучите пропуски в датафрейме\n",
    "\n",
    "- Объясните, почему заполнили пропуски определённым образом или почему не стали этого делать."
   ]
  },
  {
   "cell_type": "code",
   "execution_count": 7,
   "metadata": {
    "id": "8MJD_lkngFyP"
   },
   "outputs": [
    {
     "data": {
      "text/html": [
       "<div>\n",
       "<style scoped>\n",
       "    .dataframe tbody tr th:only-of-type {\n",
       "        vertical-align: middle;\n",
       "    }\n",
       "\n",
       "    .dataframe tbody tr th {\n",
       "        vertical-align: top;\n",
       "    }\n",
       "\n",
       "    .dataframe thead th {\n",
       "        text-align: right;\n",
       "    }\n",
       "</style>\n",
       "<table border=\"1\" class=\"dataframe\">\n",
       "  <thead>\n",
       "    <tr style=\"text-align: right;\">\n",
       "      <th></th>\n",
       "      <th>missing_values</th>\n",
       "      <th>% of total</th>\n",
       "    </tr>\n",
       "  </thead>\n",
       "  <tbody>\n",
       "    <tr>\n",
       "      <td>refundable_support</td>\n",
       "      <td>7154</td>\n",
       "      <td>95.57</td>\n",
       "    </tr>\n",
       "    <tr>\n",
       "      <td>nonrefundable_support</td>\n",
       "      <td>7154</td>\n",
       "      <td>95.57</td>\n",
       "    </tr>\n",
       "    <tr>\n",
       "      <td>budget</td>\n",
       "      <td>7154</td>\n",
       "      <td>95.57</td>\n",
       "    </tr>\n",
       "    <tr>\n",
       "      <td>financing_source</td>\n",
       "      <td>7154</td>\n",
       "      <td>95.57</td>\n",
       "    </tr>\n",
       "    <tr>\n",
       "      <td>box_office</td>\n",
       "      <td>4328</td>\n",
       "      <td>57.81</td>\n",
       "    </tr>\n",
       "    <tr>\n",
       "      <td>genres</td>\n",
       "      <td>976</td>\n",
       "      <td>13.04</td>\n",
       "    </tr>\n",
       "    <tr>\n",
       "      <td>ratings</td>\n",
       "      <td>967</td>\n",
       "      <td>12.92</td>\n",
       "    </tr>\n",
       "    <tr>\n",
       "      <td>producer</td>\n",
       "      <td>568</td>\n",
       "      <td>7.59</td>\n",
       "    </tr>\n",
       "    <tr>\n",
       "      <td>film_studio</td>\n",
       "      <td>18</td>\n",
       "      <td>0.24</td>\n",
       "    </tr>\n",
       "    <tr>\n",
       "      <td>director</td>\n",
       "      <td>9</td>\n",
       "      <td>0.12</td>\n",
       "    </tr>\n",
       "    <tr>\n",
       "      <td>production_country</td>\n",
       "      <td>2</td>\n",
       "      <td>0.03</td>\n",
       "    </tr>\n",
       "    <tr>\n",
       "      <td>title</td>\n",
       "      <td>0</td>\n",
       "      <td>0.00</td>\n",
       "    </tr>\n",
       "    <tr>\n",
       "      <td>puNumber</td>\n",
       "      <td>0</td>\n",
       "      <td>0.00</td>\n",
       "    </tr>\n",
       "    <tr>\n",
       "      <td>show_start_date</td>\n",
       "      <td>0</td>\n",
       "      <td>0.00</td>\n",
       "    </tr>\n",
       "    <tr>\n",
       "      <td>type</td>\n",
       "      <td>0</td>\n",
       "      <td>0.00</td>\n",
       "    </tr>\n",
       "    <tr>\n",
       "      <td>age_restriction</td>\n",
       "      <td>0</td>\n",
       "      <td>0.00</td>\n",
       "    </tr>\n",
       "  </tbody>\n",
       "</table>\n",
       "</div>"
      ],
      "text/plain": [
       "                       missing_values  % of total\n",
       "refundable_support               7154       95.57\n",
       "nonrefundable_support            7154       95.57\n",
       "budget                           7154       95.57\n",
       "financing_source                 7154       95.57\n",
       "box_office                       4328       57.81\n",
       "genres                            976       13.04\n",
       "ratings                           967       12.92\n",
       "producer                          568        7.59\n",
       "film_studio                        18        0.24\n",
       "director                            9        0.12\n",
       "production_country                  2        0.03\n",
       "title                               0        0.00\n",
       "puNumber                            0        0.00\n",
       "show_start_date                     0        0.00\n",
       "type                                0        0.00\n",
       "age_restriction                     0        0.00"
      ]
     },
     "execution_count": 7,
     "metadata": {},
     "output_type": "execute_result"
    }
   ],
   "source": [
    "df.isna().sum()\n",
    "report = df.isna().sum().to_frame()\n",
    "report = report.rename(columns = {0: 'missing_values'})\n",
    "report['% of total'] = (100 * report['missing_values'] / df.shape[0]).round(2)\n",
    "report.sort_values(by = 'missing_values', ascending = False)"
   ]
  },
  {
   "cell_type": "markdown",
   "metadata": {},
   "source": [
    "Пропуски в столбцах `financing_source` `nonrefundable_support` `budget` `financing_source` имеются потому что данные в этих столбцах отображают помощь в финансировании фильма.\n",
    "Заполнять пропуски не будем, поскольку они могут искозить результаты исследований.\n"
   ]
  },
  {
   "cell_type": "markdown",
   "metadata": {
    "id": "4c6k1t9ygFyQ"
   },
   "source": [
    "#### Шаг 2.3. Изучите дубликаты в датафрейме\n",
    "- Проверьте, есть ли в данных дубликаты. Опишите причины, которые могли повлиять на появление дублей."
   ]
  },
  {
   "cell_type": "code",
   "execution_count": 8,
   "metadata": {
    "id": "aKck8RIdgFyQ"
   },
   "outputs": [
    {
     "data": {
      "text/plain": [
       "8"
      ]
     },
     "execution_count": 8,
     "metadata": {},
     "output_type": "execute_result"
    }
   ],
   "source": [
    "df[['title', 'show_start_date']].duplicated().sum()"
   ]
  },
  {
   "cell_type": "markdown",
   "metadata": {},
   "source": [
    "Дропаем дубликаты"
   ]
  },
  {
   "cell_type": "code",
   "execution_count": 9,
   "metadata": {},
   "outputs": [],
   "source": [
    "duplicated = df[['title', 'show_start_date']].duplicated()\n",
    "df = df.drop(duplicated[lambda x: x].index, axis=0, errors='ignore')"
   ]
  },
  {
   "cell_type": "markdown",
   "metadata": {},
   "source": [
    "Удалили  \n",
    "Проверям все ли получилось"
   ]
  },
  {
   "cell_type": "code",
   "execution_count": 10,
   "metadata": {
    "scrolled": true
   },
   "outputs": [
    {
     "data": {
      "text/plain": [
       "0"
      ]
     },
     "execution_count": 10,
     "metadata": {},
     "output_type": "execute_result"
    }
   ],
   "source": [
    "df[['title', 'show_start_date']].duplicated().sum()"
   ]
  },
  {
   "cell_type": "markdown",
   "metadata": {
    "id": "52fOPrEBgFyQ"
   },
   "source": [
    "#### Шаг 2.4. Изучите категориальные значения\n",
    "\n",
    "- Посмотрите, какая общая проблема встречается почти во всех категориальных столбцах;\n",
    "- Исправьте проблемные значения в поле `type`.\n",
    "\n",
    "<div id=\"accordion\">\n",
    "    <div class=\"card\">\n",
    "        <div class=\"card-header\" id=\"headingThree\">\n",
    "            <button class=\"btn btn-link collapsed\" data-toggle=\"collapse\" data-target=\"#collapseHint_1\" aria-expanded=\"false\" aria-controls=\"collapseHint_1\">Подсказка</button>\n",
    "        </div>\n",
    "        <div id=\"collapseHint_1\" class=\"collapse\" aria-labelledby=\"headingThree\" data-parent=\"#accordion\">\n",
    "            <div class=\"card-body\">\n",
    "В поле <code>type</code> есть несколько значений, у которых появился пробел в начале строки. Самый простой способ их «починить» -- использовать метод <a href=\"https://pandas.pydata.org/docs/reference/api/pandas.Series.str.strip.html#pandas.Series.str.strip\">.str.strip</a>. Этот метод удаляет все пробелы, которые встречаются в начале и в конце строки. Применяют его таким образом:<br>\n",
    "<code>df['type'].str.strip()</code>\n",
    "            </div>\n",
    "        </div>\n",
    "    </div>\n",
    "</div>"
   ]
  },
  {
   "cell_type": "code",
   "execution_count": 11,
   "metadata": {
    "id": "PnXKIVdFgFyR"
   },
   "outputs": [],
   "source": [
    "df['type'] = df['type'].str.strip()"
   ]
  },
  {
   "cell_type": "markdown",
   "metadata": {
    "id": "XFSN5lrEgFyR"
   },
   "source": [
    "#### Шаг 2.5. Проверьте количественные значения\n",
    "\n",
    "- Проверьте, обнаружились ли в таких столбцах подозрительные данные. Как с такими данными лучше поступить?\n",
    "\n",
    "<div id=\"accordion\">\n",
    "    <div class=\"card\">\n",
    "        <div class=\"card-header\" id=\"headingThree\">\n",
    "            <button class=\"btn btn-link collapsed\" data-toggle=\"collapse\" data-target=\"#collapseHint_budget\" aria-expanded=\"false\" aria-controls=\"collapseHint_budget\">Подсказка</button>\n",
    "        </div>\n",
    "        <div id=\"collapseHint_budget\" class=\"collapse\" aria-labelledby=\"headingThree\" data-parent=\"#accordion\">\n",
    "            <div class=\"card-body\">\n",
    "Обратите внимание на описание столбца <code>budget</code>. Как этот столбец соотносится с двумя другими: <code>refundable_support</code> и <code>nonrefundable_support</code>?\n",
    "            </div>\n",
    "        </div>\n",
    "    </div>\n",
    "</div>"
   ]
  },
  {
   "cell_type": "markdown",
   "metadata": {},
   "source": [
    "Посмотрим были ли случаи где сумма финансирования превышала бюжет фильма"
   ]
  },
  {
   "cell_type": "code",
   "execution_count": 12,
   "metadata": {
    "id": "YbzClBxagFyS"
   },
   "outputs": [
    {
     "data": {
      "text/plain": [
       "17"
      ]
     },
     "execution_count": 12,
     "metadata": {},
     "output_type": "execute_result"
    }
   ],
   "source": [
    "df.query('budget < refundable_support or budget < nonrefundable_support')['puNumber'].count()"
   ]
  },
  {
   "cell_type": "markdown",
   "metadata": {},
   "source": [
    "Да, таких было целых 17 раз\n",
    "Прировняем бюджет к сумме финансирования"
   ]
  },
  {
   "cell_type": "code",
   "execution_count": 13,
   "metadata": {},
   "outputs": [],
   "source": [
    "df.loc[df['budget'] < df['refundable_support'], 'budget'] = df['refundable_support']\n",
    "df.loc[df['budget'] < df['nonrefundable_support'], 'budget'] = df['nonrefundable_support']"
   ]
  },
  {
   "cell_type": "code",
   "execution_count": 14,
   "metadata": {},
   "outputs": [
    {
     "data": {
      "text/plain": [
       "0"
      ]
     },
     "execution_count": 14,
     "metadata": {},
     "output_type": "execute_result"
    }
   ],
   "source": [
    "df.query('budget < refundable_support or budget < nonrefundable_support')['puNumber'].count()"
   ]
  },
  {
   "cell_type": "markdown",
   "metadata": {},
   "source": [
    "Исправлено"
   ]
  },
  {
   "cell_type": "markdown",
   "metadata": {
    "id": "Eu6oWp2CgFyS"
   },
   "source": [
    "#### Шаг 2.6. Добавьте новые столбцы\n",
    "\n",
    "\n",
    "\n"
   ]
  },
  {
   "cell_type": "markdown",
   "metadata": {
    "id": "7GgW-UpAgFyS"
   },
   "source": [
    "- Создайте столбец с информацией о годе проката. Выделите год из даты премьеры фильма."
   ]
  },
  {
   "cell_type": "code",
   "execution_count": 15,
   "metadata": {
    "id": "I-yd1DkWgFyT"
   },
   "outputs": [
    {
     "data": {
      "text/html": [
       "<div>\n",
       "<style scoped>\n",
       "    .dataframe tbody tr th:only-of-type {\n",
       "        vertical-align: middle;\n",
       "    }\n",
       "\n",
       "    .dataframe tbody tr th {\n",
       "        vertical-align: top;\n",
       "    }\n",
       "\n",
       "    .dataframe thead th {\n",
       "        text-align: right;\n",
       "    }\n",
       "</style>\n",
       "<table border=\"1\" class=\"dataframe\">\n",
       "  <thead>\n",
       "    <tr style=\"text-align: right;\">\n",
       "      <th></th>\n",
       "      <th>title</th>\n",
       "      <th>puNumber</th>\n",
       "      <th>show_start_date</th>\n",
       "      <th>type</th>\n",
       "      <th>film_studio</th>\n",
       "      <th>production_country</th>\n",
       "      <th>director</th>\n",
       "      <th>producer</th>\n",
       "      <th>age_restriction</th>\n",
       "      <th>refundable_support</th>\n",
       "      <th>nonrefundable_support</th>\n",
       "      <th>budget</th>\n",
       "      <th>financing_source</th>\n",
       "      <th>ratings</th>\n",
       "      <th>genres</th>\n",
       "      <th>box_office</th>\n",
       "      <th>year</th>\n",
       "    </tr>\n",
       "  </thead>\n",
       "  <tbody>\n",
       "    <tr>\n",
       "      <td>0</td>\n",
       "      <td>Открытый простор</td>\n",
       "      <td>221048915</td>\n",
       "      <td>2015-11-27 12:00:00+00:00</td>\n",
       "      <td>Художественный</td>\n",
       "      <td>Тачстоун Пикчерз, Кобальт Пикчерз, Бикон Пикче...</td>\n",
       "      <td>США</td>\n",
       "      <td>Кевин Костнер</td>\n",
       "      <td>Дэвид Валдес, Кевин Костнер, Джейк Эбертс</td>\n",
       "      <td>«18+» - запрещено для детей</td>\n",
       "      <td>NaN</td>\n",
       "      <td>NaN</td>\n",
       "      <td>NaN</td>\n",
       "      <td>NaN</td>\n",
       "      <td>72.0</td>\n",
       "      <td>боевик,драма,мелодрама</td>\n",
       "      <td>NaN</td>\n",
       "      <td>2015</td>\n",
       "    </tr>\n",
       "    <tr>\n",
       "      <td>1</td>\n",
       "      <td>Особо важное задание</td>\n",
       "      <td>111013716</td>\n",
       "      <td>2016-09-13 12:00:00+00:00</td>\n",
       "      <td>Художественный</td>\n",
       "      <td>Киностудия \"Мосфильм\"</td>\n",
       "      <td>СССР</td>\n",
       "      <td>Е.Матвеев</td>\n",
       "      <td>NaN</td>\n",
       "      <td>«6+» - для детей старше 6 лет</td>\n",
       "      <td>NaN</td>\n",
       "      <td>NaN</td>\n",
       "      <td>NaN</td>\n",
       "      <td>NaN</td>\n",
       "      <td>66.0</td>\n",
       "      <td>драма,военный</td>\n",
       "      <td>NaN</td>\n",
       "      <td>2016</td>\n",
       "    </tr>\n",
       "    <tr>\n",
       "      <td>2</td>\n",
       "      <td>Особо опасен</td>\n",
       "      <td>221038416</td>\n",
       "      <td>2016-10-10 12:00:00+00:00</td>\n",
       "      <td>Художественный</td>\n",
       "      <td>Юниверсал Пикчерз, Кикстарт Продакшнз, Марк Пл...</td>\n",
       "      <td>США</td>\n",
       "      <td>Тимур Бекмамбетов</td>\n",
       "      <td>Джим Лемли, Джейсон Нетер, Марк Е.Платт, Яйн Смит</td>\n",
       "      <td>«18+» - запрещено для детей</td>\n",
       "      <td>NaN</td>\n",
       "      <td>NaN</td>\n",
       "      <td>NaN</td>\n",
       "      <td>NaN</td>\n",
       "      <td>68.0</td>\n",
       "      <td>фантастика,боевик,триллер</td>\n",
       "      <td>NaN</td>\n",
       "      <td>2016</td>\n",
       "    </tr>\n",
       "    <tr>\n",
       "      <td>3</td>\n",
       "      <td>Особо опасен</td>\n",
       "      <td>221026916</td>\n",
       "      <td>2016-06-10 12:00:00+00:00</td>\n",
       "      <td>Художественный</td>\n",
       "      <td>Юниверсал Пикчерз, Кикстарт Продакшнз, Марк Пл...</td>\n",
       "      <td>США</td>\n",
       "      <td>Тимур Бекмамбетов</td>\n",
       "      <td>Джим Лемли, Джейсон Нетер, Марк Е.Платт, Яйн Смит</td>\n",
       "      <td>«18+» - запрещено для детей</td>\n",
       "      <td>NaN</td>\n",
       "      <td>NaN</td>\n",
       "      <td>NaN</td>\n",
       "      <td>NaN</td>\n",
       "      <td>68.0</td>\n",
       "      <td>фантастика,боевик,триллер</td>\n",
       "      <td>NaN</td>\n",
       "      <td>2016</td>\n",
       "    </tr>\n",
       "    <tr>\n",
       "      <td>4</td>\n",
       "      <td>Особо опасен</td>\n",
       "      <td>221030815</td>\n",
       "      <td>2015-07-29 12:00:00+00:00</td>\n",
       "      <td>Художественный</td>\n",
       "      <td>Юниверсал Пикчерз, Кикстарт Продакшнз, Марк Пл...</td>\n",
       "      <td>США</td>\n",
       "      <td>Тимур Бекмамбетов</td>\n",
       "      <td>Джим Лемли, Джейсон Нетер, Марк Е.Платт, Яйн Смит</td>\n",
       "      <td>«18+» - запрещено для детей</td>\n",
       "      <td>NaN</td>\n",
       "      <td>NaN</td>\n",
       "      <td>NaN</td>\n",
       "      <td>NaN</td>\n",
       "      <td>68.0</td>\n",
       "      <td>фантастика,боевик,триллер</td>\n",
       "      <td>NaN</td>\n",
       "      <td>2015</td>\n",
       "    </tr>\n",
       "  </tbody>\n",
       "</table>\n",
       "</div>"
      ],
      "text/plain": [
       "                  title   puNumber           show_start_date            type  \\\n",
       "0      Открытый простор  221048915 2015-11-27 12:00:00+00:00  Художественный   \n",
       "1  Особо важное задание  111013716 2016-09-13 12:00:00+00:00  Художественный   \n",
       "2          Особо опасен  221038416 2016-10-10 12:00:00+00:00  Художественный   \n",
       "3          Особо опасен  221026916 2016-06-10 12:00:00+00:00  Художественный   \n",
       "4          Особо опасен  221030815 2015-07-29 12:00:00+00:00  Художественный   \n",
       "\n",
       "                                         film_studio production_country  \\\n",
       "0  Тачстоун Пикчерз, Кобальт Пикчерз, Бикон Пикче...                США   \n",
       "1                              Киностудия \"Мосфильм\"               СССР   \n",
       "2  Юниверсал Пикчерз, Кикстарт Продакшнз, Марк Пл...                США   \n",
       "3  Юниверсал Пикчерз, Кикстарт Продакшнз, Марк Пл...                США   \n",
       "4  Юниверсал Пикчерз, Кикстарт Продакшнз, Марк Пл...                США   \n",
       "\n",
       "            director                                           producer  \\\n",
       "0      Кевин Костнер          Дэвид Валдес, Кевин Костнер, Джейк Эбертс   \n",
       "1          Е.Матвеев                                                NaN   \n",
       "2  Тимур Бекмамбетов  Джим Лемли, Джейсон Нетер, Марк Е.Платт, Яйн Смит   \n",
       "3  Тимур Бекмамбетов  Джим Лемли, Джейсон Нетер, Марк Е.Платт, Яйн Смит   \n",
       "4  Тимур Бекмамбетов  Джим Лемли, Джейсон Нетер, Марк Е.Платт, Яйн Смит   \n",
       "\n",
       "                 age_restriction  refundable_support  nonrefundable_support  \\\n",
       "0    «18+» - запрещено для детей                 NaN                    NaN   \n",
       "1  «6+» - для детей старше 6 лет                 NaN                    NaN   \n",
       "2    «18+» - запрещено для детей                 NaN                    NaN   \n",
       "3    «18+» - запрещено для детей                 NaN                    NaN   \n",
       "4    «18+» - запрещено для детей                 NaN                    NaN   \n",
       "\n",
       "   budget financing_source  ratings                     genres  box_office  \\\n",
       "0     NaN              NaN     72.0     боевик,драма,мелодрама         NaN   \n",
       "1     NaN              NaN     66.0              драма,военный         NaN   \n",
       "2     NaN              NaN     68.0  фантастика,боевик,триллер         NaN   \n",
       "3     NaN              NaN     68.0  фантастика,боевик,триллер         NaN   \n",
       "4     NaN              NaN     68.0  фантастика,боевик,триллер         NaN   \n",
       "\n",
       "   year  \n",
       "0  2015  \n",
       "1  2016  \n",
       "2  2016  \n",
       "3  2016  \n",
       "4  2015  "
      ]
     },
     "execution_count": 15,
     "metadata": {},
     "output_type": "execute_result"
    }
   ],
   "source": [
    "df['year'] = df['show_start_date'].dt.year\n",
    "df.head()"
   ]
  },
  {
   "cell_type": "markdown",
   "metadata": {
    "id": "nFTDLDYOgFyT"
   },
   "source": [
    "- Создайте два столбца: с именем и фамилией главного режиссёра и основным жанром фильма. В столбцы войдут первые значения из списка режиссёров и жанров соответственно.\n",
    "\n",
    "<div id=\"accordion\">\n",
    "    <div class=\"card\">\n",
    "        <div class=\"card-header\" id=\"headingThree\">\n",
    "            <button class=\"btn btn-link collapsed\" data-toggle=\"collapse\" data-target=\"#collapseHint_2\" aria-expanded=\"false\" aria-controls=\"collapseHint_2\">Подсказка</button>\n",
    "        </div>\n",
    "        <div id=\"collapseHint_2\" class=\"collapse\" aria-labelledby=\"headingThree\" data-parent=\"#accordion\">\n",
    "            <div class=\"card-body\">\n",
    "Чтобы создать такие столбцы, лучше всего использовать собственную функцию. Эту функцию можно применить к двум столбцам сразу. \n",
    "            </div>\n",
    "        </div>\n",
    "    </div>\n",
    "</div>"
   ]
  },
  {
   "cell_type": "code",
   "execution_count": 16,
   "metadata": {
    "id": "LSbRZKbMgFyU",
    "scrolled": false
   },
   "outputs": [
    {
     "data": {
      "text/html": [
       "<div>\n",
       "<style scoped>\n",
       "    .dataframe tbody tr th:only-of-type {\n",
       "        vertical-align: middle;\n",
       "    }\n",
       "\n",
       "    .dataframe tbody tr th {\n",
       "        vertical-align: top;\n",
       "    }\n",
       "\n",
       "    .dataframe thead th {\n",
       "        text-align: right;\n",
       "    }\n",
       "</style>\n",
       "<table border=\"1\" class=\"dataframe\">\n",
       "  <thead>\n",
       "    <tr style=\"text-align: right;\">\n",
       "      <th></th>\n",
       "      <th>title</th>\n",
       "      <th>puNumber</th>\n",
       "      <th>show_start_date</th>\n",
       "      <th>type</th>\n",
       "      <th>film_studio</th>\n",
       "      <th>production_country</th>\n",
       "      <th>director</th>\n",
       "      <th>producer</th>\n",
       "      <th>age_restriction</th>\n",
       "      <th>refundable_support</th>\n",
       "      <th>nonrefundable_support</th>\n",
       "      <th>budget</th>\n",
       "      <th>financing_source</th>\n",
       "      <th>ratings</th>\n",
       "      <th>genres</th>\n",
       "      <th>box_office</th>\n",
       "      <th>year</th>\n",
       "      <th>first_director</th>\n",
       "      <th>first_genres</th>\n",
       "      <th>firts_country</th>\n",
       "    </tr>\n",
       "  </thead>\n",
       "  <tbody>\n",
       "    <tr>\n",
       "      <td>0</td>\n",
       "      <td>Открытый простор</td>\n",
       "      <td>221048915</td>\n",
       "      <td>2015-11-27 12:00:00+00:00</td>\n",
       "      <td>Художественный</td>\n",
       "      <td>Тачстоун Пикчерз, Кобальт Пикчерз, Бикон Пикче...</td>\n",
       "      <td>США</td>\n",
       "      <td>Кевин Костнер</td>\n",
       "      <td>Дэвид Валдес, Кевин Костнер, Джейк Эбертс</td>\n",
       "      <td>«18+» - запрещено для детей</td>\n",
       "      <td>NaN</td>\n",
       "      <td>NaN</td>\n",
       "      <td>NaN</td>\n",
       "      <td>NaN</td>\n",
       "      <td>72.0</td>\n",
       "      <td>боевик,драма,мелодрама</td>\n",
       "      <td>NaN</td>\n",
       "      <td>2015</td>\n",
       "      <td>Кевин Костнер</td>\n",
       "      <td>боевик</td>\n",
       "      <td>США</td>\n",
       "    </tr>\n",
       "    <tr>\n",
       "      <td>1</td>\n",
       "      <td>Особо важное задание</td>\n",
       "      <td>111013716</td>\n",
       "      <td>2016-09-13 12:00:00+00:00</td>\n",
       "      <td>Художественный</td>\n",
       "      <td>Киностудия \"Мосфильм\"</td>\n",
       "      <td>СССР</td>\n",
       "      <td>Е.Матвеев</td>\n",
       "      <td>NaN</td>\n",
       "      <td>«6+» - для детей старше 6 лет</td>\n",
       "      <td>NaN</td>\n",
       "      <td>NaN</td>\n",
       "      <td>NaN</td>\n",
       "      <td>NaN</td>\n",
       "      <td>66.0</td>\n",
       "      <td>драма,военный</td>\n",
       "      <td>NaN</td>\n",
       "      <td>2016</td>\n",
       "      <td>Е.Матвеев</td>\n",
       "      <td>драма</td>\n",
       "      <td>СССР</td>\n",
       "    </tr>\n",
       "    <tr>\n",
       "      <td>2</td>\n",
       "      <td>Особо опасен</td>\n",
       "      <td>221038416</td>\n",
       "      <td>2016-10-10 12:00:00+00:00</td>\n",
       "      <td>Художественный</td>\n",
       "      <td>Юниверсал Пикчерз, Кикстарт Продакшнз, Марк Пл...</td>\n",
       "      <td>США</td>\n",
       "      <td>Тимур Бекмамбетов</td>\n",
       "      <td>Джим Лемли, Джейсон Нетер, Марк Е.Платт, Яйн Смит</td>\n",
       "      <td>«18+» - запрещено для детей</td>\n",
       "      <td>NaN</td>\n",
       "      <td>NaN</td>\n",
       "      <td>NaN</td>\n",
       "      <td>NaN</td>\n",
       "      <td>68.0</td>\n",
       "      <td>фантастика,боевик,триллер</td>\n",
       "      <td>NaN</td>\n",
       "      <td>2016</td>\n",
       "      <td>Тимур Бекмамбетов</td>\n",
       "      <td>фантастика</td>\n",
       "      <td>США</td>\n",
       "    </tr>\n",
       "    <tr>\n",
       "      <td>3</td>\n",
       "      <td>Особо опасен</td>\n",
       "      <td>221026916</td>\n",
       "      <td>2016-06-10 12:00:00+00:00</td>\n",
       "      <td>Художественный</td>\n",
       "      <td>Юниверсал Пикчерз, Кикстарт Продакшнз, Марк Пл...</td>\n",
       "      <td>США</td>\n",
       "      <td>Тимур Бекмамбетов</td>\n",
       "      <td>Джим Лемли, Джейсон Нетер, Марк Е.Платт, Яйн Смит</td>\n",
       "      <td>«18+» - запрещено для детей</td>\n",
       "      <td>NaN</td>\n",
       "      <td>NaN</td>\n",
       "      <td>NaN</td>\n",
       "      <td>NaN</td>\n",
       "      <td>68.0</td>\n",
       "      <td>фантастика,боевик,триллер</td>\n",
       "      <td>NaN</td>\n",
       "      <td>2016</td>\n",
       "      <td>Тимур Бекмамбетов</td>\n",
       "      <td>фантастика</td>\n",
       "      <td>США</td>\n",
       "    </tr>\n",
       "    <tr>\n",
       "      <td>4</td>\n",
       "      <td>Особо опасен</td>\n",
       "      <td>221030815</td>\n",
       "      <td>2015-07-29 12:00:00+00:00</td>\n",
       "      <td>Художественный</td>\n",
       "      <td>Юниверсал Пикчерз, Кикстарт Продакшнз, Марк Пл...</td>\n",
       "      <td>США</td>\n",
       "      <td>Тимур Бекмамбетов</td>\n",
       "      <td>Джим Лемли, Джейсон Нетер, Марк Е.Платт, Яйн Смит</td>\n",
       "      <td>«18+» - запрещено для детей</td>\n",
       "      <td>NaN</td>\n",
       "      <td>NaN</td>\n",
       "      <td>NaN</td>\n",
       "      <td>NaN</td>\n",
       "      <td>68.0</td>\n",
       "      <td>фантастика,боевик,триллер</td>\n",
       "      <td>NaN</td>\n",
       "      <td>2015</td>\n",
       "      <td>Тимур Бекмамбетов</td>\n",
       "      <td>фантастика</td>\n",
       "      <td>США</td>\n",
       "    </tr>\n",
       "  </tbody>\n",
       "</table>\n",
       "</div>"
      ],
      "text/plain": [
       "                  title   puNumber           show_start_date            type  \\\n",
       "0      Открытый простор  221048915 2015-11-27 12:00:00+00:00  Художественный   \n",
       "1  Особо важное задание  111013716 2016-09-13 12:00:00+00:00  Художественный   \n",
       "2          Особо опасен  221038416 2016-10-10 12:00:00+00:00  Художественный   \n",
       "3          Особо опасен  221026916 2016-06-10 12:00:00+00:00  Художественный   \n",
       "4          Особо опасен  221030815 2015-07-29 12:00:00+00:00  Художественный   \n",
       "\n",
       "                                         film_studio production_country  \\\n",
       "0  Тачстоун Пикчерз, Кобальт Пикчерз, Бикон Пикче...                США   \n",
       "1                              Киностудия \"Мосфильм\"               СССР   \n",
       "2  Юниверсал Пикчерз, Кикстарт Продакшнз, Марк Пл...                США   \n",
       "3  Юниверсал Пикчерз, Кикстарт Продакшнз, Марк Пл...                США   \n",
       "4  Юниверсал Пикчерз, Кикстарт Продакшнз, Марк Пл...                США   \n",
       "\n",
       "            director                                           producer  \\\n",
       "0      Кевин Костнер          Дэвид Валдес, Кевин Костнер, Джейк Эбертс   \n",
       "1          Е.Матвеев                                                NaN   \n",
       "2  Тимур Бекмамбетов  Джим Лемли, Джейсон Нетер, Марк Е.Платт, Яйн Смит   \n",
       "3  Тимур Бекмамбетов  Джим Лемли, Джейсон Нетер, Марк Е.Платт, Яйн Смит   \n",
       "4  Тимур Бекмамбетов  Джим Лемли, Джейсон Нетер, Марк Е.Платт, Яйн Смит   \n",
       "\n",
       "                 age_restriction  refundable_support  nonrefundable_support  \\\n",
       "0    «18+» - запрещено для детей                 NaN                    NaN   \n",
       "1  «6+» - для детей старше 6 лет                 NaN                    NaN   \n",
       "2    «18+» - запрещено для детей                 NaN                    NaN   \n",
       "3    «18+» - запрещено для детей                 NaN                    NaN   \n",
       "4    «18+» - запрещено для детей                 NaN                    NaN   \n",
       "\n",
       "   budget financing_source  ratings                     genres  box_office  \\\n",
       "0     NaN              NaN     72.0     боевик,драма,мелодрама         NaN   \n",
       "1     NaN              NaN     66.0              драма,военный         NaN   \n",
       "2     NaN              NaN     68.0  фантастика,боевик,триллер         NaN   \n",
       "3     NaN              NaN     68.0  фантастика,боевик,триллер         NaN   \n",
       "4     NaN              NaN     68.0  фантастика,боевик,триллер         NaN   \n",
       "\n",
       "   year     first_director first_genres firts_country  \n",
       "0  2015      Кевин Костнер       боевик           США  \n",
       "1  2016          Е.Матвеев        драма          СССР  \n",
       "2  2016  Тимур Бекмамбетов   фантастика           США  \n",
       "3  2016  Тимур Бекмамбетов   фантастика           США  \n",
       "4  2015  Тимур Бекмамбетов   фантастика           США  "
      ]
     },
     "execution_count": 16,
     "metadata": {},
     "output_type": "execute_result"
    }
   ],
   "source": [
    "def name_and_genere(name):\n",
    "    try:\n",
    "        return name.split(',')[0]\n",
    "    except:\n",
    "        return '-'\n",
    "\n",
    "df['first_director'] = df['director'].apply(name_and_genere)\n",
    "df['first_genres'] = df['genres'].apply(name_and_genere)\n",
    "df['firts_country'] = df['production_country'].apply(name_and_genere)\n",
    "df.head()"
   ]
  },
  {
   "cell_type": "code",
   "execution_count": 17,
   "metadata": {
    "scrolled": true
   },
   "outputs": [
    {
     "data": {
      "text/plain": [
       "0           боевик\n",
       "1            драма\n",
       "2       фантастика\n",
       "3       фантастика\n",
       "4       фантастика\n",
       "           ...    \n",
       "7481           NaN\n",
       "7482        боевик\n",
       "7483           NaN\n",
       "7484           NaN\n",
       "7485       комедия\n",
       "Name: genres, Length: 7478, dtype: object"
      ]
     },
     "execution_count": 17,
     "metadata": {},
     "output_type": "execute_result"
    }
   ],
   "source": [
    "df['genres'].str.split(',').str[0]"
   ]
  },
  {
   "cell_type": "markdown",
   "metadata": {
    "id": "1FsCXHwdgFyU"
   },
   "source": [
    "- Посчитайте, какую долю от общего бюджета фильма составляет государственная поддержка."
   ]
  },
  {
   "cell_type": "code",
   "execution_count": 18,
   "metadata": {
    "id": "LV6qFuZLgFyV",
    "scrolled": false
   },
   "outputs": [
    {
     "data": {
      "text/html": [
       "<div>\n",
       "<style scoped>\n",
       "    .dataframe tbody tr th:only-of-type {\n",
       "        vertical-align: middle;\n",
       "    }\n",
       "\n",
       "    .dataframe tbody tr th {\n",
       "        vertical-align: top;\n",
       "    }\n",
       "\n",
       "    .dataframe thead th {\n",
       "        text-align: right;\n",
       "    }\n",
       "</style>\n",
       "<table border=\"1\" class=\"dataframe\">\n",
       "  <thead>\n",
       "    <tr style=\"text-align: right;\">\n",
       "      <th></th>\n",
       "      <th>title</th>\n",
       "      <th>puNumber</th>\n",
       "      <th>show_start_date</th>\n",
       "      <th>type</th>\n",
       "      <th>film_studio</th>\n",
       "      <th>production_country</th>\n",
       "      <th>director</th>\n",
       "      <th>producer</th>\n",
       "      <th>age_restriction</th>\n",
       "      <th>refundable_support</th>\n",
       "      <th>...</th>\n",
       "      <th>budget</th>\n",
       "      <th>financing_source</th>\n",
       "      <th>ratings</th>\n",
       "      <th>genres</th>\n",
       "      <th>box_office</th>\n",
       "      <th>year</th>\n",
       "      <th>first_director</th>\n",
       "      <th>first_genres</th>\n",
       "      <th>firts_country</th>\n",
       "      <th>support</th>\n",
       "    </tr>\n",
       "  </thead>\n",
       "  <tbody>\n",
       "    <tr>\n",
       "      <td>0</td>\n",
       "      <td>Открытый простор</td>\n",
       "      <td>221048915</td>\n",
       "      <td>2015-11-27 12:00:00+00:00</td>\n",
       "      <td>Художественный</td>\n",
       "      <td>Тачстоун Пикчерз, Кобальт Пикчерз, Бикон Пикче...</td>\n",
       "      <td>США</td>\n",
       "      <td>Кевин Костнер</td>\n",
       "      <td>Дэвид Валдес, Кевин Костнер, Джейк Эбертс</td>\n",
       "      <td>«18+» - запрещено для детей</td>\n",
       "      <td>NaN</td>\n",
       "      <td>...</td>\n",
       "      <td>NaN</td>\n",
       "      <td>NaN</td>\n",
       "      <td>72.0</td>\n",
       "      <td>боевик,драма,мелодрама</td>\n",
       "      <td>NaN</td>\n",
       "      <td>2015</td>\n",
       "      <td>Кевин Костнер</td>\n",
       "      <td>боевик</td>\n",
       "      <td>США</td>\n",
       "      <td>NaN</td>\n",
       "    </tr>\n",
       "    <tr>\n",
       "      <td>1</td>\n",
       "      <td>Особо важное задание</td>\n",
       "      <td>111013716</td>\n",
       "      <td>2016-09-13 12:00:00+00:00</td>\n",
       "      <td>Художественный</td>\n",
       "      <td>Киностудия \"Мосфильм\"</td>\n",
       "      <td>СССР</td>\n",
       "      <td>Е.Матвеев</td>\n",
       "      <td>NaN</td>\n",
       "      <td>«6+» - для детей старше 6 лет</td>\n",
       "      <td>NaN</td>\n",
       "      <td>...</td>\n",
       "      <td>NaN</td>\n",
       "      <td>NaN</td>\n",
       "      <td>66.0</td>\n",
       "      <td>драма,военный</td>\n",
       "      <td>NaN</td>\n",
       "      <td>2016</td>\n",
       "      <td>Е.Матвеев</td>\n",
       "      <td>драма</td>\n",
       "      <td>СССР</td>\n",
       "      <td>NaN</td>\n",
       "    </tr>\n",
       "    <tr>\n",
       "      <td>2</td>\n",
       "      <td>Особо опасен</td>\n",
       "      <td>221038416</td>\n",
       "      <td>2016-10-10 12:00:00+00:00</td>\n",
       "      <td>Художественный</td>\n",
       "      <td>Юниверсал Пикчерз, Кикстарт Продакшнз, Марк Пл...</td>\n",
       "      <td>США</td>\n",
       "      <td>Тимур Бекмамбетов</td>\n",
       "      <td>Джим Лемли, Джейсон Нетер, Марк Е.Платт, Яйн Смит</td>\n",
       "      <td>«18+» - запрещено для детей</td>\n",
       "      <td>NaN</td>\n",
       "      <td>...</td>\n",
       "      <td>NaN</td>\n",
       "      <td>NaN</td>\n",
       "      <td>68.0</td>\n",
       "      <td>фантастика,боевик,триллер</td>\n",
       "      <td>NaN</td>\n",
       "      <td>2016</td>\n",
       "      <td>Тимур Бекмамбетов</td>\n",
       "      <td>фантастика</td>\n",
       "      <td>США</td>\n",
       "      <td>NaN</td>\n",
       "    </tr>\n",
       "    <tr>\n",
       "      <td>3</td>\n",
       "      <td>Особо опасен</td>\n",
       "      <td>221026916</td>\n",
       "      <td>2016-06-10 12:00:00+00:00</td>\n",
       "      <td>Художественный</td>\n",
       "      <td>Юниверсал Пикчерз, Кикстарт Продакшнз, Марк Пл...</td>\n",
       "      <td>США</td>\n",
       "      <td>Тимур Бекмамбетов</td>\n",
       "      <td>Джим Лемли, Джейсон Нетер, Марк Е.Платт, Яйн Смит</td>\n",
       "      <td>«18+» - запрещено для детей</td>\n",
       "      <td>NaN</td>\n",
       "      <td>...</td>\n",
       "      <td>NaN</td>\n",
       "      <td>NaN</td>\n",
       "      <td>68.0</td>\n",
       "      <td>фантастика,боевик,триллер</td>\n",
       "      <td>NaN</td>\n",
       "      <td>2016</td>\n",
       "      <td>Тимур Бекмамбетов</td>\n",
       "      <td>фантастика</td>\n",
       "      <td>США</td>\n",
       "      <td>NaN</td>\n",
       "    </tr>\n",
       "    <tr>\n",
       "      <td>4</td>\n",
       "      <td>Особо опасен</td>\n",
       "      <td>221030815</td>\n",
       "      <td>2015-07-29 12:00:00+00:00</td>\n",
       "      <td>Художественный</td>\n",
       "      <td>Юниверсал Пикчерз, Кикстарт Продакшнз, Марк Пл...</td>\n",
       "      <td>США</td>\n",
       "      <td>Тимур Бекмамбетов</td>\n",
       "      <td>Джим Лемли, Джейсон Нетер, Марк Е.Платт, Яйн Смит</td>\n",
       "      <td>«18+» - запрещено для детей</td>\n",
       "      <td>NaN</td>\n",
       "      <td>...</td>\n",
       "      <td>NaN</td>\n",
       "      <td>NaN</td>\n",
       "      <td>68.0</td>\n",
       "      <td>фантастика,боевик,триллер</td>\n",
       "      <td>NaN</td>\n",
       "      <td>2015</td>\n",
       "      <td>Тимур Бекмамбетов</td>\n",
       "      <td>фантастика</td>\n",
       "      <td>США</td>\n",
       "      <td>NaN</td>\n",
       "    </tr>\n",
       "  </tbody>\n",
       "</table>\n",
       "<p>5 rows × 21 columns</p>\n",
       "</div>"
      ],
      "text/plain": [
       "                  title   puNumber           show_start_date            type  \\\n",
       "0      Открытый простор  221048915 2015-11-27 12:00:00+00:00  Художественный   \n",
       "1  Особо важное задание  111013716 2016-09-13 12:00:00+00:00  Художественный   \n",
       "2          Особо опасен  221038416 2016-10-10 12:00:00+00:00  Художественный   \n",
       "3          Особо опасен  221026916 2016-06-10 12:00:00+00:00  Художественный   \n",
       "4          Особо опасен  221030815 2015-07-29 12:00:00+00:00  Художественный   \n",
       "\n",
       "                                         film_studio production_country  \\\n",
       "0  Тачстоун Пикчерз, Кобальт Пикчерз, Бикон Пикче...                США   \n",
       "1                              Киностудия \"Мосфильм\"               СССР   \n",
       "2  Юниверсал Пикчерз, Кикстарт Продакшнз, Марк Пл...                США   \n",
       "3  Юниверсал Пикчерз, Кикстарт Продакшнз, Марк Пл...                США   \n",
       "4  Юниверсал Пикчерз, Кикстарт Продакшнз, Марк Пл...                США   \n",
       "\n",
       "            director                                           producer  \\\n",
       "0      Кевин Костнер          Дэвид Валдес, Кевин Костнер, Джейк Эбертс   \n",
       "1          Е.Матвеев                                                NaN   \n",
       "2  Тимур Бекмамбетов  Джим Лемли, Джейсон Нетер, Марк Е.Платт, Яйн Смит   \n",
       "3  Тимур Бекмамбетов  Джим Лемли, Джейсон Нетер, Марк Е.Платт, Яйн Смит   \n",
       "4  Тимур Бекмамбетов  Джим Лемли, Джейсон Нетер, Марк Е.Платт, Яйн Смит   \n",
       "\n",
       "                 age_restriction  refundable_support  ...  budget  \\\n",
       "0    «18+» - запрещено для детей                 NaN  ...     NaN   \n",
       "1  «6+» - для детей старше 6 лет                 NaN  ...     NaN   \n",
       "2    «18+» - запрещено для детей                 NaN  ...     NaN   \n",
       "3    «18+» - запрещено для детей                 NaN  ...     NaN   \n",
       "4    «18+» - запрещено для детей                 NaN  ...     NaN   \n",
       "\n",
       "   financing_source ratings                     genres box_office  year  \\\n",
       "0               NaN    72.0     боевик,драма,мелодрама        NaN  2015   \n",
       "1               NaN    66.0              драма,военный        NaN  2016   \n",
       "2               NaN    68.0  фантастика,боевик,триллер        NaN  2016   \n",
       "3               NaN    68.0  фантастика,боевик,триллер        NaN  2016   \n",
       "4               NaN    68.0  фантастика,боевик,триллер        NaN  2015   \n",
       "\n",
       "      first_director first_genres firts_country support  \n",
       "0      Кевин Костнер       боевик           США     NaN  \n",
       "1          Е.Матвеев        драма          СССР     NaN  \n",
       "2  Тимур Бекмамбетов   фантастика           США     NaN  \n",
       "3  Тимур Бекмамбетов   фантастика           США     NaN  \n",
       "4  Тимур Бекмамбетов   фантастика           США     NaN  \n",
       "\n",
       "[5 rows x 21 columns]"
      ]
     },
     "execution_count": 18,
     "metadata": {},
     "output_type": "execute_result"
    }
   ],
   "source": [
    "df['support'] = (df['refundable_support'] + df['nonrefundable_support']) / df['budget']\n",
    "df.head()"
   ]
  },
  {
   "cell_type": "markdown",
   "metadata": {
    "id": "6t4EukPLgFyV"
   },
   "source": [
    "### Шаг 3. Проведите исследовательский анализ данных\n"
   ]
  },
  {
   "cell_type": "markdown",
   "metadata": {
    "id": "vAH8WCzugFyV"
   },
   "source": [
    "- Посмотрите, сколько фильмов выходило в прокат каждый год. Обратите внимание, что данные о прокате в кинотеатрах известны не для всех фильмов. Посчитайте, какую долю составляют фильмы с указанной информацией о прокате в кинотеатрах."
   ]
  },
  {
   "cell_type": "code",
   "execution_count": 19,
   "metadata": {
    "id": "ABeV47y7gFyW"
   },
   "outputs": [
    {
     "data": {
      "text/html": [
       "<style  type=\"text/css\" >\n",
       "    #T_5348efec_8a14_11ec_9825_02420a390cb3row0_col0 {\n",
       "            background-color:  #b40426;\n",
       "            color:  #f1f1f1;\n",
       "        }    #T_5348efec_8a14_11ec_9825_02420a390cb3row1_col0 {\n",
       "            background-color:  #8badfd;\n",
       "            color:  #000000;\n",
       "        }    #T_5348efec_8a14_11ec_9825_02420a390cb3row2_col0 {\n",
       "            background-color:  #7699f6;\n",
       "            color:  #000000;\n",
       "        }    #T_5348efec_8a14_11ec_9825_02420a390cb3row3_col0 {\n",
       "            background-color:  #90b2fe;\n",
       "            color:  #000000;\n",
       "        }    #T_5348efec_8a14_11ec_9825_02420a390cb3row4_col0 {\n",
       "            background-color:  #f5c4ac;\n",
       "            color:  #000000;\n",
       "        }    #T_5348efec_8a14_11ec_9825_02420a390cb3row5_col0 {\n",
       "            background-color:  #c4d5f3;\n",
       "            color:  #000000;\n",
       "        }    #T_5348efec_8a14_11ec_9825_02420a390cb3row6_col0 {\n",
       "            background-color:  #f6bda2;\n",
       "            color:  #000000;\n",
       "        }    #T_5348efec_8a14_11ec_9825_02420a390cb3row7_col0 {\n",
       "            background-color:  #3b4cc0;\n",
       "            color:  #f1f1f1;\n",
       "        }    #T_5348efec_8a14_11ec_9825_02420a390cb3row8_col0 {\n",
       "            background-color:  #ed8366;\n",
       "            color:  #000000;\n",
       "        }    #T_5348efec_8a14_11ec_9825_02420a390cb3row9_col0 {\n",
       "            background-color:  #d95847;\n",
       "            color:  #000000;\n",
       "        }</style><table id=\"T_5348efec_8a14_11ec_9825_02420a390cb3\" ><thead>    <tr>        <th class=\"blank level0\" ></th>        <th class=\"col_heading level0 col0\" >year</th>    </tr>    <tr>        <th class=\"index_name level0\" >year</th>        <th class=\"blank\" ></th>    </tr></thead><tbody>\n",
       "                <tr>\n",
       "                        <th id=\"T_5348efec_8a14_11ec_9825_02420a390cb3level0_row0\" class=\"row_heading level0 row0\" >2010</th>\n",
       "                        <td id=\"T_5348efec_8a14_11ec_9825_02420a390cb3row0_col0\" class=\"data row0 col0\" >984</td>\n",
       "            </tr>\n",
       "            <tr>\n",
       "                        <th id=\"T_5348efec_8a14_11ec_9825_02420a390cb3level0_row1\" class=\"row_heading level0 row1\" >2011</th>\n",
       "                        <td id=\"T_5348efec_8a14_11ec_9825_02420a390cb3row1_col0\" class=\"data row1 col0\" >622</td>\n",
       "            </tr>\n",
       "            <tr>\n",
       "                        <th id=\"T_5348efec_8a14_11ec_9825_02420a390cb3level0_row2\" class=\"row_heading level0 row2\" >2012</th>\n",
       "                        <td id=\"T_5348efec_8a14_11ec_9825_02420a390cb3row2_col0\" class=\"data row2 col0\" >593</td>\n",
       "            </tr>\n",
       "            <tr>\n",
       "                        <th id=\"T_5348efec_8a14_11ec_9825_02420a390cb3level0_row3\" class=\"row_heading level0 row3\" >2013</th>\n",
       "                        <td id=\"T_5348efec_8a14_11ec_9825_02420a390cb3row3_col0\" class=\"data row3 col0\" >629</td>\n",
       "            </tr>\n",
       "            <tr>\n",
       "                        <th id=\"T_5348efec_8a14_11ec_9825_02420a390cb3level0_row4\" class=\"row_heading level0 row4\" >2014</th>\n",
       "                        <td id=\"T_5348efec_8a14_11ec_9825_02420a390cb3row4_col0\" class=\"data row4 col0\" >806</td>\n",
       "            </tr>\n",
       "            <tr>\n",
       "                        <th id=\"T_5348efec_8a14_11ec_9825_02420a390cb3level0_row5\" class=\"row_heading level0 row5\" >2015</th>\n",
       "                        <td id=\"T_5348efec_8a14_11ec_9825_02420a390cb3row5_col0\" class=\"data row5 col0\" >703</td>\n",
       "            </tr>\n",
       "            <tr>\n",
       "                        <th id=\"T_5348efec_8a14_11ec_9825_02420a390cb3level0_row6\" class=\"row_heading level0 row6\" >2016</th>\n",
       "                        <td id=\"T_5348efec_8a14_11ec_9825_02420a390cb3row6_col0\" class=\"data row6 col0\" >817</td>\n",
       "            </tr>\n",
       "            <tr>\n",
       "                        <th id=\"T_5348efec_8a14_11ec_9825_02420a390cb3level0_row7\" class=\"row_heading level0 row7\" >2017</th>\n",
       "                        <td id=\"T_5348efec_8a14_11ec_9825_02420a390cb3row7_col0\" class=\"data row7 col0\" >505</td>\n",
       "            </tr>\n",
       "            <tr>\n",
       "                        <th id=\"T_5348efec_8a14_11ec_9825_02420a390cb3level0_row8\" class=\"row_heading level0 row8\" >2018</th>\n",
       "                        <td id=\"T_5348efec_8a14_11ec_9825_02420a390cb3row8_col0\" class=\"data row8 col0\" >889</td>\n",
       "            </tr>\n",
       "            <tr>\n",
       "                        <th id=\"T_5348efec_8a14_11ec_9825_02420a390cb3level0_row9\" class=\"row_heading level0 row9\" >2019</th>\n",
       "                        <td id=\"T_5348efec_8a14_11ec_9825_02420a390cb3row9_col0\" class=\"data row9 col0\" >930</td>\n",
       "            </tr>\n",
       "    </tbody></table>"
      ],
      "text/plain": [
       "<pandas.io.formats.style.Styler at 0x7f4488ffad50>"
      ]
     },
     "execution_count": 19,
     "metadata": {},
     "output_type": "execute_result"
    }
   ],
   "source": [
    "df_filtred_year = df.sort_values(by = 'year', ascending = False).groupby('year')['year'].count()\n",
    "df_filtred_year.to_frame().style.background_gradient('coolwarm')"
   ]
  },
  {
   "cell_type": "markdown",
   "metadata": {},
   "source": [
    "Больше всего фильмов выходило в 2010 и 2019 годах, при это мы видим большую просаадку в 2017"
   ]
  },
  {
   "cell_type": "markdown",
   "metadata": {},
   "source": [
    "100% доля фильмов с указанной информацией о прокате в кинотеатрах, это видно из данных в начале работы"
   ]
  },
  {
   "cell_type": "markdown",
   "metadata": {
    "id": "BEOdcIrIgFyW"
   },
   "source": [
    "- Изучите, как менялась динамика проката по годам. В каком году сумма сборов была минимальной? А максимальной?"
   ]
  },
  {
   "cell_type": "code",
   "execution_count": 20,
   "metadata": {
    "id": "tfEhofYvgFyX"
   },
   "outputs": [
    {
     "data": {
      "image/png": "[encoded data removed]",
      "text/plain": [
       "<Figure size 432x288 with 1 Axes>"
      ]
     },
     "metadata": {
      "needs_background": "light"
     },
     "output_type": "display_data"
    }
   ],
   "source": [
    "df_filtred_box_office = df.groupby('year')['box_office'].sum()\n",
    "df_filtred_box_office.plot(x='box_office', y='year', kind='bar');\n",
    "#df_filtred_box_office.to_frame().style.background_gradient('coolwarm')"
   ]
  },
  {
   "cell_type": "markdown",
   "metadata": {},
   "source": [
    "Самые высокие сборы показывает 2018 год(может потому что вышли мстители : война бесконечности)."
   ]
  },
  {
   "cell_type": "markdown",
   "metadata": {
    "id": "G-7qS-N-gFyY"
   },
   "source": [
    "- С помощью сводной таблицы посчитайте среднюю и медианную сумму сборов для каждого года."
   ]
  },
  {
   "cell_type": "code",
   "execution_count": 21,
   "metadata": {
    "id": "jmp-rgg9gFyY",
    "scrolled": true
   },
   "outputs": [
    {
     "data": {
      "image/png": "[encoded data removed]",
      "text/plain": [
       "<Figure size 432x288 with 1 Axes>"
      ]
     },
     "metadata": {
      "needs_background": "light"
     },
     "output_type": "display_data"
    }
   ],
   "source": [
    "#box_office_year = df.pivot_table(index='year', values='box_office', aggfunc=['mean', 'median'])\n",
    "box_office_year = df.groupby('year')['box_office'].mean()\n",
    "box_office_year.plot(kind='bar');\n"
   ]
  },
  {
   "cell_type": "code",
   "execution_count": 22,
   "metadata": {},
   "outputs": [
    {
     "data": {
      "image/png": "[encoded data removed]",
      "text/plain": [
       "<Figure size 432x288 with 1 Axes>"
      ]
     },
     "metadata": {
      "needs_background": "light"
     },
     "output_type": "display_data"
    }
   ],
   "source": [
    "box_office_year_median = df.groupby('year')['box_office'].median()\n",
    "box_office_year_median.plot(kind='bar');"
   ]
  },
  {
   "cell_type": "markdown",
   "metadata": {},
   "source": [
    "Самые высокие сборы были в 2017-18 годах, в отрицательном плане отличились 2010 и 2012 года. "
   ]
  },
  {
   "cell_type": "code",
   "execution_count": 23,
   "metadata": {},
   "outputs": [
    {
     "data": {
      "text/html": [
       "<div>\n",
       "<style scoped>\n",
       "    .dataframe tbody tr th:only-of-type {\n",
       "        vertical-align: middle;\n",
       "    }\n",
       "\n",
       "    .dataframe tbody tr th {\n",
       "        vertical-align: top;\n",
       "    }\n",
       "\n",
       "    .dataframe thead tr th {\n",
       "        text-align: left;\n",
       "    }\n",
       "\n",
       "    .dataframe thead tr:last-of-type th {\n",
       "        text-align: right;\n",
       "    }\n",
       "</style>\n",
       "<table border=\"1\" class=\"dataframe\">\n",
       "  <thead>\n",
       "    <tr>\n",
       "      <th></th>\n",
       "      <th>mean</th>\n",
       "      <th>median</th>\n",
       "    </tr>\n",
       "    <tr>\n",
       "      <th></th>\n",
       "      <th>box_office</th>\n",
       "      <th>box_office</th>\n",
       "    </tr>\n",
       "    <tr>\n",
       "      <th>year</th>\n",
       "      <th></th>\n",
       "      <th></th>\n",
       "    </tr>\n",
       "  </thead>\n",
       "  <tbody>\n",
       "    <tr>\n",
       "      <td>2010</td>\n",
       "      <td>23130.0</td>\n",
       "      <td>1700.0</td>\n",
       "    </tr>\n",
       "    <tr>\n",
       "      <td>2011</td>\n",
       "      <td>129383.0</td>\n",
       "      <td>3000.0</td>\n",
       "    </tr>\n",
       "    <tr>\n",
       "      <td>2012</td>\n",
       "      <td>54339.0</td>\n",
       "      <td>5660.0</td>\n",
       "    </tr>\n",
       "    <tr>\n",
       "      <td>2013</td>\n",
       "      <td>161955.0</td>\n",
       "      <td>3522.0</td>\n",
       "    </tr>\n",
       "    <tr>\n",
       "      <td>2014</td>\n",
       "      <td>26684415.0</td>\n",
       "      <td>18160.0</td>\n",
       "    </tr>\n",
       "    <tr>\n",
       "      <td>2015</td>\n",
       "      <td>85276804.0</td>\n",
       "      <td>4920933.0</td>\n",
       "    </tr>\n",
       "    <tr>\n",
       "      <td>2016</td>\n",
       "      <td>91173271.0</td>\n",
       "      <td>3915041.0</td>\n",
       "    </tr>\n",
       "    <tr>\n",
       "      <td>2017</td>\n",
       "      <td>136032793.0</td>\n",
       "      <td>9968340.0</td>\n",
       "    </tr>\n",
       "    <tr>\n",
       "      <td>2018</td>\n",
       "      <td>104565059.0</td>\n",
       "      <td>8891102.0</td>\n",
       "    </tr>\n",
       "    <tr>\n",
       "      <td>2019</td>\n",
       "      <td>91369262.0</td>\n",
       "      <td>4627798.0</td>\n",
       "    </tr>\n",
       "  </tbody>\n",
       "</table>\n",
       "</div>"
      ],
      "text/plain": [
       "             mean     median\n",
       "       box_office box_office\n",
       "year                        \n",
       "2010      23130.0     1700.0\n",
       "2011     129383.0     3000.0\n",
       "2012      54339.0     5660.0\n",
       "2013     161955.0     3522.0\n",
       "2014   26684415.0    18160.0\n",
       "2015   85276804.0  4920933.0\n",
       "2016   91173271.0  3915041.0\n",
       "2017  136032793.0  9968340.0\n",
       "2018  104565059.0  8891102.0\n",
       "2019   91369262.0  4627798.0"
      ]
     },
     "execution_count": 23,
     "metadata": {},
     "output_type": "execute_result"
    }
   ],
   "source": [
    "df.pivot_table(index='year', values='box_office', aggfunc=['mean', 'median']).round()"
   ]
  },
  {
   "cell_type": "markdown",
   "metadata": {
    "id": "Ok89WFwJgFyZ"
   },
   "source": [
    "- Определите, влияет ли возрастное ограничение аудитории («6+», «12+», «16+», «18+» и т. д.) на сборы фильма в прокате в период с 2015 по 2019 год? Фильмы с каким возрастным ограничением собрали больше всего денег в прокате? Меняется ли картина в зависимости от года? Если да, предположите, с чем это может быть связано."
   ]
  },
  {
   "cell_type": "code",
   "execution_count": 24,
   "metadata": {
    "id": "jsSbEqfjgFya"
   },
   "outputs": [
    {
     "data": {
      "text/html": [
       "<div>\n",
       "<style scoped>\n",
       "    .dataframe tbody tr th:only-of-type {\n",
       "        vertical-align: middle;\n",
       "    }\n",
       "\n",
       "    .dataframe tbody tr th {\n",
       "        vertical-align: top;\n",
       "    }\n",
       "\n",
       "    .dataframe thead th {\n",
       "        text-align: right;\n",
       "    }\n",
       "</style>\n",
       "<table border=\"1\" class=\"dataframe\">\n",
       "  <thead>\n",
       "    <tr style=\"text-align: right;\">\n",
       "      <th></th>\n",
       "      <th>all years</th>\n",
       "      <th>2016</th>\n",
       "      <th>2015</th>\n",
       "      <th>2017</th>\n",
       "      <th>2018</th>\n",
       "      <th>2019</th>\n",
       "    </tr>\n",
       "    <tr>\n",
       "      <th>age_restriction</th>\n",
       "      <th></th>\n",
       "      <th></th>\n",
       "      <th></th>\n",
       "      <th></th>\n",
       "      <th></th>\n",
       "      <th></th>\n",
       "    </tr>\n",
       "  </thead>\n",
       "  <tbody>\n",
       "    <tr>\n",
       "      <td>«0+» - для любой зрительской аудитории</td>\n",
       "      <td>2943318</td>\n",
       "      <td>2880098</td>\n",
       "      <td>2943318</td>\n",
       "      <td>3885434</td>\n",
       "      <td>3751185</td>\n",
       "      <td>3885434</td>\n",
       "    </tr>\n",
       "    <tr>\n",
       "      <td>«12+» - для детей старше 12 лет</td>\n",
       "      <td>5175580</td>\n",
       "      <td>4732610</td>\n",
       "      <td>5175580</td>\n",
       "      <td>4732610</td>\n",
       "      <td>4378960</td>\n",
       "      <td>3405545</td>\n",
       "    </tr>\n",
       "    <tr>\n",
       "      <td>«16+» - для детей старше 16 лет</td>\n",
       "      <td>5667338</td>\n",
       "      <td>5667952</td>\n",
       "      <td>5667338</td>\n",
       "      <td>5956132</td>\n",
       "      <td>5079536</td>\n",
       "      <td>3210717</td>\n",
       "    </tr>\n",
       "    <tr>\n",
       "      <td>«18+» - запрещено для детей</td>\n",
       "      <td>6154439</td>\n",
       "      <td>6466949</td>\n",
       "      <td>6154439</td>\n",
       "      <td>6720891</td>\n",
       "      <td>6253034</td>\n",
       "      <td>5603216</td>\n",
       "    </tr>\n",
       "    <tr>\n",
       "      <td>«6+» - для детей старше 6 лет</td>\n",
       "      <td>13736207</td>\n",
       "      <td>12525531</td>\n",
       "      <td>13736207</td>\n",
       "      <td>18766750</td>\n",
       "      <td>14458669</td>\n",
       "      <td>12875350</td>\n",
       "    </tr>\n",
       "  </tbody>\n",
       "</table>\n",
       "</div>"
      ],
      "text/plain": [
       "                                        all years      2016      2015  \\\n",
       "age_restriction                                                         \n",
       "«0+» - для любой зрительской аудитории    2943318   2880098   2943318   \n",
       "«12+» - для детей старше 12 лет           5175580   4732610   5175580   \n",
       "«16+» - для детей старше 16 лет           5667338   5667952   5667338   \n",
       "«18+» - запрещено для детей               6154439   6466949   6154439   \n",
       "«6+» - для детей старше 6 лет            13736207  12525531  13736207   \n",
       "\n",
       "                                            2017      2018      2019  \n",
       "age_restriction                                                       \n",
       "«0+» - для любой зрительской аудитории   3885434   3751185   3885434  \n",
       "«12+» - для детей старше 12 лет          4732610   4378960   3405545  \n",
       "«16+» - для детей старше 16 лет          5956132   5079536   3210717  \n",
       "«18+» - запрещено для детей              6720891   6253034   5603216  \n",
       "«6+» - для детей старше 6 лет           18766750  14458669  12875350  "
      ]
     },
     "execution_count": 24,
     "metadata": {},
     "output_type": "execute_result"
    }
   ],
   "source": [
    "def agg_by_year(data): \n",
    "    return (data.groupby('age_restriction')['box_office'] \n",
    "     .median() \n",
    "     .astype('int64') \n",
    "     .to_frame()) \n",
    " \n",
    "data_filtered_2015_2019 = df.query('box_office > 0 and year >= 2015') \n",
    " \n",
    "result = agg_by_year(data_filtered_2015_2019) \n",
    "columns = ['all years'] \n",
    " \n",
    "for year in data_filtered_2015_2019['year'].unique(): \n",
    "    columns.append(year) \n",
    "    result = result.join(agg_by_year(data_filtered_2015_2019.query('year >= @year')), lsuffix=year) \n",
    " \n",
    "result.columns = columns \n",
    "result"
   ]
  },
  {
   "cell_type": "markdown",
   "metadata": {},
   "source": [
    "Самые высокие сборы у фильмов категории 6+, скорее всего потому что туда ходят родители с детьми, получается несколько билетов сразу + вы когда нибудь были в кинотеатре в сб-вс утром? там на мультиках всегда залы целиком забиты."
   ]
  },
  {
   "cell_type": "markdown",
   "metadata": {
    "id": "l_Kg6Ku4gFya"
   },
   "source": [
    "### Шаг 4. Исследуйте фильмы, которые получили государственную поддержку\n",
    "\n",
    "На этом этапе нет конкретных инструкций и заданий — поищите интересные закономерности в данных. Посмотрите, сколько выделяют средств на поддержку кино. Проверьте, хорошо ли окупаются такие фильмы, какой у них рейтинг."
   ]
  },
  {
   "cell_type": "code",
   "execution_count": 25,
   "metadata": {
    "id": "W9QKpjUdgFyb"
   },
   "outputs": [],
   "source": [
    "df_filtred_support = df.query('refundable_support > 0 or nonrefundable_support > 0')\n",
    "df_filtred_nosupport = pd.concat([df_filtred_support, df]).drop_duplicates(keep=False).query('firts_country == \"Россия\"')"
   ]
  },
  {
   "cell_type": "code",
   "execution_count": 26,
   "metadata": {},
   "outputs": [
    {
     "data": {
      "text/html": [
       "<div>\n",
       "<style scoped>\n",
       "    .dataframe tbody tr th:only-of-type {\n",
       "        vertical-align: middle;\n",
       "    }\n",
       "\n",
       "    .dataframe tbody tr th {\n",
       "        vertical-align: top;\n",
       "    }\n",
       "\n",
       "    .dataframe thead th {\n",
       "        text-align: right;\n",
       "    }\n",
       "</style>\n",
       "<table border=\"1\" class=\"dataframe\">\n",
       "  <thead>\n",
       "    <tr style=\"text-align: right;\">\n",
       "      <th></th>\n",
       "      <th>refundable_support</th>\n",
       "      <th>nonrefundable_support</th>\n",
       "      <th>budget</th>\n",
       "      <th>ratings</th>\n",
       "      <th>box_office</th>\n",
       "      <th>year</th>\n",
       "      <th>support</th>\n",
       "    </tr>\n",
       "  </thead>\n",
       "  <tbody>\n",
       "    <tr>\n",
       "      <td>refundable_support</td>\n",
       "      <td>1.000000</td>\n",
       "      <td>0.359622</td>\n",
       "      <td>0.649396</td>\n",
       "      <td>-0.003797</td>\n",
       "      <td>0.312137</td>\n",
       "      <td>0.089616</td>\n",
       "      <td>0.053570</td>\n",
       "    </tr>\n",
       "    <tr>\n",
       "      <td>nonrefundable_support</td>\n",
       "      <td>0.359622</td>\n",
       "      <td>1.000000</td>\n",
       "      <td>0.618888</td>\n",
       "      <td>0.125646</td>\n",
       "      <td>0.455729</td>\n",
       "      <td>0.117645</td>\n",
       "      <td>0.104485</td>\n",
       "    </tr>\n",
       "    <tr>\n",
       "      <td>budget</td>\n",
       "      <td>0.649396</td>\n",
       "      <td>0.618888</td>\n",
       "      <td>1.000000</td>\n",
       "      <td>0.090791</td>\n",
       "      <td>0.375287</td>\n",
       "      <td>0.163233</td>\n",
       "      <td>-0.253991</td>\n",
       "    </tr>\n",
       "    <tr>\n",
       "      <td>ratings</td>\n",
       "      <td>-0.003797</td>\n",
       "      <td>0.125646</td>\n",
       "      <td>0.090791</td>\n",
       "      <td>1.000000</td>\n",
       "      <td>0.143755</td>\n",
       "      <td>0.024965</td>\n",
       "      <td>-0.090163</td>\n",
       "    </tr>\n",
       "    <tr>\n",
       "      <td>box_office</td>\n",
       "      <td>0.312137</td>\n",
       "      <td>0.455729</td>\n",
       "      <td>0.375287</td>\n",
       "      <td>0.143755</td>\n",
       "      <td>1.000000</td>\n",
       "      <td>0.119278</td>\n",
       "      <td>-0.070156</td>\n",
       "    </tr>\n",
       "    <tr>\n",
       "      <td>year</td>\n",
       "      <td>0.089616</td>\n",
       "      <td>0.117645</td>\n",
       "      <td>0.163233</td>\n",
       "      <td>0.024965</td>\n",
       "      <td>0.119278</td>\n",
       "      <td>1.000000</td>\n",
       "      <td>-0.056099</td>\n",
       "    </tr>\n",
       "    <tr>\n",
       "      <td>support</td>\n",
       "      <td>0.053570</td>\n",
       "      <td>0.104485</td>\n",
       "      <td>-0.253991</td>\n",
       "      <td>-0.090163</td>\n",
       "      <td>-0.070156</td>\n",
       "      <td>-0.056099</td>\n",
       "      <td>1.000000</td>\n",
       "    </tr>\n",
       "  </tbody>\n",
       "</table>\n",
       "</div>"
      ],
      "text/plain": [
       "                       refundable_support  nonrefundable_support    budget  \\\n",
       "refundable_support               1.000000               0.359622  0.649396   \n",
       "nonrefundable_support            0.359622               1.000000  0.618888   \n",
       "budget                           0.649396               0.618888  1.000000   \n",
       "ratings                         -0.003797               0.125646  0.090791   \n",
       "box_office                       0.312137               0.455729  0.375287   \n",
       "year                             0.089616               0.117645  0.163233   \n",
       "support                          0.053570               0.104485 -0.253991   \n",
       "\n",
       "                        ratings  box_office      year   support  \n",
       "refundable_support    -0.003797    0.312137  0.089616  0.053570  \n",
       "nonrefundable_support  0.125646    0.455729  0.117645  0.104485  \n",
       "budget                 0.090791    0.375287  0.163233 -0.253991  \n",
       "ratings                1.000000    0.143755  0.024965 -0.090163  \n",
       "box_office             0.143755    1.000000  0.119278 -0.070156  \n",
       "year                   0.024965    0.119278  1.000000 -0.056099  \n",
       "support               -0.090163   -0.070156 -0.056099  1.000000  "
      ]
     },
     "execution_count": 26,
     "metadata": {},
     "output_type": "execute_result"
    }
   ],
   "source": [
    "df_filtred_support.corr()"
   ]
  },
  {
   "cell_type": "markdown",
   "metadata": {},
   "source": [
    "Из корреляции мы видим что особой зависимости между поддержкой, рейтингом ленты и сборами нет.\n",
    "Совсем слабая корреляция имеется между незовратной поддержкой и сборами, возможно потому что режиссер не боится эксперементировать, когда возвращать деньги не надо."
   ]
  },
  {
   "cell_type": "code",
   "execution_count": 27,
   "metadata": {
    "scrolled": false
   },
   "outputs": [
    {
     "data": {
      "image/png": "[encoded data removed]",
      "text/plain": [
       "<Figure size 432x288 with 1 Axes>"
      ]
     },
     "metadata": {
      "needs_background": "light"
     },
     "output_type": "display_data"
    }
   ],
   "source": [
    "#df_filtred_support.query('first_genres != \"-\"').pivot_table(index='first_genres', values=['box_office', 'ratings'], aggfunc='mean').sort_values(by='box_office', ascending = False)\n",
    "df_filtred_support.query('first_genres != \"-\"').pivot_table(index='first_genres', values=['box_office'], aggfunc='mean').sort_values(by='box_office', ascending = False).plot(kind='bar');"
   ]
  },
  {
   "cell_type": "code",
   "execution_count": 28,
   "metadata": {},
   "outputs": [
    {
     "data": {
      "image/png": "[encoded data removed]",
      "text/plain": [
       "<Figure size 432x288 with 1 Axes>"
      ]
     },
     "metadata": {
      "needs_background": "light"
     },
     "output_type": "display_data"
    }
   ],
   "source": [
    "df_filtred_support.query('first_genres != \"-\"').pivot_table(index='first_genres', values=['ratings'], aggfunc='mean').sort_values(by='ratings', ascending = False).plot(kind='bar');"
   ]
  },
  {
   "cell_type": "markdown",
   "metadata": {},
   "source": [
    "Видно, что лучше всего в среднем приносят деньги исторические и спортивные фильмы, в то время как мелодрамы и детские фильмы находятся в конце списка.\n",
    "При этом самые высокие оценки ставят детским фильмам и криминалу, в то же время самые низкие у ужасов и исторических фильмов"
   ]
  },
  {
   "cell_type": "code",
   "execution_count": 29,
   "metadata": {},
   "outputs": [
    {
     "data": {
      "image/png": "[encoded data removed]",
      "text/plain": [
       "<Figure size 432x288 with 1 Axes>"
      ]
     },
     "metadata": {
      "needs_background": "light"
     },
     "output_type": "display_data"
    }
   ],
   "source": [
    "df_filtred_nosupport.query('first_genres != \"-\"').pivot_table(index='first_genres', values=['box_office'], aggfunc='mean').sort_values(by='box_office', ascending = False).plot(kind='bar');"
   ]
  },
  {
   "cell_type": "code",
   "execution_count": 30,
   "metadata": {},
   "outputs": [
    {
     "data": {
      "image/png": "[encoded data removed]",
      "text/plain": [
       "<Figure size 432x288 with 1 Axes>"
      ]
     },
     "metadata": {
      "needs_background": "light"
     },
     "output_type": "display_data"
    }
   ],
   "source": [
    "df_filtred_nosupport.query('first_genres != \"-\"').pivot_table(index='first_genres', values=['ratings'], aggfunc='mean').sort_values(by='ratings', ascending = False).plot(kind='bar');"
   ]
  },
  {
   "cell_type": "markdown",
   "metadata": {},
   "source": [
    "Среди не финансируемых фильмов наибольшую кассу собирают биографии и детективы, а самые высокие рейтинги у вестернов и мюзиклов"
   ]
  },
  {
   "cell_type": "code",
   "execution_count": 31,
   "metadata": {
    "scrolled": false
   },
   "outputs": [
    {
     "data": {
      "image/png": "[encoded data removed]",
      "text/plain": [
       "<Figure size 432x288 with 1 Axes>"
      ]
     },
     "metadata": {
      "needs_background": "light"
     },
     "output_type": "display_data"
    }
   ],
   "source": [
    "df_filtred_support.pivot_table(index='age_restriction', values=['box_office'], aggfunc='mean').sort_values(by='box_office', ascending = False).plot(kind='bar');"
   ]
  },
  {
   "cell_type": "markdown",
   "metadata": {},
   "source": [
    "Видно, что у фильмов с гос поддержкой примерно одинаковые сборы , кроме 18+, у них очень маленькие сборы по сравнению с остальными возрастными категориями."
   ]
  },
  {
   "cell_type": "code",
   "execution_count": 32,
   "metadata": {},
   "outputs": [
    {
     "data": {
      "image/png": "[encoded data removed]",
      "text/plain": [
       "<Figure size 432x288 with 1 Axes>"
      ]
     },
     "metadata": {
      "needs_background": "light"
     },
     "output_type": "display_data"
    }
   ],
   "source": [
    "df_filtred_nosupport.pivot_table(index='age_restriction', values=['box_office'], aggfunc='mean').sort_values(by='box_office', ascending = False).plot(kind='bar');"
   ]
  },
  {
   "cell_type": "markdown",
   "metadata": {},
   "source": [
    "У фильмов без гос поддержки все фильмы собирают примерно одинаковую кассу, в то время как 0+ держится позади"
   ]
  },
  {
   "cell_type": "code",
   "execution_count": 33,
   "metadata": {},
   "outputs": [
    {
     "data": {
      "image/png": "[encoded data removed]",
      "text/plain": [
       "<Figure size 432x288 with 1 Axes>"
      ]
     },
     "metadata": {
      "needs_background": "light"
     },
     "output_type": "display_data"
    }
   ],
   "source": [
    "df_filtred_support.pivot_table(index='type', values=['box_office'], aggfunc='mean').sort_values(by='box_office', ascending = False).plot(kind='bar');"
   ]
  },
  {
   "cell_type": "markdown",
   "metadata": {},
   "source": [
    "В среднем анимационные фильмы приносят немного больше, чем художественные фильмы, среди финансируемых фильмов"
   ]
  },
  {
   "cell_type": "code",
   "execution_count": 34,
   "metadata": {
    "scrolled": false
   },
   "outputs": [
    {
     "data": {
      "image/png": "[encoded data removed]",
      "text/plain": [
       "<Figure size 432x288 with 1 Axes>"
      ]
     },
     "metadata": {
      "needs_background": "light"
     },
     "output_type": "display_data"
    }
   ],
   "source": [
    "df_filtred_nosupport.pivot_table(index='type', values=['box_office', 'ratings'], aggfunc='mean').sort_values(by='box_office', ascending = False).plot(kind='bar');"
   ]
  },
  {
   "cell_type": "markdown",
   "metadata": {},
   "source": [
    "у не финансируемых фильмов наибольшие кассы собирают художественные фильмы, остальные, по сравнению с худ.фильмами вообще не собирают кассу."
   ]
  },
  {
   "cell_type": "markdown",
   "metadata": {
    "id": "V2gYwMcPgFyd"
   },
   "source": [
    "### Шаг 5. Напишите общий вывод"
   ]
  },
  {
   "cell_type": "markdown",
   "metadata": {},
   "source": [
    "На основании данных из проведенного исследования можно сказать, что фильмы с гос поддержкой в среднем приносят больше `box_office`, чем фильмы без поддержки, рейтинги у фильмов примерно одинаковые.\n",
    "Наиболее выгодно финансировать в фильмы: для детей старше 6 лет, спортивные и исторические фильмы, с обратной стороны дестские фильмы и мелодрамы не приносят большую кассу, хоть и имеют хороший рейтинг(детские)."
   ]
  }
 ],
 "metadata": {
  "ExecuteTimeLog": [
   {
    "duration": 537,
    "start_time": "2021-07-07T10:12:08.634Z"
   },
   {
    "duration": 206,
    "start_time": "2021-07-07T10:12:30.191Z"
   },
   {
    "duration": 227,
    "start_time": "2021-07-07T10:12:33.078Z"
   },
   {
    "duration": 153,
    "start_time": "2021-07-07T10:13:42.146Z"
   },
   {
    "duration": 233,
    "start_time": "2021-07-07T10:30:09.252Z"
   },
   {
    "duration": 19,
    "start_time": "2021-07-07T10:30:15.577Z"
   },
   {
    "duration": 18,
    "start_time": "2021-07-07T10:30:57.348Z"
   },
   {
    "duration": 19,
    "start_time": "2021-07-07T10:31:17.452Z"
   },
   {
    "duration": 21,
    "start_time": "2021-07-07T10:31:32.227Z"
   },
   {
    "duration": 27,
    "start_time": "2021-07-07T10:32:06.588Z"
   },
   {
    "duration": 23,
    "start_time": "2021-07-07T10:32:43.645Z"
   },
   {
    "duration": 24,
    "start_time": "2021-07-07T10:33:06.948Z"
   },
   {
    "duration": 7,
    "start_time": "2021-07-07T10:33:28.558Z"
   },
   {
    "duration": 23,
    "start_time": "2021-07-07T10:33:43.761Z"
   },
   {
    "duration": 28,
    "start_time": "2021-07-07T10:34:13.466Z"
   },
   {
    "duration": 23,
    "start_time": "2021-07-07T10:35:56.187Z"
   },
   {
    "duration": 6,
    "start_time": "2021-07-07T10:36:48.182Z"
   },
   {
    "duration": 14,
    "start_time": "2021-07-07T10:37:49.641Z"
   },
   {
    "duration": 6,
    "start_time": "2021-07-07T10:38:06.694Z"
   },
   {
    "duration": 6,
    "start_time": "2021-07-07T10:38:13.493Z"
   },
   {
    "duration": 19,
    "start_time": "2021-07-07T10:38:44.056Z"
   },
   {
    "duration": 186,
    "start_time": "2021-07-07T10:48:35.618Z"
   },
   {
    "duration": 24,
    "start_time": "2021-07-07T10:48:51.498Z"
   },
   {
    "duration": 20,
    "start_time": "2021-07-07T10:48:59.415Z"
   },
   {
    "duration": 20,
    "start_time": "2021-07-07T10:53:02.195Z"
   },
   {
    "duration": 188,
    "start_time": "2021-07-07T10:54:40.486Z"
   },
   {
    "duration": 115,
    "start_time": "2021-07-07T10:54:52.552Z"
   },
   {
    "duration": 214,
    "start_time": "2021-07-07T10:54:56.354Z"
   },
   {
    "duration": 47,
    "start_time": "2021-07-07T10:54:58.282Z"
   },
   {
    "duration": 217,
    "start_time": "2021-07-07T10:59:16.075Z"
   },
   {
    "duration": 51,
    "start_time": "2021-07-07T10:59:16.243Z"
   },
   {
    "duration": 578,
    "start_time": "2021-07-07T10:59:18.774Z"
   },
   {
    "duration": 161,
    "start_time": "2021-07-07T10:59:21.238Z"
   },
   {
    "duration": 59,
    "start_time": "2021-07-07T10:59:21.453Z"
   },
   {
    "duration": 3,
    "start_time": "2021-07-07T11:02:10.786Z"
   },
   {
    "duration": 13,
    "start_time": "2021-07-07T11:07:07.722Z"
   },
   {
    "duration": 26,
    "start_time": "2021-07-07T11:07:17.958Z"
   },
   {
    "duration": 22,
    "start_time": "2021-07-07T11:08:17.939Z"
   },
   {
    "duration": 212,
    "start_time": "2021-07-07T11:08:19.665Z"
   },
   {
    "duration": 21,
    "start_time": "2021-07-07T11:08:29.945Z"
   },
   {
    "duration": 31,
    "start_time": "2021-07-07T11:08:38.899Z"
   },
   {
    "duration": 23,
    "start_time": "2021-07-07T11:08:54.527Z"
   },
   {
    "duration": 8,
    "start_time": "2021-07-07T11:18:55.974Z"
   },
   {
    "duration": 7,
    "start_time": "2021-07-07T11:19:03.639Z"
   },
   {
    "duration": 7,
    "start_time": "2021-07-07T11:19:06.444Z"
   },
   {
    "duration": 578,
    "start_time": "2021-07-07T12:09:59.576Z"
   },
   {
    "duration": 195,
    "start_time": "2021-07-07T12:10:00.156Z"
   },
   {
    "duration": 115,
    "start_time": "2021-07-07T12:10:00.353Z"
   },
   {
    "duration": 3,
    "start_time": "2021-07-07T12:10:00.470Z"
   },
   {
    "duration": 32,
    "start_time": "2021-07-07T12:10:00.474Z"
   },
   {
    "duration": 23,
    "start_time": "2021-07-07T12:10:00.508Z"
   },
   {
    "duration": 19,
    "start_time": "2021-07-07T12:10:00.533Z"
   },
   {
    "duration": 44,
    "start_time": "2021-07-07T12:10:00.553Z"
   },
   {
    "duration": 7,
    "start_time": "2021-07-07T12:10:00.600Z"
   },
   {
    "duration": 7,
    "start_time": "2021-07-07T12:19:45.761Z"
   },
   {
    "duration": 21,
    "start_time": "2021-07-07T12:21:35.482Z"
   },
   {
    "duration": 21,
    "start_time": "2021-07-07T12:29:23.569Z"
   },
   {
    "duration": 525,
    "start_time": "2021-07-07T12:29:44.542Z"
   },
   {
    "duration": 214,
    "start_time": "2021-07-07T12:29:45.069Z"
   },
   {
    "duration": 92,
    "start_time": "2021-07-07T12:29:45.285Z"
   },
   {
    "duration": 3,
    "start_time": "2021-07-07T12:29:45.379Z"
   },
   {
    "duration": 28,
    "start_time": "2021-07-07T12:29:45.384Z"
   },
   {
    "duration": 23,
    "start_time": "2021-07-07T12:29:45.413Z"
   },
   {
    "duration": 21,
    "start_time": "2021-07-07T12:29:45.437Z"
   },
   {
    "duration": 41,
    "start_time": "2021-07-07T12:29:45.460Z"
   },
   {
    "duration": 7,
    "start_time": "2021-07-07T12:29:45.502Z"
   },
   {
    "duration": 20,
    "start_time": "2021-07-07T12:29:45.511Z"
   },
   {
    "duration": 12,
    "start_time": "2021-07-07T12:34:02.800Z"
   },
   {
    "duration": 7,
    "start_time": "2021-07-07T12:35:10.479Z"
   },
   {
    "duration": 8,
    "start_time": "2021-07-07T12:35:22.440Z"
   },
   {
    "duration": 6,
    "start_time": "2021-07-07T12:35:35.649Z"
   },
   {
    "duration": 6,
    "start_time": "2021-07-07T12:35:43.107Z"
   },
   {
    "duration": 22,
    "start_time": "2021-07-07T12:38:03.029Z"
   },
   {
    "duration": 10,
    "start_time": "2021-07-07T12:38:06.592Z"
   },
   {
    "duration": 563,
    "start_time": "2021-07-07T12:38:46.493Z"
   },
   {
    "duration": 265,
    "start_time": "2021-07-07T12:38:47.058Z"
   },
   {
    "duration": 94,
    "start_time": "2021-07-07T12:38:47.325Z"
   },
   {
    "duration": 3,
    "start_time": "2021-07-07T12:38:47.422Z"
   },
   {
    "duration": 30,
    "start_time": "2021-07-07T12:38:47.427Z"
   },
   {
    "duration": 16,
    "start_time": "2021-07-07T12:38:53.305Z"
   },
   {
    "duration": 10,
    "start_time": "2021-07-07T12:38:53.499Z"
   },
   {
    "duration": 8,
    "start_time": "2021-07-07T12:39:48.161Z"
   },
   {
    "duration": 27,
    "start_time": "2021-07-07T12:41:17.629Z"
   },
   {
    "duration": 17,
    "start_time": "2021-07-07T12:41:17.867Z"
   },
   {
    "duration": 21,
    "start_time": "2021-07-07T12:41:19.310Z"
   },
   {
    "duration": 7,
    "start_time": "2021-07-07T12:41:19.544Z"
   },
   {
    "duration": 20,
    "start_time": "2021-07-07T12:41:20.504Z"
   },
   {
    "duration": 554,
    "start_time": "2021-07-07T12:56:23.696Z"
   },
   {
    "duration": 200,
    "start_time": "2021-07-07T12:56:25.234Z"
   },
   {
    "duration": 119,
    "start_time": "2021-07-07T12:56:25.480Z"
   },
   {
    "duration": 4,
    "start_time": "2021-07-07T12:56:25.762Z"
   },
   {
    "duration": 26,
    "start_time": "2021-07-07T12:56:27.172Z"
   },
   {
    "duration": 12,
    "start_time": "2021-07-07T12:56:29.051Z"
   },
   {
    "duration": 10,
    "start_time": "2021-07-07T12:56:29.291Z"
   },
   {
    "duration": 8,
    "start_time": "2021-07-07T12:56:29.623Z"
   },
   {
    "duration": 28,
    "start_time": "2021-07-07T12:56:32.137Z"
   },
   {
    "duration": 19,
    "start_time": "2021-07-07T12:56:39.785Z"
   },
   {
    "duration": 20,
    "start_time": "2021-07-07T12:56:44.297Z"
   },
   {
    "duration": 7,
    "start_time": "2021-07-07T12:56:45.392Z"
   },
   {
    "duration": 23,
    "start_time": "2021-07-07T12:56:46.615Z"
   },
   {
    "duration": 4,
    "start_time": "2021-07-07T12:57:06.625Z"
   },
   {
    "duration": 32,
    "start_time": "2021-07-07T12:57:36.690Z"
   },
   {
    "duration": 18,
    "start_time": "2021-07-07T12:58:00.149Z"
   },
   {
    "duration": 15,
    "start_time": "2021-07-07T12:59:16.793Z"
   },
   {
    "duration": 7,
    "start_time": "2021-07-07T13:19:22.624Z"
   },
   {
    "duration": 6,
    "start_time": "2021-07-07T14:17:33.527Z"
   },
   {
    "duration": 9,
    "start_time": "2021-07-07T14:17:48.409Z"
   },
   {
    "duration": 8,
    "start_time": "2021-07-07T14:20:13.060Z"
   },
   {
    "duration": 8,
    "start_time": "2021-07-07T14:20:37.957Z"
   },
   {
    "duration": 8,
    "start_time": "2021-07-07T14:20:47.470Z"
   },
   {
    "duration": 9,
    "start_time": "2021-07-07T14:20:54.503Z"
   },
   {
    "duration": 10,
    "start_time": "2021-07-07T14:28:57.763Z"
   },
   {
    "duration": 3,
    "start_time": "2021-07-07T14:30:23.377Z"
   },
   {
    "duration": 3,
    "start_time": "2021-07-07T14:30:36.489Z"
   },
   {
    "duration": 103,
    "start_time": "2021-07-07T14:30:52.351Z"
   },
   {
    "duration": 8,
    "start_time": "2021-07-07T14:30:54.763Z"
   },
   {
    "duration": 8,
    "start_time": "2021-07-07T14:31:29.301Z"
   },
   {
    "duration": 13,
    "start_time": "2021-07-07T14:31:44.516Z"
   },
   {
    "duration": 7,
    "start_time": "2021-07-07T14:33:10.972Z"
   },
   {
    "duration": 11,
    "start_time": "2021-07-07T14:33:27.780Z"
   },
   {
    "duration": 8,
    "start_time": "2021-07-07T14:34:44.588Z"
   },
   {
    "duration": 57,
    "start_time": "2021-07-07T14:35:59.042Z"
   },
   {
    "duration": 3,
    "start_time": "2021-07-07T14:36:28.168Z"
   },
   {
    "duration": 5,
    "start_time": "2021-07-07T14:36:46.254Z"
   },
   {
    "duration": 4,
    "start_time": "2021-07-07T14:36:52.714Z"
   },
   {
    "duration": 3,
    "start_time": "2021-07-07T14:36:56.612Z"
   },
   {
    "duration": 4,
    "start_time": "2021-07-07T14:36:57.049Z"
   },
   {
    "duration": 3,
    "start_time": "2021-07-07T14:39:21.214Z"
   },
   {
    "duration": 7,
    "start_time": "2021-07-07T14:39:52.406Z"
   },
   {
    "duration": 11,
    "start_time": "2021-07-07T14:39:58.576Z"
   },
   {
    "duration": 9,
    "start_time": "2021-07-07T14:40:26.301Z"
   },
   {
    "duration": 10,
    "start_time": "2021-07-07T14:40:31.704Z"
   },
   {
    "duration": 11,
    "start_time": "2021-07-07T14:40:36.249Z"
   },
   {
    "duration": 10,
    "start_time": "2021-07-07T14:40:39.783Z"
   },
   {
    "duration": 9,
    "start_time": "2021-07-07T14:40:48.558Z"
   },
   {
    "duration": 10,
    "start_time": "2021-07-07T14:40:57.143Z"
   },
   {
    "duration": 9,
    "start_time": "2021-07-07T14:41:06.074Z"
   },
   {
    "duration": 4324,
    "start_time": "2021-07-07T14:41:22.004Z"
   },
   {
    "duration": 11,
    "start_time": "2021-07-07T14:41:33.392Z"
   },
   {
    "duration": 9,
    "start_time": "2021-07-07T14:41:39.288Z"
   },
   {
    "duration": 569,
    "start_time": "2021-07-07T14:42:14.387Z"
   },
   {
    "duration": 197,
    "start_time": "2021-07-07T14:42:14.959Z"
   },
   {
    "duration": 84,
    "start_time": "2021-07-07T14:42:16.052Z"
   },
   {
    "duration": 4,
    "start_time": "2021-07-07T14:42:16.900Z"
   },
   {
    "duration": 27,
    "start_time": "2021-07-07T14:42:19.898Z"
   },
   {
    "duration": 12,
    "start_time": "2021-07-07T14:42:21.577Z"
   },
   {
    "duration": 9,
    "start_time": "2021-07-07T14:42:21.813Z"
   },
   {
    "duration": 9,
    "start_time": "2021-07-07T14:42:22.569Z"
   },
   {
    "duration": 29,
    "start_time": "2021-07-07T14:42:25.837Z"
   },
   {
    "duration": 20,
    "start_time": "2021-07-07T14:42:27.003Z"
   },
   {
    "duration": 21,
    "start_time": "2021-07-07T14:42:28.767Z"
   },
   {
    "duration": 7,
    "start_time": "2021-07-07T14:42:29.838Z"
   },
   {
    "duration": 4,
    "start_time": "2021-07-07T14:43:25.493Z"
   },
   {
    "duration": 7,
    "start_time": "2021-07-07T14:43:26.573Z"
   },
   {
    "duration": 10,
    "start_time": "2021-07-07T14:43:31.639Z"
   },
   {
    "duration": 9,
    "start_time": "2021-07-07T14:43:32.046Z"
   },
   {
    "duration": 10,
    "start_time": "2021-07-07T14:43:33.301Z"
   },
   {
    "duration": 12,
    "start_time": "2021-07-07T14:43:33.658Z"
   },
   {
    "duration": 8,
    "start_time": "2021-07-07T14:43:34.552Z"
   },
   {
    "duration": 9,
    "start_time": "2021-07-07T14:43:35.058Z"
   },
   {
    "duration": 12,
    "start_time": "2021-07-07T14:43:35.914Z"
   },
   {
    "duration": 17,
    "start_time": "2021-07-07T14:45:34.368Z"
   },
   {
    "duration": 512,
    "start_time": "2021-07-07T14:51:58.236Z"
   },
   {
    "duration": 223,
    "start_time": "2021-07-07T14:51:58.750Z"
   },
   {
    "duration": 93,
    "start_time": "2021-07-07T14:51:58.977Z"
   },
   {
    "duration": 4,
    "start_time": "2021-07-07T14:51:59.071Z"
   },
   {
    "duration": 37,
    "start_time": "2021-07-07T14:51:59.077Z"
   },
   {
    "duration": 18,
    "start_time": "2021-07-07T14:51:59.116Z"
   },
   {
    "duration": 10,
    "start_time": "2021-07-07T14:51:59.137Z"
   },
   {
    "duration": 8,
    "start_time": "2021-07-07T14:51:59.149Z"
   },
   {
    "duration": 54,
    "start_time": "2021-07-07T14:51:59.158Z"
   },
   {
    "duration": 18,
    "start_time": "2021-07-07T14:51:59.213Z"
   },
   {
    "duration": 22,
    "start_time": "2021-07-07T14:51:59.232Z"
   },
   {
    "duration": 36,
    "start_time": "2021-07-07T14:51:59.255Z"
   },
   {
    "duration": 7,
    "start_time": "2021-07-07T14:51:59.293Z"
   },
   {
    "duration": 10,
    "start_time": "2021-07-07T14:51:59.302Z"
   },
   {
    "duration": 9,
    "start_time": "2021-07-07T14:51:59.313Z"
   },
   {
    "duration": 11,
    "start_time": "2021-07-07T14:51:59.324Z"
   },
   {
    "duration": 8,
    "start_time": "2021-07-07T14:51:59.337Z"
   },
   {
    "duration": 46,
    "start_time": "2021-07-07T14:51:59.347Z"
   },
   {
    "duration": 22,
    "start_time": "2021-07-07T14:51:59.395Z"
   },
   {
    "duration": 24,
    "start_time": "2021-07-07T14:57:32.911Z"
   },
   {
    "duration": 7,
    "start_time": "2021-07-07T14:58:22.070Z"
   },
   {
    "duration": 4,
    "start_time": "2021-07-07T14:59:11.239Z"
   },
   {
    "duration": 25,
    "start_time": "2021-07-07T15:07:22.208Z"
   },
   {
    "duration": 16,
    "start_time": "2021-07-07T15:08:25.560Z"
   },
   {
    "duration": 15,
    "start_time": "2021-07-07T15:08:40.647Z"
   },
   {
    "duration": 14,
    "start_time": "2021-07-07T15:08:46.669Z"
   },
   {
    "duration": 533,
    "start_time": "2021-07-07T15:18:07.440Z"
   },
   {
    "duration": 173,
    "start_time": "2021-07-07T15:18:07.974Z"
   },
   {
    "duration": 84,
    "start_time": "2021-07-07T15:18:08.149Z"
   },
   {
    "duration": 3,
    "start_time": "2021-07-07T15:18:08.235Z"
   },
   {
    "duration": 30,
    "start_time": "2021-07-07T15:18:08.240Z"
   },
   {
    "duration": 22,
    "start_time": "2021-07-07T15:18:08.272Z"
   },
   {
    "duration": 11,
    "start_time": "2021-07-07T15:18:08.295Z"
   },
   {
    "duration": 11,
    "start_time": "2021-07-07T15:18:08.309Z"
   },
   {
    "duration": 40,
    "start_time": "2021-07-07T15:18:08.322Z"
   },
   {
    "duration": 42,
    "start_time": "2021-07-07T15:18:08.364Z"
   },
   {
    "duration": 22,
    "start_time": "2021-07-07T15:18:08.408Z"
   },
   {
    "duration": 5,
    "start_time": "2021-07-07T15:18:08.432Z"
   },
   {
    "duration": 13,
    "start_time": "2021-07-07T15:18:08.439Z"
   },
   {
    "duration": 9,
    "start_time": "2021-07-07T15:18:08.454Z"
   },
   {
    "duration": 32,
    "start_time": "2021-07-07T15:18:08.465Z"
   },
   {
    "duration": 10,
    "start_time": "2021-07-07T15:18:08.501Z"
   },
   {
    "duration": 7,
    "start_time": "2021-07-07T15:18:08.513Z"
   },
   {
    "duration": 11,
    "start_time": "2021-07-07T15:18:08.521Z"
   },
   {
    "duration": 17,
    "start_time": "2021-07-07T15:18:08.534Z"
   },
   {
    "duration": 44,
    "start_time": "2021-07-07T15:18:08.553Z"
   },
   {
    "duration": 22,
    "start_time": "2021-07-07T15:18:08.599Z"
   },
   {
    "duration": 61,
    "start_time": "2021-07-07T15:18:08.622Z"
   },
   {
    "duration": 7,
    "start_time": "2021-07-07T15:18:39.457Z"
   },
   {
    "duration": 5,
    "start_time": "2021-07-07T16:05:17.020Z"
   },
   {
    "duration": 5,
    "start_time": "2021-07-07T16:51:28.794Z"
   },
   {
    "duration": 546,
    "start_time": "2021-07-07T16:52:26.306Z"
   },
   {
    "duration": 203,
    "start_time": "2021-07-07T16:52:27.523Z"
   },
   {
    "duration": 85,
    "start_time": "2021-07-07T16:52:27.736Z"
   },
   {
    "duration": 4,
    "start_time": "2021-07-07T16:52:27.899Z"
   },
   {
    "duration": 25,
    "start_time": "2021-07-07T16:52:28.674Z"
   },
   {
    "duration": 8,
    "start_time": "2021-07-07T16:52:32.956Z"
   },
   {
    "duration": 18,
    "start_time": "2021-07-07T16:52:35.616Z"
   },
   {
    "duration": 6,
    "start_time": "2021-07-07T16:52:36.913Z"
   },
   {
    "duration": 11,
    "start_time": "2021-07-07T16:52:40.258Z"
   },
   {
    "duration": 10,
    "start_time": "2021-07-07T16:52:46.251Z"
   },
   {
    "duration": 8,
    "start_time": "2021-07-07T16:52:47.182Z"
   },
   {
    "duration": 27,
    "start_time": "2021-07-07T16:53:20.391Z"
   },
   {
    "duration": 20,
    "start_time": "2021-07-07T16:53:22.022Z"
   },
   {
    "duration": 23,
    "start_time": "2021-07-07T16:53:23.690Z"
   },
   {
    "duration": 8,
    "start_time": "2021-07-07T16:53:24.261Z"
   },
   {
    "duration": 4,
    "start_time": "2021-07-07T16:53:38.733Z"
   },
   {
    "duration": 7,
    "start_time": "2021-07-07T16:53:40.445Z"
   },
   {
    "duration": 11,
    "start_time": "2021-07-07T16:53:41.348Z"
   },
   {
    "duration": 13,
    "start_time": "2021-07-07T16:53:45.250Z"
   },
   {
    "duration": 12,
    "start_time": "2021-07-07T16:53:45.467Z"
   },
   {
    "duration": 4,
    "start_time": "2021-07-07T16:55:32.704Z"
   },
   {
    "duration": 12,
    "start_time": "2021-07-07T16:55:49.012Z"
   },
   {
    "duration": 18,
    "start_time": "2021-07-07T16:55:49.547Z"
   },
   {
    "duration": 611,
    "start_time": "2021-07-07T16:58:35.156Z"
   },
   {
    "duration": 200,
    "start_time": "2021-07-07T16:58:35.770Z"
   },
   {
    "duration": 86,
    "start_time": "2021-07-07T16:58:35.972Z"
   },
   {
    "duration": 3,
    "start_time": "2021-07-07T16:58:36.060Z"
   },
   {
    "duration": 27,
    "start_time": "2021-07-07T16:58:36.065Z"
   },
   {
    "duration": 8,
    "start_time": "2021-07-07T16:58:36.094Z"
   },
   {
    "duration": 17,
    "start_time": "2021-07-07T16:58:36.103Z"
   },
   {
    "duration": 5,
    "start_time": "2021-07-07T16:58:36.123Z"
   },
   {
    "duration": 11,
    "start_time": "2021-07-07T16:58:36.130Z"
   },
   {
    "duration": 7,
    "start_time": "2021-07-07T16:58:36.143Z"
   },
   {
    "duration": 37,
    "start_time": "2021-07-07T16:58:36.152Z"
   },
   {
    "duration": 27,
    "start_time": "2021-07-07T16:58:36.191Z"
   },
   {
    "duration": 19,
    "start_time": "2021-07-07T16:58:36.219Z"
   },
   {
    "duration": 49,
    "start_time": "2021-07-07T16:58:36.240Z"
   },
   {
    "duration": 6,
    "start_time": "2021-07-07T16:58:36.291Z"
   },
   {
    "duration": 3,
    "start_time": "2021-07-07T16:58:36.299Z"
   },
   {
    "duration": 13,
    "start_time": "2021-07-07T16:58:36.304Z"
   },
   {
    "duration": 10,
    "start_time": "2021-07-07T16:58:36.319Z"
   },
   {
    "duration": 10,
    "start_time": "2021-07-07T16:58:36.331Z"
   },
   {
    "duration": 44,
    "start_time": "2021-07-07T16:58:36.343Z"
   },
   {
    "duration": 4,
    "start_time": "2021-07-07T16:58:36.388Z"
   },
   {
    "duration": 13,
    "start_time": "2021-07-07T16:58:36.394Z"
   },
   {
    "duration": 16,
    "start_time": "2021-07-07T16:58:36.410Z"
   },
   {
    "duration": 8,
    "start_time": "2021-07-07T17:02:31.629Z"
   },
   {
    "duration": 8,
    "start_time": "2021-07-07T17:02:34.308Z"
   },
   {
    "duration": 6,
    "start_time": "2021-07-07T17:05:13.483Z"
   },
   {
    "duration": 17,
    "start_time": "2021-07-07T17:05:20.606Z"
   },
   {
    "duration": 7,
    "start_time": "2021-07-07T17:05:34.638Z"
   },
   {
    "duration": 3,
    "start_time": "2021-07-07T17:06:31.883Z"
   },
   {
    "duration": 570,
    "start_time": "2021-07-07T17:06:37.165Z"
   },
   {
    "duration": 174,
    "start_time": "2021-07-07T17:06:37.737Z"
   },
   {
    "duration": 47,
    "start_time": "2021-07-07T17:06:37.913Z"
   },
   {
    "duration": 3,
    "start_time": "2021-07-07T17:06:37.962Z"
   },
   {
    "duration": 27,
    "start_time": "2021-07-07T17:06:37.967Z"
   },
   {
    "duration": 7,
    "start_time": "2021-07-07T17:06:37.996Z"
   },
   {
    "duration": 16,
    "start_time": "2021-07-07T17:06:38.005Z"
   },
   {
    "duration": 6,
    "start_time": "2021-07-07T17:06:38.024Z"
   },
   {
    "duration": 12,
    "start_time": "2021-07-07T17:06:38.031Z"
   },
   {
    "duration": 41,
    "start_time": "2021-07-07T17:06:38.045Z"
   },
   {
    "duration": 8,
    "start_time": "2021-07-07T17:06:38.088Z"
   },
   {
    "duration": 26,
    "start_time": "2021-07-07T17:06:38.098Z"
   },
   {
    "duration": 17,
    "start_time": "2021-07-07T17:06:38.126Z"
   },
   {
    "duration": 43,
    "start_time": "2021-07-07T17:06:38.144Z"
   },
   {
    "duration": 6,
    "start_time": "2021-07-07T17:06:38.188Z"
   },
   {
    "duration": 5,
    "start_time": "2021-07-07T17:06:38.195Z"
   },
   {
    "duration": 9,
    "start_time": "2021-07-07T17:06:38.201Z"
   },
   {
    "duration": 12,
    "start_time": "2021-07-07T17:06:38.212Z"
   },
   {
    "duration": 11,
    "start_time": "2021-07-07T17:06:38.226Z"
   },
   {
    "duration": 47,
    "start_time": "2021-07-07T17:06:38.239Z"
   },
   {
    "duration": 4,
    "start_time": "2021-07-07T17:06:38.288Z"
   },
   {
    "duration": 13,
    "start_time": "2021-07-07T17:06:38.293Z"
   },
   {
    "duration": 5,
    "start_time": "2021-07-07T17:06:38.309Z"
   },
   {
    "duration": 18,
    "start_time": "2021-07-07T17:06:38.325Z"
   },
   {
    "duration": 20,
    "start_time": "2021-07-07T17:07:02.805Z"
   },
   {
    "duration": 19,
    "start_time": "2021-07-07T17:07:08.527Z"
   },
   {
    "duration": 19,
    "start_time": "2021-07-07T17:07:12.758Z"
   },
   {
    "duration": 22,
    "start_time": "2021-07-07T17:07:17.497Z"
   },
   {
    "duration": 19,
    "start_time": "2021-07-07T17:07:19.645Z"
   },
   {
    "duration": 10,
    "start_time": "2021-07-07T17:07:34.239Z"
   },
   {
    "duration": 17,
    "start_time": "2021-07-07T17:07:54.144Z"
   },
   {
    "duration": 14,
    "start_time": "2021-07-07T17:08:14.357Z"
   },
   {
    "duration": 616,
    "start_time": "2021-07-07T17:08:45.254Z"
   },
   {
    "duration": 178,
    "start_time": "2021-07-07T17:08:45.872Z"
   },
   {
    "duration": 60,
    "start_time": "2021-07-07T17:08:46.054Z"
   },
   {
    "duration": 3,
    "start_time": "2021-07-07T17:08:46.116Z"
   },
   {
    "duration": 26,
    "start_time": "2021-07-07T17:08:46.121Z"
   },
   {
    "duration": 7,
    "start_time": "2021-07-07T17:08:46.149Z"
   },
   {
    "duration": 17,
    "start_time": "2021-07-07T17:08:46.158Z"
   },
   {
    "duration": 14,
    "start_time": "2021-07-07T17:08:46.176Z"
   },
   {
    "duration": 17,
    "start_time": "2021-07-07T17:08:46.193Z"
   },
   {
    "duration": 9,
    "start_time": "2021-07-07T17:08:46.211Z"
   },
   {
    "duration": 21,
    "start_time": "2021-07-07T17:08:46.221Z"
   },
   {
    "duration": 49,
    "start_time": "2021-07-07T17:08:46.244Z"
   },
   {
    "duration": 24,
    "start_time": "2021-07-07T17:08:46.295Z"
   },
   {
    "duration": 22,
    "start_time": "2021-07-07T17:08:46.321Z"
   },
   {
    "duration": 6,
    "start_time": "2021-07-07T17:08:46.345Z"
   },
   {
    "duration": 5,
    "start_time": "2021-07-07T17:08:46.353Z"
   },
   {
    "duration": 13,
    "start_time": "2021-07-07T17:08:46.386Z"
   },
   {
    "duration": 12,
    "start_time": "2021-07-07T17:08:46.402Z"
   },
   {
    "duration": 10,
    "start_time": "2021-07-07T17:08:46.415Z"
   },
   {
    "duration": 7,
    "start_time": "2021-07-07T17:08:46.427Z"
   },
   {
    "duration": 8,
    "start_time": "2021-07-07T17:08:46.435Z"
   },
   {
    "duration": 68,
    "start_time": "2021-07-07T17:08:46.446Z"
   },
   {
    "duration": 13,
    "start_time": "2021-07-07T17:08:46.516Z"
   },
   {
    "duration": 78,
    "start_time": "2021-07-07T17:08:46.530Z"
   },
   {
    "duration": 40,
    "start_time": "2021-07-07T17:09:08.185Z"
   },
   {
    "duration": 16,
    "start_time": "2021-07-07T17:09:19.324Z"
   },
   {
    "duration": 21,
    "start_time": "2021-07-07T17:09:23.290Z"
   },
   {
    "duration": 13,
    "start_time": "2021-07-07T17:09:54.812Z"
   },
   {
    "duration": 13,
    "start_time": "2021-07-07T17:10:02.039Z"
   },
   {
    "duration": 10,
    "start_time": "2021-07-07T17:10:29.632Z"
   },
   {
    "duration": 13,
    "start_time": "2021-07-07T17:10:52.372Z"
   },
   {
    "duration": 13,
    "start_time": "2021-07-07T17:11:17.270Z"
   },
   {
    "duration": 13,
    "start_time": "2021-07-07T17:14:59.284Z"
   },
   {
    "duration": 547,
    "start_time": "2021-07-07T17:18:52.403Z"
   },
   {
    "duration": 163,
    "start_time": "2021-07-07T17:18:52.952Z"
   },
   {
    "duration": 44,
    "start_time": "2021-07-07T17:18:53.117Z"
   },
   {
    "duration": 3,
    "start_time": "2021-07-07T17:18:53.162Z"
   },
   {
    "duration": 26,
    "start_time": "2021-07-07T17:18:53.167Z"
   },
   {
    "duration": 6,
    "start_time": "2021-07-07T17:18:53.195Z"
   },
   {
    "duration": 15,
    "start_time": "2021-07-07T17:18:53.203Z"
   },
   {
    "duration": 5,
    "start_time": "2021-07-07T17:18:53.220Z"
   },
   {
    "duration": 11,
    "start_time": "2021-07-07T17:18:53.228Z"
   },
   {
    "duration": 9,
    "start_time": "2021-07-07T17:18:53.241Z"
   },
   {
    "duration": 41,
    "start_time": "2021-07-07T17:18:53.252Z"
   },
   {
    "duration": 33,
    "start_time": "2021-07-07T17:18:53.295Z"
   },
   {
    "duration": 19,
    "start_time": "2021-07-07T17:18:53.330Z"
   },
   {
    "duration": 49,
    "start_time": "2021-07-07T17:18:53.350Z"
   },
   {
    "duration": 5,
    "start_time": "2021-07-07T17:18:53.401Z"
   },
   {
    "duration": 5,
    "start_time": "2021-07-07T17:18:53.408Z"
   },
   {
    "duration": 11,
    "start_time": "2021-07-07T17:18:53.414Z"
   },
   {
    "duration": 9,
    "start_time": "2021-07-07T17:18:53.427Z"
   },
   {
    "duration": 10,
    "start_time": "2021-07-07T17:18:53.437Z"
   },
   {
    "duration": 39,
    "start_time": "2021-07-07T17:18:53.448Z"
   },
   {
    "duration": 26,
    "start_time": "2021-07-07T17:18:55.799Z"
   },
   {
    "duration": 598,
    "start_time": "2021-07-07T17:20:17.862Z"
   },
   {
    "duration": 161,
    "start_time": "2021-07-07T17:20:18.462Z"
   },
   {
    "duration": 45,
    "start_time": "2021-07-07T17:20:18.626Z"
   },
   {
    "duration": 4,
    "start_time": "2021-07-07T17:20:18.673Z"
   },
   {
    "duration": 38,
    "start_time": "2021-07-07T17:20:26.877Z"
   },
   {
    "duration": 7,
    "start_time": "2021-07-07T17:20:37.405Z"
   },
   {
    "duration": 19,
    "start_time": "2021-07-07T17:20:51.534Z"
   },
   {
    "duration": 5,
    "start_time": "2021-07-07T17:20:57.228Z"
   },
   {
    "duration": 7,
    "start_time": "2021-07-07T17:21:08.235Z"
   },
   {
    "duration": 19,
    "start_time": "2021-07-07T17:21:42.158Z"
   },
   {
    "duration": 14,
    "start_time": "2021-07-07T17:21:50.225Z"
   },
   {
    "duration": 22,
    "start_time": "2021-07-07T17:22:54.104Z"
   },
   {
    "duration": 5,
    "start_time": "2021-07-07T17:22:56.371Z"
   },
   {
    "duration": 14,
    "start_time": "2021-07-07T17:22:58.316Z"
   },
   {
    "duration": 5,
    "start_time": "2021-07-07T17:22:58.493Z"
   },
   {
    "duration": 35,
    "start_time": "2021-07-07T17:22:59.666Z"
   },
   {
    "duration": 6,
    "start_time": "2021-07-07T17:23:02.410Z"
   },
   {
    "duration": 611,
    "start_time": "2021-07-07T17:24:59.664Z"
   },
   {
    "duration": 178,
    "start_time": "2021-07-07T17:25:01.945Z"
   },
   {
    "duration": 47,
    "start_time": "2021-07-07T17:25:02.125Z"
   },
   {
    "duration": 2,
    "start_time": "2021-07-07T17:25:07.903Z"
   },
   {
    "duration": 254,
    "start_time": "2021-07-07T17:25:08.232Z"
   },
   {
    "duration": 182,
    "start_time": "2021-07-07T17:25:08.671Z"
   },
   {
    "duration": 6,
    "start_time": "2021-07-07T17:25:13.104Z"
   },
   {
    "duration": 36,
    "start_time": "2021-07-07T17:25:13.662Z"
   },
   {
    "duration": 7,
    "start_time": "2021-07-07T17:25:14.528Z"
   },
   {
    "duration": 24,
    "start_time": "2021-07-07T17:25:27.982Z"
   },
   {
    "duration": 3,
    "start_time": "2021-07-07T17:25:48.982Z"
   },
   {
    "duration": 165,
    "start_time": "2021-07-07T17:25:48.987Z"
   },
   {
    "duration": 50,
    "start_time": "2021-07-07T17:25:49.154Z"
   },
   {
    "duration": 4,
    "start_time": "2021-07-07T17:25:49.206Z"
   },
   {
    "duration": 26,
    "start_time": "2021-07-07T17:25:49.212Z"
   },
   {
    "duration": 7,
    "start_time": "2021-07-07T17:25:49.240Z"
   },
   {
    "duration": 16,
    "start_time": "2021-07-07T17:25:49.249Z"
   },
   {
    "duration": 22,
    "start_time": "2021-07-07T17:25:49.266Z"
   },
   {
    "duration": 16,
    "start_time": "2021-07-07T17:25:49.291Z"
   },
   {
    "duration": 9,
    "start_time": "2021-07-07T17:25:49.309Z"
   },
   {
    "duration": 7,
    "start_time": "2021-07-07T17:25:49.319Z"
   },
   {
    "duration": 28,
    "start_time": "2021-07-07T17:25:49.328Z"
   },
   {
    "duration": 44,
    "start_time": "2021-07-07T17:25:49.357Z"
   },
   {
    "duration": 22,
    "start_time": "2021-07-07T17:25:49.403Z"
   },
   {
    "duration": 7,
    "start_time": "2021-07-07T17:25:49.427Z"
   },
   {
    "duration": 3,
    "start_time": "2021-07-07T17:25:49.436Z"
   },
   {
    "duration": 44,
    "start_time": "2021-07-07T17:25:49.441Z"
   },
   {
    "duration": 12,
    "start_time": "2021-07-07T17:25:49.488Z"
   },
   {
    "duration": 13,
    "start_time": "2021-07-07T17:25:49.502Z"
   },
   {
    "duration": 10,
    "start_time": "2021-07-07T17:25:49.516Z"
   },
   {
    "duration": 62,
    "start_time": "2021-07-07T17:25:49.527Z"
   },
   {
    "duration": 26,
    "start_time": "2021-07-07T17:26:51.809Z"
   },
   {
    "duration": 26,
    "start_time": "2021-07-07T17:26:55.759Z"
   },
   {
    "duration": 26,
    "start_time": "2021-07-07T17:27:04.501Z"
   },
   {
    "duration": 25,
    "start_time": "2021-07-07T17:28:24.859Z"
   },
   {
    "duration": 21,
    "start_time": "2021-07-07T17:28:55.250Z"
   },
   {
    "duration": 21,
    "start_time": "2021-07-07T17:28:58.885Z"
   },
   {
    "duration": 7,
    "start_time": "2021-07-07T17:45:40.972Z"
   },
   {
    "duration": 13,
    "start_time": "2021-07-07T17:45:42.529Z"
   },
   {
    "duration": 27,
    "start_time": "2021-07-07T17:45:51.026Z"
   },
   {
    "duration": 518,
    "start_time": "2021-07-07T17:46:15.532Z"
   },
   {
    "duration": 235,
    "start_time": "2021-07-07T17:46:16.053Z"
   },
   {
    "duration": 80,
    "start_time": "2021-07-07T17:46:16.292Z"
   },
   {
    "duration": 5,
    "start_time": "2021-07-07T17:46:16.373Z"
   },
   {
    "duration": 26,
    "start_time": "2021-07-07T17:46:16.380Z"
   },
   {
    "duration": 7,
    "start_time": "2021-07-07T17:46:16.408Z"
   },
   {
    "duration": 16,
    "start_time": "2021-07-07T17:46:16.418Z"
   },
   {
    "duration": 5,
    "start_time": "2021-07-07T17:46:16.436Z"
   },
   {
    "duration": 13,
    "start_time": "2021-07-07T17:46:16.442Z"
   },
   {
    "duration": 35,
    "start_time": "2021-07-07T17:46:16.456Z"
   },
   {
    "duration": 8,
    "start_time": "2021-07-07T17:46:16.493Z"
   },
   {
    "duration": 28,
    "start_time": "2021-07-07T17:46:16.502Z"
   },
   {
    "duration": 17,
    "start_time": "2021-07-07T17:46:16.532Z"
   },
   {
    "duration": 44,
    "start_time": "2021-07-07T17:46:16.551Z"
   },
   {
    "duration": 6,
    "start_time": "2021-07-07T17:46:16.597Z"
   },
   {
    "duration": 4,
    "start_time": "2021-07-07T17:46:16.605Z"
   },
   {
    "duration": 9,
    "start_time": "2021-07-07T17:46:16.610Z"
   },
   {
    "duration": 9,
    "start_time": "2021-07-07T17:46:16.621Z"
   },
   {
    "duration": 10,
    "start_time": "2021-07-07T17:46:16.632Z"
   },
   {
    "duration": 43,
    "start_time": "2021-07-07T17:46:16.644Z"
   },
   {
    "duration": 26,
    "start_time": "2021-07-07T17:46:16.689Z"
   },
   {
    "duration": 19,
    "start_time": "2021-07-07T17:46:16.718Z"
   },
   {
    "duration": 8,
    "start_time": "2021-07-07T17:46:16.738Z"
   },
   {
    "duration": 43,
    "start_time": "2021-07-07T17:46:16.747Z"
   },
   {
    "duration": 19,
    "start_time": "2021-07-07T17:46:16.791Z"
   },
   {
    "duration": 9,
    "start_time": "2021-07-07T17:46:16.812Z"
   },
   {
    "duration": 60,
    "start_time": "2021-07-07T17:46:16.822Z"
   },
   {
    "duration": -8,
    "start_time": "2021-07-07T17:46:16.892Z"
   },
   {
    "duration": 12,
    "start_time": "2021-07-07T17:48:47.707Z"
   },
   {
    "duration": 553,
    "start_time": "2021-07-07T18:10:09.350Z"
   },
   {
    "duration": 230,
    "start_time": "2021-07-07T18:10:09.905Z"
   },
   {
    "duration": 97,
    "start_time": "2021-07-07T18:10:10.137Z"
   },
   {
    "duration": 5,
    "start_time": "2021-07-07T18:10:10.236Z"
   },
   {
    "duration": 29,
    "start_time": "2021-07-07T18:10:10.242Z"
   },
   {
    "duration": 7,
    "start_time": "2021-07-07T18:10:10.272Z"
   },
   {
    "duration": 15,
    "start_time": "2021-07-07T18:10:10.281Z"
   },
   {
    "duration": 4,
    "start_time": "2021-07-07T18:10:10.299Z"
   },
   {
    "duration": 14,
    "start_time": "2021-07-07T18:10:10.305Z"
   },
   {
    "duration": 8,
    "start_time": "2021-07-07T18:10:10.321Z"
   },
   {
    "duration": 8,
    "start_time": "2021-07-07T18:10:10.331Z"
   },
   {
    "duration": 56,
    "start_time": "2021-07-07T18:10:10.341Z"
   },
   {
    "duration": 19,
    "start_time": "2021-07-07T18:10:10.399Z"
   },
   {
    "duration": 23,
    "start_time": "2021-07-07T18:10:10.419Z"
   },
   {
    "duration": 6,
    "start_time": "2021-07-07T18:10:10.444Z"
   },
   {
    "duration": 9,
    "start_time": "2021-07-07T18:10:10.451Z"
   },
   {
    "duration": 30,
    "start_time": "2021-07-07T18:10:10.462Z"
   },
   {
    "duration": 9,
    "start_time": "2021-07-07T18:10:10.494Z"
   },
   {
    "duration": 14,
    "start_time": "2021-07-07T18:10:10.505Z"
   },
   {
    "duration": 7,
    "start_time": "2021-07-07T18:10:10.521Z"
   },
   {
    "duration": 26,
    "start_time": "2021-07-07T18:10:10.530Z"
   },
   {
    "duration": 44,
    "start_time": "2021-07-07T18:10:10.558Z"
   },
   {
    "duration": 7,
    "start_time": "2021-07-07T18:10:10.605Z"
   },
   {
    "duration": 11,
    "start_time": "2021-07-07T18:10:10.614Z"
   },
   {
    "duration": 19,
    "start_time": "2021-07-07T18:10:10.626Z"
   },
   {
    "duration": 44,
    "start_time": "2021-07-07T18:10:10.646Z"
   },
   {
    "duration": 516,
    "start_time": "2021-07-07T18:14:00.826Z"
   },
   {
    "duration": 230,
    "start_time": "2021-07-07T18:14:01.344Z"
   },
   {
    "duration": 105,
    "start_time": "2021-07-07T18:14:01.576Z"
   },
   {
    "duration": 5,
    "start_time": "2021-07-07T18:14:01.683Z"
   },
   {
    "duration": 46,
    "start_time": "2021-07-07T18:14:01.690Z"
   },
   {
    "duration": 7,
    "start_time": "2021-07-07T18:14:01.738Z"
   },
   {
    "duration": 20,
    "start_time": "2021-07-07T18:14:01.747Z"
   },
   {
    "duration": 16,
    "start_time": "2021-07-07T18:14:01.769Z"
   },
   {
    "duration": 14,
    "start_time": "2021-07-07T18:14:01.787Z"
   },
   {
    "duration": 15,
    "start_time": "2021-07-07T18:14:01.803Z"
   },
   {
    "duration": 12,
    "start_time": "2021-07-07T18:14:01.820Z"
   },
   {
    "duration": 35,
    "start_time": "2021-07-07T18:14:01.833Z"
   },
   {
    "duration": 31,
    "start_time": "2021-07-07T18:14:01.869Z"
   },
   {
    "duration": 37,
    "start_time": "2021-07-07T18:14:01.902Z"
   },
   {
    "duration": 8,
    "start_time": "2021-07-07T18:14:01.942Z"
   },
   {
    "duration": 16,
    "start_time": "2021-07-07T18:14:01.952Z"
   },
   {
    "duration": 13,
    "start_time": "2021-07-07T18:14:01.970Z"
   },
   {
    "duration": 32,
    "start_time": "2021-07-07T18:14:01.985Z"
   },
   {
    "duration": 11,
    "start_time": "2021-07-07T18:14:02.019Z"
   },
   {
    "duration": 22,
    "start_time": "2021-07-07T18:14:02.031Z"
   },
   {
    "duration": 27,
    "start_time": "2021-07-07T18:14:02.055Z"
   },
   {
    "duration": 18,
    "start_time": "2021-07-07T18:14:02.084Z"
   },
   {
    "duration": 18,
    "start_time": "2021-07-07T18:14:02.106Z"
   },
   {
    "duration": 11,
    "start_time": "2021-07-07T18:14:02.126Z"
   },
   {
    "duration": 21,
    "start_time": "2021-07-07T18:14:02.138Z"
   },
   {
    "duration": 32,
    "start_time": "2021-07-07T18:14:02.161Z"
   },
   {
    "duration": 28,
    "start_time": "2021-07-07T18:14:44.295Z"
   },
   {
    "duration": 6,
    "start_time": "2021-07-07T18:15:05.834Z"
   },
   {
    "duration": 511,
    "start_time": "2021-07-07T18:15:41.541Z"
   },
   {
    "duration": 183,
    "start_time": "2021-07-07T18:15:42.054Z"
   },
   {
    "duration": 50,
    "start_time": "2021-07-07T18:15:42.239Z"
   },
   {
    "duration": 5,
    "start_time": "2021-07-07T18:15:42.291Z"
   },
   {
    "duration": 48,
    "start_time": "2021-07-07T18:15:42.297Z"
   },
   {
    "duration": 8,
    "start_time": "2021-07-07T18:15:42.346Z"
   },
   {
    "duration": 17,
    "start_time": "2021-07-07T18:15:42.356Z"
   },
   {
    "duration": 15,
    "start_time": "2021-07-07T18:15:42.375Z"
   },
   {
    "duration": 12,
    "start_time": "2021-07-07T18:15:42.392Z"
   },
   {
    "duration": 7,
    "start_time": "2021-07-07T18:15:42.406Z"
   },
   {
    "duration": 7,
    "start_time": "2021-07-07T18:15:42.415Z"
   },
   {
    "duration": 29,
    "start_time": "2021-07-07T18:15:42.423Z"
   },
   {
    "duration": 43,
    "start_time": "2021-07-07T18:15:42.453Z"
   },
   {
    "duration": 18,
    "start_time": "2021-07-07T18:15:42.497Z"
   },
   {
    "duration": 6,
    "start_time": "2021-07-07T18:15:42.516Z"
   },
   {
    "duration": 3,
    "start_time": "2021-07-07T18:15:42.523Z"
   },
   {
    "duration": 18,
    "start_time": "2021-07-07T18:15:42.528Z"
   },
   {
    "duration": 10,
    "start_time": "2021-07-07T18:15:42.547Z"
   },
   {
    "duration": 36,
    "start_time": "2021-07-07T18:15:42.559Z"
   },
   {
    "duration": 8,
    "start_time": "2021-07-07T18:15:42.597Z"
   },
   {
    "duration": 28,
    "start_time": "2021-07-07T18:15:42.606Z"
   },
   {
    "duration": 52,
    "start_time": "2021-07-07T18:15:42.635Z"
   },
   {
    "duration": 7,
    "start_time": "2021-07-07T18:15:42.690Z"
   },
   {
    "duration": 10,
    "start_time": "2021-07-07T18:15:42.699Z"
   },
   {
    "duration": 19,
    "start_time": "2021-07-07T18:15:42.711Z"
   },
   {
    "duration": 9,
    "start_time": "2021-07-07T18:15:42.732Z"
   },
   {
    "duration": 5,
    "start_time": "2021-07-07T18:15:42.743Z"
   },
   {
    "duration": 1450,
    "start_time": "2021-07-07T18:15:51.984Z"
   },
   {
    "duration": 161,
    "start_time": "2021-07-07T18:15:53.435Z"
   },
   {
    "duration": 124,
    "start_time": "2021-07-07T18:15:53.598Z"
   },
   {
    "duration": 5,
    "start_time": "2021-07-07T18:15:53.724Z"
   },
   {
    "duration": 34,
    "start_time": "2021-07-07T18:15:53.730Z"
   },
   {
    "duration": 7,
    "start_time": "2021-07-07T18:15:53.765Z"
   },
   {
    "duration": 15,
    "start_time": "2021-07-07T18:15:53.773Z"
   },
   {
    "duration": 5,
    "start_time": "2021-07-07T18:15:53.791Z"
   },
   {
    "duration": 19,
    "start_time": "2021-07-07T18:15:53.798Z"
   },
   {
    "duration": 9,
    "start_time": "2021-07-07T18:15:53.818Z"
   },
   {
    "duration": 19,
    "start_time": "2021-07-07T18:15:53.828Z"
   },
   {
    "duration": 27,
    "start_time": "2021-07-07T18:15:53.848Z"
   },
   {
    "duration": 16,
    "start_time": "2021-07-07T18:15:53.884Z"
   },
   {
    "duration": 29,
    "start_time": "2021-07-07T18:15:53.901Z"
   },
   {
    "duration": 5,
    "start_time": "2021-07-07T18:15:53.932Z"
   },
   {
    "duration": 15,
    "start_time": "2021-07-07T18:15:53.939Z"
   },
   {
    "duration": 13,
    "start_time": "2021-07-07T18:15:53.956Z"
   },
   {
    "duration": 20,
    "start_time": "2021-07-07T18:15:53.971Z"
   },
   {
    "duration": 14,
    "start_time": "2021-07-07T18:15:53.992Z"
   },
   {
    "duration": 9,
    "start_time": "2021-07-07T18:15:54.009Z"
   },
   {
    "duration": 28,
    "start_time": "2021-07-07T18:15:54.020Z"
   },
   {
    "duration": 50,
    "start_time": "2021-07-07T18:15:54.051Z"
   },
   {
    "duration": 8,
    "start_time": "2021-07-07T18:15:54.105Z"
   },
   {
    "duration": 11,
    "start_time": "2021-07-07T18:15:54.115Z"
   },
   {
    "duration": 20,
    "start_time": "2021-07-07T18:15:54.128Z"
   },
   {
    "duration": 13,
    "start_time": "2021-07-07T18:15:54.184Z"
   },
   {
    "duration": 7,
    "start_time": "2021-07-07T18:15:54.199Z"
   },
   {
    "duration": 7,
    "start_time": "2021-07-07T18:17:08.042Z"
   },
   {
    "duration": 8,
    "start_time": "2021-07-07T18:17:21.008Z"
   },
   {
    "duration": 7,
    "start_time": "2021-07-07T18:17:29.003Z"
   },
   {
    "duration": 8,
    "start_time": "2021-07-07T18:17:32.492Z"
   },
   {
    "duration": 9,
    "start_time": "2021-07-07T18:17:41.758Z"
   },
   {
    "duration": 255,
    "start_time": "2021-07-07T18:20:20.897Z"
   },
   {
    "duration": 173,
    "start_time": "2021-07-07T18:20:26.636Z"
   },
   {
    "duration": 7,
    "start_time": "2021-07-07T18:21:47.164Z"
   },
   {
    "duration": 254,
    "start_time": "2021-07-07T18:23:08.703Z"
   },
   {
    "duration": 21,
    "start_time": "2021-07-07T18:23:22.506Z"
   },
   {
    "duration": 315,
    "start_time": "2021-07-07T18:25:54.801Z"
   },
   {
    "duration": 34,
    "start_time": "2021-07-07T18:26:51.817Z"
   },
   {
    "duration": 327,
    "start_time": "2021-07-07T18:26:56.147Z"
   },
   {
    "duration": 342,
    "start_time": "2021-07-07T18:27:15.887Z"
   },
   {
    "duration": 302,
    "start_time": "2021-07-07T18:28:18.569Z"
   },
   {
    "duration": 226,
    "start_time": "2021-07-07T18:29:20.879Z"
   },
   {
    "duration": 207,
    "start_time": "2021-07-07T18:29:58.114Z"
   },
   {
    "duration": 140,
    "start_time": "2021-07-07T18:32:04.372Z"
   },
   {
    "duration": 158,
    "start_time": "2021-07-07T18:32:32.508Z"
   },
   {
    "duration": 145,
    "start_time": "2021-07-07T18:32:41.365Z"
   },
   {
    "duration": 132,
    "start_time": "2021-07-07T18:32:45.199Z"
   },
   {
    "duration": 11,
    "start_time": "2021-07-07T18:35:24.679Z"
   },
   {
    "duration": 268,
    "start_time": "2021-07-07T18:36:16.145Z"
   },
   {
    "duration": 227,
    "start_time": "2021-07-07T18:37:04.918Z"
   },
   {
    "duration": 3,
    "start_time": "2021-07-07T18:37:33.012Z"
   },
   {
    "duration": 671,
    "start_time": "2021-07-07T18:37:38.295Z"
   },
   {
    "duration": 54,
    "start_time": "2021-07-07T18:37:53.406Z"
   },
   {
    "duration": 631,
    "start_time": "2021-07-07T18:37:56.463Z"
   },
   {
    "duration": 19,
    "start_time": "2021-07-07T18:39:40.535Z"
   },
   {
    "duration": 20,
    "start_time": "2021-07-07T18:40:12.236Z"
   },
   {
    "duration": 633,
    "start_time": "2021-07-07T18:42:00.398Z"
   },
   {
    "duration": 218,
    "start_time": "2021-07-07T18:42:01.033Z"
   },
   {
    "duration": 49,
    "start_time": "2021-07-07T18:42:01.253Z"
   },
   {
    "duration": 5,
    "start_time": "2021-07-07T18:42:01.303Z"
   },
   {
    "duration": 27,
    "start_time": "2021-07-07T18:42:01.310Z"
   },
   {
    "duration": 8,
    "start_time": "2021-07-07T18:42:01.339Z"
   },
   {
    "duration": 20,
    "start_time": "2021-07-07T18:42:01.348Z"
   },
   {
    "duration": 6,
    "start_time": "2021-07-07T18:42:01.386Z"
   },
   {
    "duration": 16,
    "start_time": "2021-07-07T18:42:01.394Z"
   },
   {
    "duration": 9,
    "start_time": "2021-07-07T18:42:01.411Z"
   },
   {
    "duration": 11,
    "start_time": "2021-07-07T18:42:01.421Z"
   },
   {
    "duration": 31,
    "start_time": "2021-07-07T18:42:01.434Z"
   },
   {
    "duration": 18,
    "start_time": "2021-07-07T18:42:01.485Z"
   },
   {
    "duration": 23,
    "start_time": "2021-07-07T18:42:01.505Z"
   },
   {
    "duration": 6,
    "start_time": "2021-07-07T18:42:01.530Z"
   },
   {
    "duration": 10,
    "start_time": "2021-07-07T18:42:01.538Z"
   },
   {
    "duration": 13,
    "start_time": "2021-07-07T18:42:01.550Z"
   },
   {
    "duration": 24,
    "start_time": "2021-07-07T18:42:01.564Z"
   },
   {
    "duration": 20,
    "start_time": "2021-07-07T18:42:01.590Z"
   },
   {
    "duration": 8,
    "start_time": "2021-07-07T18:42:01.611Z"
   },
   {
    "duration": 31,
    "start_time": "2021-07-07T18:42:01.620Z"
   },
   {
    "duration": 39,
    "start_time": "2021-07-07T18:42:01.653Z"
   },
   {
    "duration": 8,
    "start_time": "2021-07-07T18:42:01.696Z"
   },
   {
    "duration": 13,
    "start_time": "2021-07-07T18:42:01.705Z"
   },
   {
    "duration": 20,
    "start_time": "2021-07-07T18:42:01.720Z"
   },
   {
    "duration": 12,
    "start_time": "2021-07-07T18:42:01.741Z"
   },
   {
    "duration": 35,
    "start_time": "2021-07-07T18:42:01.755Z"
   },
   {
    "duration": 14,
    "start_time": "2021-07-07T18:42:01.792Z"
   },
   {
    "duration": 188,
    "start_time": "2021-07-07T18:42:01.808Z"
   },
   {
    "duration": 19,
    "start_time": "2021-07-07T18:42:01.998Z"
   },
   {
    "duration": 175,
    "start_time": "2021-07-07T18:42:02.019Z"
   },
   {
    "duration": 134,
    "start_time": "2021-07-07T18:42:02.196Z"
   },
   {
    "duration": 10,
    "start_time": "2021-07-07T18:42:02.331Z"
   },
   {
    "duration": 19,
    "start_time": "2021-07-07T18:42:02.343Z"
   },
   {
    "duration": 628,
    "start_time": "2021-07-07T18:46:30.701Z"
   },
   {
    "duration": 183,
    "start_time": "2021-07-07T18:46:31.331Z"
   },
   {
    "duration": 48,
    "start_time": "2021-07-07T18:46:31.516Z"
   },
   {
    "duration": 5,
    "start_time": "2021-07-07T18:46:31.566Z"
   },
   {
    "duration": 28,
    "start_time": "2021-07-07T18:46:31.572Z"
   },
   {
    "duration": 8,
    "start_time": "2021-07-07T18:46:31.602Z"
   },
   {
    "duration": 19,
    "start_time": "2021-07-07T18:46:31.611Z"
   },
   {
    "duration": 6,
    "start_time": "2021-07-07T18:46:31.633Z"
   },
   {
    "duration": 17,
    "start_time": "2021-07-07T18:46:31.642Z"
   },
   {
    "duration": 10,
    "start_time": "2021-07-07T18:46:31.684Z"
   },
   {
    "duration": 9,
    "start_time": "2021-07-07T18:46:31.695Z"
   },
   {
    "duration": 28,
    "start_time": "2021-07-07T18:46:31.705Z"
   },
   {
    "duration": 18,
    "start_time": "2021-07-07T18:46:31.735Z"
   },
   {
    "duration": 48,
    "start_time": "2021-07-07T18:46:31.755Z"
   },
   {
    "duration": 6,
    "start_time": "2021-07-07T18:46:31.804Z"
   },
   {
    "duration": 4,
    "start_time": "2021-07-07T18:46:31.812Z"
   },
   {
    "duration": 9,
    "start_time": "2021-07-07T18:46:31.817Z"
   },
   {
    "duration": 10,
    "start_time": "2021-07-07T18:46:31.827Z"
   },
   {
    "duration": 12,
    "start_time": "2021-07-07T18:46:31.838Z"
   },
   {
    "duration": 39,
    "start_time": "2021-07-07T18:46:31.851Z"
   },
   {
    "duration": 24,
    "start_time": "2021-07-07T18:46:31.892Z"
   },
   {
    "duration": 15,
    "start_time": "2021-07-07T18:46:31.918Z"
   },
   {
    "duration": 7,
    "start_time": "2021-07-07T18:46:31.936Z"
   },
   {
    "duration": 8,
    "start_time": "2021-07-07T18:46:31.944Z"
   },
   {
    "duration": 19,
    "start_time": "2021-07-07T18:46:31.984Z"
   },
   {
    "duration": 10,
    "start_time": "2021-07-07T18:46:32.004Z"
   },
   {
    "duration": 5,
    "start_time": "2021-07-07T18:46:32.016Z"
   },
   {
    "duration": 9,
    "start_time": "2021-07-07T18:46:32.023Z"
   },
   {
    "duration": 199,
    "start_time": "2021-07-07T18:46:32.033Z"
   },
   {
    "duration": 19,
    "start_time": "2021-07-07T18:46:32.234Z"
   },
   {
    "duration": 159,
    "start_time": "2021-07-07T18:46:32.255Z"
   },
   {
    "duration": 134,
    "start_time": "2021-07-07T18:46:32.416Z"
   },
   {
    "duration": 10,
    "start_time": "2021-07-07T18:46:32.552Z"
   },
   {
    "duration": 34,
    "start_time": "2021-07-07T18:46:32.563Z"
   },
   {
    "duration": 1039,
    "start_time": "2021-07-08T08:41:09.419Z"
   },
   {
    "duration": 333,
    "start_time": "2021-07-08T08:41:10.459Z"
   },
   {
    "duration": 173,
    "start_time": "2021-07-08T08:41:10.794Z"
   },
   {
    "duration": 5,
    "start_time": "2021-07-08T08:41:10.968Z"
   },
   {
    "duration": 25,
    "start_time": "2021-07-08T08:41:10.975Z"
   },
   {
    "duration": 9,
    "start_time": "2021-07-08T08:41:11.002Z"
   },
   {
    "duration": 18,
    "start_time": "2021-07-08T08:41:11.013Z"
   },
   {
    "duration": 6,
    "start_time": "2021-07-08T08:41:11.033Z"
   },
   {
    "duration": 44,
    "start_time": "2021-07-08T08:41:11.042Z"
   },
   {
    "duration": 10,
    "start_time": "2021-07-08T08:41:11.088Z"
   },
   {
    "duration": 9,
    "start_time": "2021-07-08T08:41:11.100Z"
   },
   {
    "duration": 27,
    "start_time": "2021-07-08T08:41:11.111Z"
   },
   {
    "duration": 46,
    "start_time": "2021-07-08T08:41:11.140Z"
   },
   {
    "duration": 17,
    "start_time": "2021-07-08T08:41:11.187Z"
   },
   {
    "duration": 6,
    "start_time": "2021-07-08T08:41:11.206Z"
   },
   {
    "duration": 5,
    "start_time": "2021-07-08T08:41:11.213Z"
   },
   {
    "duration": 10,
    "start_time": "2021-07-08T08:41:11.219Z"
   },
   {
    "duration": 9,
    "start_time": "2021-07-08T08:41:11.230Z"
   },
   {
    "duration": 45,
    "start_time": "2021-07-08T08:41:11.241Z"
   },
   {
    "duration": 7,
    "start_time": "2021-07-08T08:41:11.287Z"
   },
   {
    "duration": 24,
    "start_time": "2021-07-08T08:41:11.296Z"
   },
   {
    "duration": 16,
    "start_time": "2021-07-08T08:41:11.322Z"
   },
   {
    "duration": 7,
    "start_time": "2021-07-08T08:41:11.341Z"
   },
   {
    "duration": 41,
    "start_time": "2021-07-08T08:41:11.349Z"
   },
   {
    "duration": 17,
    "start_time": "2021-07-08T08:41:11.391Z"
   },
   {
    "duration": 9,
    "start_time": "2021-07-08T08:41:11.410Z"
   },
   {
    "duration": 5,
    "start_time": "2021-07-08T08:41:11.421Z"
   },
   {
    "duration": 6,
    "start_time": "2021-07-08T08:41:11.428Z"
   },
   {
    "duration": 198,
    "start_time": "2021-07-08T08:41:11.435Z"
   },
   {
    "duration": 18,
    "start_time": "2021-07-08T08:41:11.635Z"
   },
   {
    "duration": 155,
    "start_time": "2021-07-08T08:41:11.655Z"
   },
   {
    "duration": 138,
    "start_time": "2021-07-08T08:41:11.811Z"
   },
   {
    "duration": 10,
    "start_time": "2021-07-08T08:41:11.950Z"
   },
   {
    "duration": 29,
    "start_time": "2021-07-08T08:41:11.961Z"
   },
   {
    "duration": 171,
    "start_time": "2021-07-08T08:47:44.522Z"
   },
   {
    "duration": 124,
    "start_time": "2021-07-08T08:47:46.872Z"
   },
   {
    "duration": 191,
    "start_time": "2021-07-08T08:47:58.148Z"
   },
   {
    "duration": 191,
    "start_time": "2021-07-08T08:48:07.412Z"
   },
   {
    "duration": 261,
    "start_time": "2021-07-08T08:48:10.385Z"
   },
   {
    "duration": 255,
    "start_time": "2021-07-08T08:48:14.494Z"
   },
   {
    "duration": 219,
    "start_time": "2021-07-08T08:48:22.752Z"
   },
   {
    "duration": 173,
    "start_time": "2021-07-08T08:49:06.395Z"
   },
   {
    "duration": 180,
    "start_time": "2021-07-08T08:49:21.011Z"
   },
   {
    "duration": 6,
    "start_time": "2021-07-08T08:50:31.697Z"
   },
   {
    "duration": 10,
    "start_time": "2021-07-08T08:50:47.394Z"
   },
   {
    "duration": 11,
    "start_time": "2021-07-08T08:53:49.332Z"
   },
   {
    "duration": 171,
    "start_time": "2021-07-08T08:54:28.408Z"
   },
   {
    "duration": 636,
    "start_time": "2021-07-08T09:02:48.385Z"
   },
   {
    "duration": 227,
    "start_time": "2021-07-08T09:02:49.023Z"
   },
   {
    "duration": 104,
    "start_time": "2021-07-08T09:02:49.252Z"
   },
   {
    "duration": 5,
    "start_time": "2021-07-08T09:02:49.358Z"
   },
   {
    "duration": 27,
    "start_time": "2021-07-08T09:02:49.365Z"
   },
   {
    "duration": 8,
    "start_time": "2021-07-08T09:02:49.394Z"
   },
   {
    "duration": 18,
    "start_time": "2021-07-08T09:02:49.404Z"
   },
   {
    "duration": 6,
    "start_time": "2021-07-08T09:02:49.424Z"
   },
   {
    "duration": 11,
    "start_time": "2021-07-08T09:02:49.433Z"
   },
   {
    "duration": 13,
    "start_time": "2021-07-08T09:02:49.485Z"
   },
   {
    "duration": 9,
    "start_time": "2021-07-08T09:02:49.500Z"
   },
   {
    "duration": 38,
    "start_time": "2021-07-08T09:02:49.511Z"
   },
   {
    "duration": 42,
    "start_time": "2021-07-08T09:02:49.551Z"
   },
   {
    "duration": 21,
    "start_time": "2021-07-08T09:02:49.594Z"
   },
   {
    "duration": 6,
    "start_time": "2021-07-08T09:02:49.616Z"
   },
   {
    "duration": 3,
    "start_time": "2021-07-08T09:02:49.623Z"
   },
   {
    "duration": 9,
    "start_time": "2021-07-08T09:02:49.628Z"
   },
   {
    "duration": 52,
    "start_time": "2021-07-08T09:02:49.638Z"
   },
   {
    "duration": 11,
    "start_time": "2021-07-08T09:02:49.692Z"
   },
   {
    "duration": 8,
    "start_time": "2021-07-08T09:02:49.704Z"
   },
   {
    "duration": 27,
    "start_time": "2021-07-08T09:02:49.713Z"
   },
   {
    "duration": 59,
    "start_time": "2021-07-08T09:02:49.741Z"
   },
   {
    "duration": 8,
    "start_time": "2021-07-08T09:02:49.803Z"
   },
   {
    "duration": 14,
    "start_time": "2021-07-08T09:02:49.813Z"
   },
   {
    "duration": 20,
    "start_time": "2021-07-08T09:02:49.829Z"
   },
   {
    "duration": 44,
    "start_time": "2021-07-08T09:02:49.851Z"
   },
   {
    "duration": 14,
    "start_time": "2021-07-08T09:02:49.896Z"
   },
   {
    "duration": 221,
    "start_time": "2021-07-08T09:02:49.912Z"
   },
   {
    "duration": 6,
    "start_time": "2021-07-08T09:02:50.134Z"
   },
   {
    "duration": 206,
    "start_time": "2021-07-08T09:02:50.142Z"
   },
   {
    "duration": 19,
    "start_time": "2021-07-08T09:02:50.350Z"
   },
   {
    "duration": 21,
    "start_time": "2021-07-08T09:02:50.370Z"
   },
   {
    "duration": 20,
    "start_time": "2021-07-08T09:02:50.393Z"
   },
   {
    "duration": 5,
    "start_time": "2021-07-08T09:02:50.414Z"
   },
   {
    "duration": 5,
    "start_time": "2021-07-08T09:03:34.173Z"
   },
   {
    "duration": 6,
    "start_time": "2021-07-08T09:04:49.062Z"
   },
   {
    "duration": 9,
    "start_time": "2021-07-08T09:04:50.118Z"
   },
   {
    "duration": 14,
    "start_time": "2021-07-08T09:04:58.512Z"
   },
   {
    "duration": 9,
    "start_time": "2021-07-08T09:05:10.988Z"
   },
   {
    "duration": 11,
    "start_time": "2021-07-08T09:05:11.743Z"
   },
   {
    "duration": 7,
    "start_time": "2021-07-08T09:05:25.677Z"
   },
   {
    "duration": 13,
    "start_time": "2021-07-08T09:05:47.189Z"
   },
   {
    "duration": 13,
    "start_time": "2021-07-08T09:05:54.755Z"
   },
   {
    "duration": 4,
    "start_time": "2021-07-08T09:06:29.189Z"
   },
   {
    "duration": 244,
    "start_time": "2021-07-08T09:06:29.195Z"
   },
   {
    "duration": 91,
    "start_time": "2021-07-08T09:06:29.441Z"
   },
   {
    "duration": 4,
    "start_time": "2021-07-08T09:06:29.534Z"
   },
   {
    "duration": 28,
    "start_time": "2021-07-08T09:06:29.540Z"
   },
   {
    "duration": 6,
    "start_time": "2021-07-08T09:06:29.570Z"
   },
   {
    "duration": 18,
    "start_time": "2021-07-08T09:06:29.578Z"
   },
   {
    "duration": 5,
    "start_time": "2021-07-08T09:06:29.597Z"
   },
   {
    "duration": 13,
    "start_time": "2021-07-08T09:06:29.605Z"
   },
   {
    "duration": 8,
    "start_time": "2021-07-08T09:06:29.620Z"
   },
   {
    "duration": 7,
    "start_time": "2021-07-08T09:06:29.630Z"
   },
   {
    "duration": 63,
    "start_time": "2021-07-08T09:06:29.639Z"
   },
   {
    "duration": 17,
    "start_time": "2021-07-08T09:06:29.704Z"
   },
   {
    "duration": 20,
    "start_time": "2021-07-08T09:06:29.723Z"
   },
   {
    "duration": 6,
    "start_time": "2021-07-08T09:06:29.745Z"
   },
   {
    "duration": 3,
    "start_time": "2021-07-08T09:06:29.752Z"
   },
   {
    "duration": 7,
    "start_time": "2021-07-08T09:06:29.785Z"
   },
   {
    "duration": 11,
    "start_time": "2021-07-08T09:06:29.794Z"
   },
   {
    "duration": 15,
    "start_time": "2021-07-08T09:06:29.807Z"
   },
   {
    "duration": 8,
    "start_time": "2021-07-08T09:06:29.823Z"
   },
   {
    "duration": 70,
    "start_time": "2021-07-08T09:06:29.832Z"
   },
   {
    "duration": 17,
    "start_time": "2021-07-08T09:06:29.903Z"
   },
   {
    "duration": 9,
    "start_time": "2021-07-08T09:06:29.921Z"
   },
   {
    "duration": 9,
    "start_time": "2021-07-08T09:06:29.932Z"
   },
   {
    "duration": 57,
    "start_time": "2021-07-08T09:06:29.942Z"
   },
   {
    "duration": 11,
    "start_time": "2021-07-08T09:06:30.001Z"
   },
   {
    "duration": 19,
    "start_time": "2021-07-08T09:06:30.016Z"
   },
   {
    "duration": 217,
    "start_time": "2021-07-08T09:06:30.037Z"
   },
   {
    "duration": 6,
    "start_time": "2021-07-08T09:06:30.255Z"
   },
   {
    "duration": 205,
    "start_time": "2021-07-08T09:06:30.263Z"
   },
   {
    "duration": 27,
    "start_time": "2021-07-08T09:06:30.470Z"
   },
   {
    "duration": 11,
    "start_time": "2021-07-08T09:06:30.500Z"
   },
   {
    "duration": 31,
    "start_time": "2021-07-08T09:06:30.513Z"
   },
   {
    "duration": 18,
    "start_time": "2021-07-08T09:06:30.546Z"
   },
   {
    "duration": 11,
    "start_time": "2021-07-08T09:06:30.566Z"
   },
   {
    "duration": 19,
    "start_time": "2021-07-08T09:06:30.579Z"
   },
   {
    "duration": 20,
    "start_time": "2021-07-08T09:06:49.466Z"
   },
   {
    "duration": 9,
    "start_time": "2021-07-08T09:06:51.994Z"
   },
   {
    "duration": 20,
    "start_time": "2021-07-08T09:06:52.273Z"
   },
   {
    "duration": 246,
    "start_time": "2021-07-08T09:10:21.272Z"
   },
   {
    "duration": 84,
    "start_time": "2021-07-08T09:10:21.436Z"
   },
   {
    "duration": 7,
    "start_time": "2021-07-08T09:10:37.608Z"
   },
   {
    "duration": 189,
    "start_time": "2021-07-08T09:10:38.573Z"
   },
   {
    "duration": 185,
    "start_time": "2021-07-08T09:10:53.181Z"
   },
   {
    "duration": 11,
    "start_time": "2021-07-08T09:10:59.549Z"
   },
   {
    "duration": 42,
    "start_time": "2021-07-08T09:10:59.709Z"
   },
   {
    "duration": 12,
    "start_time": "2021-07-08T09:11:02.857Z"
   },
   {
    "duration": 28,
    "start_time": "2021-07-08T09:11:10.062Z"
   },
   {
    "duration": 249,
    "start_time": "2021-07-08T09:11:37.388Z"
   },
   {
    "duration": 232,
    "start_time": "2021-07-08T09:11:49.485Z"
   },
   {
    "duration": 453,
    "start_time": "2021-07-08T09:12:01.546Z"
   },
   {
    "duration": 440,
    "start_time": "2021-07-08T09:12:12.347Z"
   },
   {
    "duration": 213,
    "start_time": "2021-07-08T09:13:32.196Z"
   },
   {
    "duration": 172,
    "start_time": "2021-07-08T09:14:07.400Z"
   },
   {
    "duration": 185,
    "start_time": "2021-07-08T09:14:14.905Z"
   },
   {
    "duration": 209,
    "start_time": "2021-07-08T09:14:40.109Z"
   },
   {
    "duration": 201,
    "start_time": "2021-07-08T09:14:54.506Z"
   },
   {
    "duration": 622,
    "start_time": "2021-07-08T09:18:14.497Z"
   },
   {
    "duration": 220,
    "start_time": "2021-07-08T09:18:15.121Z"
   },
   {
    "duration": 79,
    "start_time": "2021-07-08T09:18:15.343Z"
   },
   {
    "duration": 4,
    "start_time": "2021-07-08T09:18:15.425Z"
   },
   {
    "duration": 24,
    "start_time": "2021-07-08T09:18:15.431Z"
   },
   {
    "duration": 8,
    "start_time": "2021-07-08T09:18:15.457Z"
   },
   {
    "duration": 16,
    "start_time": "2021-07-08T09:18:15.466Z"
   },
   {
    "duration": 5,
    "start_time": "2021-07-08T09:18:15.484Z"
   },
   {
    "duration": 10,
    "start_time": "2021-07-08T09:18:15.493Z"
   },
   {
    "duration": 8,
    "start_time": "2021-07-08T09:18:15.504Z"
   },
   {
    "duration": 7,
    "start_time": "2021-07-08T09:18:15.513Z"
   },
   {
    "duration": 26,
    "start_time": "2021-07-08T09:18:15.522Z"
   },
   {
    "duration": 49,
    "start_time": "2021-07-08T09:18:15.550Z"
   },
   {
    "duration": 21,
    "start_time": "2021-07-08T09:18:15.601Z"
   },
   {
    "duration": 8,
    "start_time": "2021-07-08T09:18:15.624Z"
   },
   {
    "duration": 3,
    "start_time": "2021-07-08T09:18:15.634Z"
   },
   {
    "duration": 8,
    "start_time": "2021-07-08T09:18:15.639Z"
   },
   {
    "duration": 45,
    "start_time": "2021-07-08T09:18:15.649Z"
   },
   {
    "duration": 13,
    "start_time": "2021-07-08T09:18:15.696Z"
   },
   {
    "duration": 10,
    "start_time": "2021-07-08T09:18:15.711Z"
   },
   {
    "duration": 64,
    "start_time": "2021-07-08T09:18:15.722Z"
   },
   {
    "duration": 19,
    "start_time": "2021-07-08T09:18:15.788Z"
   },
   {
    "duration": 9,
    "start_time": "2021-07-08T09:18:15.809Z"
   },
   {
    "duration": 9,
    "start_time": "2021-07-08T09:18:15.820Z"
   },
   {
    "duration": 18,
    "start_time": "2021-07-08T09:18:15.831Z"
   },
   {
    "duration": 43,
    "start_time": "2021-07-08T09:18:15.851Z"
   },
   {
    "duration": 12,
    "start_time": "2021-07-08T09:18:15.897Z"
   },
   {
    "duration": 219,
    "start_time": "2021-07-08T09:18:15.911Z"
   },
   {
    "duration": 8,
    "start_time": "2021-07-08T09:18:16.132Z"
   },
   {
    "duration": 199,
    "start_time": "2021-07-08T09:18:16.141Z"
   },
   {
    "duration": 18,
    "start_time": "2021-07-08T09:18:16.341Z"
   },
   {
    "duration": 24,
    "start_time": "2021-07-08T09:18:16.361Z"
   },
   {
    "duration": 24,
    "start_time": "2021-07-08T09:18:16.387Z"
   },
   {
    "duration": 211,
    "start_time": "2021-07-08T09:18:16.413Z"
   },
   {
    "duration": 18,
    "start_time": "2021-07-08T09:18:16.626Z"
   },
   {
    "duration": 596,
    "start_time": "2021-07-08T10:06:33.623Z"
   },
   {
    "duration": 181,
    "start_time": "2021-07-08T10:06:34.221Z"
   },
   {
    "duration": 176,
    "start_time": "2021-07-08T10:06:34.635Z"
   },
   {
    "duration": 239,
    "start_time": "2021-07-08T10:06:55.572Z"
   },
   {
    "duration": 6,
    "start_time": "2021-07-08T10:06:57.687Z"
   },
   {
    "duration": 4,
    "start_time": "2021-07-08T10:07:03.956Z"
   },
   {
    "duration": 4,
    "start_time": "2021-07-08T10:07:10.376Z"
   },
   {
    "duration": 4,
    "start_time": "2021-07-08T10:17:19.889Z"
   },
   {
    "duration": 3,
    "start_time": "2021-07-08T10:19:19.407Z"
   },
   {
    "duration": 197,
    "start_time": "2021-07-08T10:19:19.412Z"
   },
   {
    "duration": 127,
    "start_time": "2021-07-08T10:19:19.611Z"
   },
   {
    "duration": 4,
    "start_time": "2021-07-08T10:19:19.740Z"
   },
   {
    "duration": 27,
    "start_time": "2021-07-08T10:19:19.746Z"
   },
   {
    "duration": 7,
    "start_time": "2021-07-08T10:19:19.775Z"
   },
   {
    "duration": 30,
    "start_time": "2021-07-08T10:19:19.784Z"
   },
   {
    "duration": 7,
    "start_time": "2021-07-08T10:19:19.817Z"
   },
   {
    "duration": 26,
    "start_time": "2021-07-08T10:19:19.826Z"
   },
   {
    "duration": 18,
    "start_time": "2021-07-08T10:19:19.854Z"
   },
   {
    "duration": 14,
    "start_time": "2021-07-08T10:19:19.874Z"
   },
   {
    "duration": 48,
    "start_time": "2021-07-08T10:19:19.890Z"
   },
   {
    "duration": 17,
    "start_time": "2021-07-08T10:19:19.940Z"
   },
   {
    "duration": 38,
    "start_time": "2021-07-08T10:19:19.959Z"
   },
   {
    "duration": 8,
    "start_time": "2021-07-08T10:19:19.999Z"
   },
   {
    "duration": 15,
    "start_time": "2021-07-08T10:19:20.009Z"
   },
   {
    "duration": 22,
    "start_time": "2021-07-08T10:19:20.026Z"
   },
   {
    "duration": 10,
    "start_time": "2021-07-08T10:19:20.050Z"
   },
   {
    "duration": 10,
    "start_time": "2021-07-08T10:19:20.062Z"
   },
   {
    "duration": 20,
    "start_time": "2021-07-08T10:19:20.073Z"
   },
   {
    "duration": 29,
    "start_time": "2021-07-08T10:19:20.095Z"
   },
   {
    "duration": 17,
    "start_time": "2021-07-08T10:19:20.126Z"
   },
   {
    "duration": 40,
    "start_time": "2021-07-08T10:19:20.146Z"
   },
   {
    "duration": 15,
    "start_time": "2021-07-08T10:19:20.189Z"
   },
   {
    "duration": 19,
    "start_time": "2021-07-08T10:19:20.206Z"
   },
   {
    "duration": 10,
    "start_time": "2021-07-08T10:19:20.226Z"
   },
   {
    "duration": 11,
    "start_time": "2021-07-08T10:19:20.238Z"
   },
   {
    "duration": 297,
    "start_time": "2021-07-08T10:19:20.250Z"
   },
   {
    "duration": 6,
    "start_time": "2021-07-08T10:19:20.549Z"
   },
   {
    "duration": 191,
    "start_time": "2021-07-08T10:19:20.557Z"
   },
   {
    "duration": 19,
    "start_time": "2021-07-08T10:19:20.750Z"
   },
   {
    "duration": 20,
    "start_time": "2021-07-08T10:19:20.771Z"
   },
   {
    "duration": 15,
    "start_time": "2021-07-08T10:19:20.793Z"
   },
   {
    "duration": 222,
    "start_time": "2021-07-08T10:19:20.809Z"
   },
   {
    "duration": 20,
    "start_time": "2021-07-08T10:19:21.033Z"
   },
   {
    "duration": 27,
    "start_time": "2021-07-08T10:45:04.055Z"
   },
   {
    "duration": 8,
    "start_time": "2021-07-08T10:45:08.478Z"
   },
   {
    "duration": 8,
    "start_time": "2021-07-08T10:45:31.982Z"
   },
   {
    "duration": 10,
    "start_time": "2021-07-08T10:46:01.221Z"
   },
   {
    "duration": 17,
    "start_time": "2021-07-08T10:46:40.011Z"
   },
   {
    "duration": 193,
    "start_time": "2021-07-08T10:48:19.471Z"
   },
   {
    "duration": 225,
    "start_time": "2021-07-08T10:49:26.480Z"
   },
   {
    "duration": 204,
    "start_time": "2021-07-08T10:49:59.992Z"
   },
   {
    "duration": 435,
    "start_time": "2021-07-08T10:50:06.779Z"
   },
   {
    "duration": 199,
    "start_time": "2021-07-08T10:50:14.891Z"
   },
   {
    "duration": 204,
    "start_time": "2021-07-08T10:50:18.501Z"
   },
   {
    "duration": 244,
    "start_time": "2021-07-08T10:50:23.359Z"
   },
   {
    "duration": 192,
    "start_time": "2021-07-08T10:50:29.135Z"
   },
   {
    "duration": 218,
    "start_time": "2021-07-08T10:50:33.092Z"
   },
   {
    "duration": 207,
    "start_time": "2021-07-08T10:52:45.381Z"
   },
   {
    "duration": 5,
    "start_time": "2021-07-08T10:53:34.641Z"
   },
   {
    "duration": 196,
    "start_time": "2021-07-08T10:53:41.478Z"
   },
   {
    "duration": 43,
    "start_time": "2021-07-08T10:53:50.335Z"
   },
   {
    "duration": 32,
    "start_time": "2021-07-08T10:53:55.294Z"
   },
   {
    "duration": 55,
    "start_time": "2021-07-08T10:54:09.675Z"
   },
   {
    "duration": 16,
    "start_time": "2021-07-08T10:54:12.260Z"
   },
   {
    "duration": 15,
    "start_time": "2021-07-08T10:54:49.150Z"
   },
   {
    "duration": 20,
    "start_time": "2021-07-08T10:56:07.596Z"
   },
   {
    "duration": 16,
    "start_time": "2021-07-08T10:58:26.276Z"
   },
   {
    "duration": 22,
    "start_time": "2021-07-08T10:59:00.486Z"
   },
   {
    "duration": 18,
    "start_time": "2021-07-08T11:02:09.653Z"
   },
   {
    "duration": 10,
    "start_time": "2021-07-08T11:03:44.331Z"
   },
   {
    "duration": 10,
    "start_time": "2021-07-08T11:03:54.055Z"
   },
   {
    "duration": 12,
    "start_time": "2021-07-08T11:04:41.967Z"
   },
   {
    "duration": 24,
    "start_time": "2021-07-08T11:07:30.732Z"
   },
   {
    "duration": 6,
    "start_time": "2021-07-08T11:07:37.364Z"
   },
   {
    "duration": 16,
    "start_time": "2021-07-08T11:08:01.819Z"
   },
   {
    "duration": 17,
    "start_time": "2021-07-08T11:09:47.488Z"
   },
   {
    "duration": 246,
    "start_time": "2021-07-08T11:10:00.830Z"
   },
   {
    "duration": 18,
    "start_time": "2021-07-08T11:13:55.195Z"
   },
   {
    "duration": 204,
    "start_time": "2021-07-08T11:14:04.951Z"
   },
   {
    "duration": 19,
    "start_time": "2021-07-08T11:15:10.613Z"
   },
   {
    "duration": 680,
    "start_time": "2021-07-08T11:16:25.793Z"
   },
   {
    "duration": 451,
    "start_time": "2021-07-08T11:16:40.313Z"
   },
   {
    "duration": 469,
    "start_time": "2021-07-08T11:17:21.286Z"
   },
   {
    "duration": 20,
    "start_time": "2021-07-08T11:19:12.554Z"
   },
   {
    "duration": 35,
    "start_time": "2021-07-08T11:20:05.484Z"
   },
   {
    "duration": 53,
    "start_time": "2021-07-08T11:21:40.050Z"
   },
   {
    "duration": 13,
    "start_time": "2021-07-08T11:22:26.059Z"
   },
   {
    "duration": 19,
    "start_time": "2021-07-08T11:22:47.419Z"
   },
   {
    "duration": 25,
    "start_time": "2021-07-08T11:23:19.958Z"
   },
   {
    "duration": 29,
    "start_time": "2021-07-08T11:23:25.415Z"
   },
   {
    "duration": 10,
    "start_time": "2021-07-08T11:24:45.138Z"
   },
   {
    "duration": 19,
    "start_time": "2021-07-08T11:24:54.498Z"
   },
   {
    "duration": 12,
    "start_time": "2021-07-08T11:25:32.225Z"
   },
   {
    "duration": 19,
    "start_time": "2021-07-08T11:25:37.092Z"
   },
   {
    "duration": 17,
    "start_time": "2021-07-08T11:25:58.116Z"
   },
   {
    "duration": 15,
    "start_time": "2021-07-08T11:26:02.258Z"
   },
   {
    "duration": 8,
    "start_time": "2021-07-08T11:26:59.682Z"
   },
   {
    "duration": 184,
    "start_time": "2021-07-08T11:27:21.894Z"
   },
   {
    "duration": 8,
    "start_time": "2021-07-08T11:27:23.824Z"
   },
   {
    "duration": 202,
    "start_time": "2021-07-08T11:27:23.962Z"
   },
   {
    "duration": 360,
    "start_time": "2021-07-08T11:28:33.215Z"
   },
   {
    "duration": 231,
    "start_time": "2021-07-08T11:32:05.542Z"
   },
   {
    "duration": 607,
    "start_time": "2021-07-08T11:36:27.854Z"
   },
   {
    "duration": 241,
    "start_time": "2021-07-08T11:36:28.463Z"
   },
   {
    "duration": 67,
    "start_time": "2021-07-08T11:36:28.709Z"
   },
   {
    "duration": 5,
    "start_time": "2021-07-08T11:36:28.778Z"
   },
   {
    "duration": 32,
    "start_time": "2021-07-08T11:36:28.784Z"
   },
   {
    "duration": 11,
    "start_time": "2021-07-08T11:36:28.819Z"
   },
   {
    "duration": 20,
    "start_time": "2021-07-08T11:36:28.834Z"
   },
   {
    "duration": 36,
    "start_time": "2021-07-08T11:36:28.857Z"
   },
   {
    "duration": 16,
    "start_time": "2021-07-08T11:36:28.895Z"
   },
   {
    "duration": 14,
    "start_time": "2021-07-08T11:36:28.913Z"
   },
   {
    "duration": 9,
    "start_time": "2021-07-08T11:36:28.930Z"
   },
   {
    "duration": 55,
    "start_time": "2021-07-08T11:36:28.941Z"
   },
   {
    "duration": 27,
    "start_time": "2021-07-08T11:36:28.999Z"
   },
   {
    "duration": 30,
    "start_time": "2021-07-08T11:36:29.028Z"
   },
   {
    "duration": 31,
    "start_time": "2021-07-08T11:36:29.060Z"
   },
   {
    "duration": 3,
    "start_time": "2021-07-08T11:36:29.093Z"
   },
   {
    "duration": 12,
    "start_time": "2021-07-08T11:36:29.099Z"
   },
   {
    "duration": 11,
    "start_time": "2021-07-08T11:36:29.112Z"
   },
   {
    "duration": 12,
    "start_time": "2021-07-08T11:36:29.125Z"
   },
   {
    "duration": 9,
    "start_time": "2021-07-08T11:36:29.139Z"
   },
   {
    "duration": 31,
    "start_time": "2021-07-08T11:36:29.191Z"
   },
   {
    "duration": 17,
    "start_time": "2021-07-08T11:36:29.226Z"
   },
   {
    "duration": 7,
    "start_time": "2021-07-08T11:36:29.245Z"
   },
   {
    "duration": 10,
    "start_time": "2021-07-08T11:36:29.254Z"
   },
   {
    "duration": 30,
    "start_time": "2021-07-08T11:36:29.292Z"
   },
   {
    "duration": 11,
    "start_time": "2021-07-08T11:36:29.324Z"
   },
   {
    "duration": 11,
    "start_time": "2021-07-08T11:36:29.337Z"
   },
   {
    "duration": 230,
    "start_time": "2021-07-08T11:36:29.349Z"
   },
   {
    "duration": 13,
    "start_time": "2021-07-08T11:36:29.588Z"
   },
   {
    "duration": 205,
    "start_time": "2021-07-08T11:36:29.603Z"
   },
   {
    "duration": 20,
    "start_time": "2021-07-08T11:36:29.810Z"
   },
   {
    "duration": 9,
    "start_time": "2021-07-08T11:36:29.832Z"
   },
   {
    "duration": 16,
    "start_time": "2021-07-08T11:36:29.843Z"
   },
   {
    "duration": 283,
    "start_time": "2021-07-08T11:36:29.861Z"
   },
   {
    "duration": 50,
    "start_time": "2021-07-08T11:36:30.146Z"
   },
   {
    "duration": 14,
    "start_time": "2021-07-08T11:36:30.198Z"
   },
   {
    "duration": 11,
    "start_time": "2021-07-08T11:36:30.214Z"
   },
   {
    "duration": 245,
    "start_time": "2021-07-08T11:36:30.227Z"
   },
   {
    "duration": 439,
    "start_time": "2021-07-08T11:36:30.474Z"
   },
   {
    "duration": 210,
    "start_time": "2021-07-08T11:36:30.915Z"
   },
   {
    "duration": 15,
    "start_time": "2021-07-08T11:36:31.127Z"
   },
   {
    "duration": 17,
    "start_time": "2021-07-08T11:38:20.451Z"
   },
   {
    "duration": 642,
    "start_time": "2021-07-08T11:46:17.881Z"
   },
   {
    "duration": 210,
    "start_time": "2021-07-08T11:46:18.525Z"
   },
   {
    "duration": 104,
    "start_time": "2021-07-08T11:46:18.741Z"
   },
   {
    "duration": 8,
    "start_time": "2021-07-08T11:46:18.847Z"
   },
   {
    "duration": 25,
    "start_time": "2021-07-08T11:46:18.857Z"
   },
   {
    "duration": 14,
    "start_time": "2021-07-08T11:46:18.884Z"
   },
   {
    "duration": 22,
    "start_time": "2021-07-08T11:46:18.900Z"
   },
   {
    "duration": 5,
    "start_time": "2021-07-08T11:46:18.924Z"
   },
   {
    "duration": 13,
    "start_time": "2021-07-08T11:46:18.931Z"
   },
   {
    "duration": 45,
    "start_time": "2021-07-08T11:46:18.946Z"
   },
   {
    "duration": 12,
    "start_time": "2021-07-08T11:46:18.993Z"
   },
   {
    "duration": 38,
    "start_time": "2021-07-08T11:46:19.006Z"
   },
   {
    "duration": 50,
    "start_time": "2021-07-08T11:46:19.046Z"
   },
   {
    "duration": 29,
    "start_time": "2021-07-08T11:46:19.099Z"
   },
   {
    "duration": 7,
    "start_time": "2021-07-08T11:46:19.130Z"
   },
   {
    "duration": 3,
    "start_time": "2021-07-08T11:46:19.139Z"
   },
   {
    "duration": 11,
    "start_time": "2021-07-08T11:46:19.144Z"
   },
   {
    "duration": 40,
    "start_time": "2021-07-08T11:46:19.157Z"
   },
   {
    "duration": 15,
    "start_time": "2021-07-08T11:46:19.199Z"
   },
   {
    "duration": 10,
    "start_time": "2021-07-08T11:46:19.217Z"
   },
   {
    "duration": 68,
    "start_time": "2021-07-08T11:46:19.230Z"
   },
   {
    "duration": 17,
    "start_time": "2021-07-08T11:46:19.301Z"
   },
   {
    "duration": 7,
    "start_time": "2021-07-08T11:46:19.321Z"
   },
   {
    "duration": 11,
    "start_time": "2021-07-08T11:46:19.330Z"
   },
   {
    "duration": 59,
    "start_time": "2021-07-08T11:46:19.343Z"
   },
   {
    "duration": 17,
    "start_time": "2021-07-08T11:46:19.405Z"
   },
   {
    "duration": 16,
    "start_time": "2021-07-08T11:46:19.424Z"
   },
   {
    "duration": 252,
    "start_time": "2021-07-08T11:46:19.443Z"
   },
   {
    "duration": 9,
    "start_time": "2021-07-08T11:46:19.697Z"
   },
   {
    "duration": 224,
    "start_time": "2021-07-08T11:46:19.708Z"
   },
   {
    "duration": 21,
    "start_time": "2021-07-08T11:46:19.934Z"
   },
   {
    "duration": 9,
    "start_time": "2021-07-08T11:46:19.956Z"
   },
   {
    "duration": 32,
    "start_time": "2021-07-08T11:46:19.967Z"
   },
   {
    "duration": 288,
    "start_time": "2021-07-08T11:46:20.004Z"
   },
   {
    "duration": 23,
    "start_time": "2021-07-08T11:46:20.300Z"
   },
   {
    "duration": 11,
    "start_time": "2021-07-08T11:46:20.325Z"
   },
   {
    "duration": 11,
    "start_time": "2021-07-08T11:46:20.339Z"
   },
   {
    "duration": 259,
    "start_time": "2021-07-08T11:46:20.352Z"
   },
   {
    "duration": 438,
    "start_time": "2021-07-08T11:46:20.613Z"
   },
   {
    "duration": 207,
    "start_time": "2021-07-08T11:46:21.054Z"
   },
   {
    "duration": 27,
    "start_time": "2021-07-08T11:46:21.262Z"
   },
   {
    "duration": 19,
    "start_time": "2021-07-08T11:46:21.291Z"
   },
   {
    "duration": 820,
    "start_time": "2021-07-08T11:49:01.655Z"
   },
   {
    "duration": 372,
    "start_time": "2021-07-08T11:49:02.478Z"
   },
   {
    "duration": 98,
    "start_time": "2021-07-08T11:49:02.853Z"
   },
   {
    "duration": 6,
    "start_time": "2021-07-08T11:49:02.953Z"
   },
   {
    "duration": 39,
    "start_time": "2021-07-08T11:49:02.960Z"
   },
   {
    "duration": 9,
    "start_time": "2021-07-08T11:49:03.003Z"
   },
   {
    "duration": 23,
    "start_time": "2021-07-08T11:49:03.014Z"
   },
   {
    "duration": 6,
    "start_time": "2021-07-08T11:49:03.041Z"
   },
   {
    "duration": 20,
    "start_time": "2021-07-08T11:49:03.049Z"
   },
   {
    "duration": 18,
    "start_time": "2021-07-08T11:49:03.084Z"
   },
   {
    "duration": 14,
    "start_time": "2021-07-08T11:49:03.104Z"
   },
   {
    "duration": 39,
    "start_time": "2021-07-08T11:49:03.119Z"
   },
   {
    "duration": 38,
    "start_time": "2021-07-08T11:49:03.160Z"
   },
   {
    "duration": 26,
    "start_time": "2021-07-08T11:49:03.200Z"
   },
   {
    "duration": 7,
    "start_time": "2021-07-08T11:49:03.227Z"
   },
   {
    "duration": 4,
    "start_time": "2021-07-08T11:49:03.236Z"
   },
   {
    "duration": 15,
    "start_time": "2021-07-08T11:49:03.243Z"
   },
   {
    "duration": 21,
    "start_time": "2021-07-08T11:49:03.285Z"
   },
   {
    "duration": 17,
    "start_time": "2021-07-08T11:49:03.309Z"
   },
   {
    "duration": 10,
    "start_time": "2021-07-08T11:49:03.328Z"
   },
   {
    "duration": 65,
    "start_time": "2021-07-08T11:49:03.340Z"
   },
   {
    "duration": 18,
    "start_time": "2021-07-08T11:49:03.407Z"
   },
   {
    "duration": 8,
    "start_time": "2021-07-08T11:49:03.428Z"
   },
   {
    "duration": 15,
    "start_time": "2021-07-08T11:49:03.438Z"
   },
   {
    "duration": 40,
    "start_time": "2021-07-08T11:49:03.455Z"
   },
   {
    "duration": 12,
    "start_time": "2021-07-08T11:49:03.497Z"
   },
   {
    "duration": 29,
    "start_time": "2021-07-08T11:49:03.511Z"
   },
   {
    "duration": 285,
    "start_time": "2021-07-08T11:49:03.542Z"
   },
   {
    "duration": 8,
    "start_time": "2021-07-08T11:49:03.829Z"
   },
   {
    "duration": 227,
    "start_time": "2021-07-08T11:49:03.838Z"
   },
   {
    "duration": 40,
    "start_time": "2021-07-08T11:49:04.066Z"
   },
   {
    "duration": 10,
    "start_time": "2021-07-08T11:49:04.108Z"
   },
   {
    "duration": 26,
    "start_time": "2021-07-08T11:49:04.121Z"
   },
   {
    "duration": 290,
    "start_time": "2021-07-08T11:49:04.149Z"
   },
   {
    "duration": 26,
    "start_time": "2021-07-08T11:49:04.441Z"
   },
   {
    "duration": 31,
    "start_time": "2021-07-08T11:49:04.470Z"
   },
   {
    "duration": 14,
    "start_time": "2021-07-08T11:49:04.503Z"
   },
   {
    "duration": 259,
    "start_time": "2021-07-08T11:49:04.521Z"
   },
   {
    "duration": 480,
    "start_time": "2021-07-08T11:49:04.782Z"
   },
   {
    "duration": 225,
    "start_time": "2021-07-08T11:49:05.264Z"
   },
   {
    "duration": 22,
    "start_time": "2021-07-08T11:49:05.491Z"
   },
   {
    "duration": 24,
    "start_time": "2021-07-08T11:49:05.515Z"
   },
   {
    "duration": 634,
    "start_time": "2021-07-08T11:52:24.960Z"
   },
   {
    "duration": 199,
    "start_time": "2021-07-08T11:52:25.599Z"
   },
   {
    "duration": 106,
    "start_time": "2021-07-08T11:52:25.803Z"
   },
   {
    "duration": 7,
    "start_time": "2021-07-08T11:52:25.911Z"
   },
   {
    "duration": 29,
    "start_time": "2021-07-08T11:52:25.920Z"
   },
   {
    "duration": 7,
    "start_time": "2021-07-08T11:52:25.951Z"
   },
   {
    "duration": 26,
    "start_time": "2021-07-08T11:52:25.961Z"
   },
   {
    "duration": 11,
    "start_time": "2021-07-08T11:52:25.990Z"
   },
   {
    "duration": 29,
    "start_time": "2021-07-08T11:52:26.005Z"
   },
   {
    "duration": 9,
    "start_time": "2021-07-08T11:52:26.036Z"
   },
   {
    "duration": 8,
    "start_time": "2021-07-08T11:52:26.047Z"
   },
   {
    "duration": 63,
    "start_time": "2021-07-08T11:52:26.057Z"
   },
   {
    "duration": 17,
    "start_time": "2021-07-08T11:52:26.122Z"
   },
   {
    "duration": 43,
    "start_time": "2021-07-08T11:52:26.142Z"
   },
   {
    "duration": 17,
    "start_time": "2021-07-08T11:52:26.187Z"
   },
   {
    "duration": 5,
    "start_time": "2021-07-08T11:52:26.206Z"
   },
   {
    "duration": 12,
    "start_time": "2021-07-08T11:52:26.212Z"
   },
   {
    "duration": 11,
    "start_time": "2021-07-08T11:52:26.226Z"
   },
   {
    "duration": 12,
    "start_time": "2021-07-08T11:52:26.238Z"
   },
   {
    "duration": 38,
    "start_time": "2021-07-08T11:52:26.252Z"
   },
   {
    "duration": 40,
    "start_time": "2021-07-08T11:52:26.292Z"
   },
   {
    "duration": 17,
    "start_time": "2021-07-08T11:52:26.336Z"
   },
   {
    "duration": 39,
    "start_time": "2021-07-08T11:52:26.355Z"
   },
   {
    "duration": 11,
    "start_time": "2021-07-08T11:52:26.395Z"
   },
   {
    "duration": 23,
    "start_time": "2021-07-08T11:52:26.408Z"
   },
   {
    "duration": 12,
    "start_time": "2021-07-08T11:52:26.432Z"
   },
   {
    "duration": 41,
    "start_time": "2021-07-08T11:52:26.446Z"
   },
   {
    "duration": 215,
    "start_time": "2021-07-08T11:52:26.493Z"
   },
   {
    "duration": 8,
    "start_time": "2021-07-08T11:52:26.710Z"
   },
   {
    "duration": 228,
    "start_time": "2021-07-08T11:52:26.720Z"
   },
   {
    "duration": 18,
    "start_time": "2021-07-08T11:52:26.950Z"
   },
   {
    "duration": 35,
    "start_time": "2021-07-08T11:52:26.969Z"
   },
   {
    "duration": 23,
    "start_time": "2021-07-08T11:52:27.006Z"
   },
   {
    "duration": 258,
    "start_time": "2021-07-08T11:52:27.030Z"
   },
   {
    "duration": 24,
    "start_time": "2021-07-08T11:52:27.290Z"
   },
   {
    "duration": 12,
    "start_time": "2021-07-08T11:52:27.316Z"
   },
   {
    "duration": 10,
    "start_time": "2021-07-08T11:52:27.329Z"
   },
   {
    "duration": 298,
    "start_time": "2021-07-08T11:52:27.341Z"
   },
   {
    "duration": 436,
    "start_time": "2021-07-08T11:52:27.641Z"
   },
   {
    "duration": 216,
    "start_time": "2021-07-08T11:52:28.079Z"
   },
   {
    "duration": 20,
    "start_time": "2021-07-08T11:52:28.297Z"
   },
   {
    "duration": 17,
    "start_time": "2021-07-08T11:52:28.319Z"
   },
   {
    "duration": 70,
    "start_time": "2021-12-19T21:37:26.746Z"
   },
   {
    "duration": 1449,
    "start_time": "2021-12-19T21:38:00.340Z"
   },
   {
    "duration": 47,
    "start_time": "2021-12-19T21:39:19.920Z"
   },
   {
    "duration": 45,
    "start_time": "2021-12-19T21:39:29.804Z"
   },
   {
    "duration": 71,
    "start_time": "2021-12-19T21:40:07.797Z"
   },
   {
    "duration": 85,
    "start_time": "2021-12-19T21:40:16.160Z"
   },
   {
    "duration": 47,
    "start_time": "2021-12-19T21:40:25.887Z"
   },
   {
    "duration": 5075,
    "start_time": "2021-12-19T21:45:05.651Z"
   },
   {
    "duration": 766,
    "start_time": "2021-12-19T21:45:18.664Z"
   },
   {
    "duration": 766,
    "start_time": "2021-12-19T21:46:54.903Z"
   },
   {
    "duration": 762,
    "start_time": "2021-12-19T21:48:42.375Z"
   },
   {
    "duration": 776,
    "start_time": "2021-12-19T21:49:03.901Z"
   },
   {
    "duration": 895,
    "start_time": "2021-12-19T21:49:10.002Z"
   },
   {
    "duration": 58,
    "start_time": "2021-12-19T21:50:04.945Z"
   },
   {
    "duration": 59,
    "start_time": "2021-12-19T21:50:12.573Z"
   },
   {
    "duration": 781,
    "start_time": "2021-12-19T21:50:50.133Z"
   },
   {
    "duration": 1175,
    "start_time": "2021-12-19T21:51:17.289Z"
   },
   {
    "duration": 47,
    "start_time": "2021-12-19T21:51:18.466Z"
   },
   {
    "duration": 65,
    "start_time": "2021-12-19T21:51:57.701Z"
   },
   {
    "duration": 1242,
    "start_time": "2021-12-19T21:52:19.686Z"
   },
   {
    "duration": 1205,
    "start_time": "2021-12-19T21:52:25.872Z"
   },
   {
    "duration": 47,
    "start_time": "2021-12-19T21:52:27.079Z"
   },
   {
    "duration": 805,
    "start_time": "2021-12-19T21:52:27.128Z"
   },
   {
    "duration": 5,
    "start_time": "2021-12-19T21:55:11.735Z"
   },
   {
    "duration": 5,
    "start_time": "2021-12-19T21:55:26.634Z"
   },
   {
    "duration": 5,
    "start_time": "2021-12-19T21:55:29.218Z"
   },
   {
    "duration": 205,
    "start_time": "2021-12-19T22:01:00.305Z"
   },
   {
    "duration": 5225,
    "start_time": "2021-12-19T22:04:09.124Z"
   },
   {
    "duration": 8,
    "start_time": "2021-12-19T22:04:26.794Z"
   },
   {
    "duration": 6,
    "start_time": "2021-12-19T22:07:04.240Z"
   },
   {
    "duration": 6,
    "start_time": "2021-12-19T22:09:49.641Z"
   },
   {
    "duration": 7,
    "start_time": "2021-12-19T22:09:52.989Z"
   },
   {
    "duration": 5,
    "start_time": "2021-12-19T22:09:58.043Z"
   },
   {
    "duration": 216,
    "start_time": "2021-12-19T22:10:08.907Z"
   },
   {
    "duration": 200,
    "start_time": "2021-12-19T22:10:19.525Z"
   },
   {
    "duration": 7,
    "start_time": "2021-12-19T22:10:24.307Z"
   },
   {
    "duration": 326,
    "start_time": "2021-12-20T00:28:10.262Z"
   },
   {
    "duration": 1240,
    "start_time": "2021-12-20T00:28:28.042Z"
   },
   {
    "duration": 47,
    "start_time": "2021-12-20T00:28:29.284Z"
   },
   {
    "duration": 1369,
    "start_time": "2021-12-20T00:28:29.333Z"
   },
   {
    "duration": 5,
    "start_time": "2021-12-20T00:32:41.310Z"
   },
   {
    "duration": 186,
    "start_time": "2021-12-20T00:34:09.503Z"
   },
   {
    "duration": 272,
    "start_time": "2021-12-20T00:36:45.695Z"
   },
   {
    "duration": 986,
    "start_time": "2021-12-20T00:37:16.951Z"
   },
   {
    "duration": 8,
    "start_time": "2021-12-20T00:37:26.636Z"
   },
   {
    "duration": 503,
    "start_time": "2021-12-20T00:37:33.820Z"
   },
   {
    "duration": 210,
    "start_time": "2021-12-20T00:39:22.462Z"
   },
   {
    "duration": 196,
    "start_time": "2021-12-20T00:39:42.283Z"
   },
   {
    "duration": 13,
    "start_time": "2021-12-20T00:42:00.221Z"
   },
   {
    "duration": 6,
    "start_time": "2021-12-20T00:42:47.520Z"
   },
   {
    "duration": 3,
    "start_time": "2021-12-20T00:46:05.676Z"
   },
   {
    "duration": 7,
    "start_time": "2021-12-20T00:46:44.490Z"
   },
   {
    "duration": 31,
    "start_time": "2021-12-20T00:52:54.254Z"
   },
   {
    "duration": 28,
    "start_time": "2021-12-20T00:53:13.658Z"
   },
   {
    "duration": 28,
    "start_time": "2021-12-20T00:53:45.835Z"
   },
   {
    "duration": 28,
    "start_time": "2021-12-20T00:54:22.221Z"
   },
   {
    "duration": 29,
    "start_time": "2021-12-20T00:56:40.406Z"
   },
   {
    "duration": 29,
    "start_time": "2021-12-20T01:00:11.245Z"
   },
   {
    "duration": 79,
    "start_time": "2021-12-20T01:00:31.063Z"
   },
   {
    "duration": 31,
    "start_time": "2021-12-20T01:00:43.776Z"
   },
   {
    "duration": 20,
    "start_time": "2021-12-20T01:01:14.074Z"
   },
   {
    "duration": 24,
    "start_time": "2021-12-20T01:04:14.877Z"
   },
   {
    "duration": 6,
    "start_time": "2021-12-20T01:07:49.377Z"
   },
   {
    "duration": 13,
    "start_time": "2021-12-20T01:08:02.245Z"
   },
   {
    "duration": 210,
    "start_time": "2021-12-20T01:09:51.267Z"
   },
   {
    "duration": 7,
    "start_time": "2021-12-20T01:10:14.578Z"
   },
   {
    "duration": 1162,
    "start_time": "2021-12-20T01:10:20.206Z"
   },
   {
    "duration": 46,
    "start_time": "2021-12-20T01:10:21.370Z"
   },
   {
    "duration": 6,
    "start_time": "2021-12-20T01:10:21.421Z"
   },
   {
    "duration": 287,
    "start_time": "2021-12-20T01:10:21.429Z"
   },
   {
    "duration": 195,
    "start_time": "2021-12-20T01:11:12.630Z"
   },
   {
    "duration": 25,
    "start_time": "2021-12-20T01:13:46.334Z"
   },
   {
    "duration": 17,
    "start_time": "2021-12-20T01:14:06.387Z"
   },
   {
    "duration": 255,
    "start_time": "2021-12-20T01:25:15.777Z"
   },
   {
    "duration": 234,
    "start_time": "2021-12-20T01:27:19.832Z"
   },
   {
    "duration": 18,
    "start_time": "2021-12-20T01:27:24.287Z"
   },
   {
    "duration": 17,
    "start_time": "2021-12-20T01:30:24.979Z"
   },
   {
    "duration": 16,
    "start_time": "2021-12-20T01:31:40.054Z"
   },
   {
    "duration": 17,
    "start_time": "2021-12-20T01:31:46.882Z"
   },
   {
    "duration": 206,
    "start_time": "2021-12-20T01:32:00.652Z"
   },
   {
    "duration": 302,
    "start_time": "2021-12-25T18:57:38.409Z"
   },
   {
    "duration": 1695,
    "start_time": "2021-12-25T18:57:48.302Z"
   },
   {
    "duration": 52,
    "start_time": "2021-12-25T18:57:50.000Z"
   },
   {
    "duration": 13,
    "start_time": "2021-12-25T18:57:50.055Z"
   },
   {
    "duration": 28,
    "start_time": "2021-12-25T18:57:50.076Z"
   },
   {
    "duration": 24,
    "start_time": "2021-12-25T18:58:57.170Z"
   },
   {
    "duration": 1605,
    "start_time": "2021-12-25T18:59:36.009Z"
   },
   {
    "duration": 54,
    "start_time": "2021-12-25T18:59:37.617Z"
   },
   {
    "duration": 12,
    "start_time": "2021-12-25T18:59:37.679Z"
   },
   {
    "duration": 25,
    "start_time": "2021-12-25T18:59:37.694Z"
   },
   {
    "duration": 31,
    "start_time": "2021-12-25T18:59:51.545Z"
   },
   {
    "duration": 43,
    "start_time": "2021-12-25T19:00:03.816Z"
   },
   {
    "duration": 1569,
    "start_time": "2021-12-25T19:00:26.006Z"
   },
   {
    "duration": 51,
    "start_time": "2021-12-25T19:00:27.580Z"
   },
   {
    "duration": 12,
    "start_time": "2021-12-25T19:00:27.633Z"
   },
   {
    "duration": 43,
    "start_time": "2021-12-25T19:00:27.647Z"
   },
   {
    "duration": 51,
    "start_time": "2021-12-25T19:00:50.123Z"
   },
   {
    "duration": 50,
    "start_time": "2021-12-25T19:00:55.967Z"
   },
   {
    "duration": 412,
    "start_time": "2021-12-25T19:01:24.124Z"
   },
   {
    "duration": 1743,
    "start_time": "2021-12-25T19:01:34.428Z"
   },
   {
    "duration": 52,
    "start_time": "2021-12-25T19:01:36.174Z"
   },
   {
    "duration": 18,
    "start_time": "2021-12-25T19:01:36.229Z"
   },
   {
    "duration": 42,
    "start_time": "2021-12-25T19:01:36.249Z"
   },
   {
    "duration": 405,
    "start_time": "2021-12-25T19:02:26.230Z"
   },
   {
    "duration": 1672,
    "start_time": "2021-12-25T19:02:31.805Z"
   },
   {
    "duration": 53,
    "start_time": "2021-12-25T19:02:33.480Z"
   },
   {
    "duration": 13,
    "start_time": "2021-12-25T19:02:33.536Z"
   },
   {
    "duration": 48,
    "start_time": "2021-12-25T19:02:33.551Z"
   },
   {
    "duration": 17,
    "start_time": "2021-12-25T19:11:42.336Z"
   },
   {
    "duration": 36,
    "start_time": "2021-12-25T19:12:12.232Z"
   },
   {
    "duration": 33,
    "start_time": "2021-12-25T19:12:16.481Z"
   },
   {
    "duration": 368,
    "start_time": "2021-12-25T19:21:12.979Z"
   },
   {
    "duration": 50,
    "start_time": "2021-12-25T19:21:20.322Z"
   },
   {
    "duration": 1357,
    "start_time": "2021-12-25T19:22:39.632Z"
   },
   {
    "duration": 85,
    "start_time": "2021-12-25T19:25:26.672Z"
   },
   {
    "duration": 8,
    "start_time": "2021-12-25T19:29:52.119Z"
   },
   {
    "duration": 29,
    "start_time": "2021-12-25T19:30:02.306Z"
   },
   {
    "duration": 1280,
    "start_time": "2021-12-25T19:32:13.135Z"
   },
   {
    "duration": 356,
    "start_time": "2021-12-25T19:32:29.582Z"
   },
   {
    "duration": 296,
    "start_time": "2021-12-25T19:32:45.720Z"
   },
   {
    "duration": 83,
    "start_time": "2021-12-25T19:33:29.191Z"
   },
   {
    "duration": 1528,
    "start_time": "2021-12-25T19:33:41.549Z"
   },
   {
    "duration": 52,
    "start_time": "2021-12-25T19:33:43.079Z"
   },
   {
    "duration": 12,
    "start_time": "2021-12-25T19:33:43.138Z"
   },
   {
    "duration": 42,
    "start_time": "2021-12-25T19:33:43.153Z"
   },
   {
    "duration": 21,
    "start_time": "2021-12-25T19:33:43.198Z"
   },
   {
    "duration": 92,
    "start_time": "2021-12-25T19:33:43.221Z"
   },
   {
    "duration": 494,
    "start_time": "2021-12-25T19:34:02.654Z"
   },
   {
    "duration": 262,
    "start_time": "2021-12-25T19:34:27.071Z"
   },
   {
    "duration": 1634,
    "start_time": "2021-12-25T19:34:34.136Z"
   },
   {
    "duration": 51,
    "start_time": "2021-12-25T19:34:35.772Z"
   },
   {
    "duration": 12,
    "start_time": "2021-12-25T19:34:35.826Z"
   },
   {
    "duration": 53,
    "start_time": "2021-12-25T19:34:35.840Z"
   },
   {
    "duration": 21,
    "start_time": "2021-12-25T19:34:35.895Z"
   },
   {
    "duration": 634,
    "start_time": "2021-12-25T19:34:35.919Z"
   },
   {
    "duration": 1554,
    "start_time": "2021-12-25T19:35:35.780Z"
   },
   {
    "duration": 51,
    "start_time": "2021-12-25T19:35:37.337Z"
   },
   {
    "duration": 11,
    "start_time": "2021-12-25T19:35:37.392Z"
   },
   {
    "duration": 60,
    "start_time": "2021-12-25T19:35:37.406Z"
   },
   {
    "duration": 19,
    "start_time": "2021-12-25T19:35:37.469Z"
   },
   {
    "duration": 116,
    "start_time": "2021-12-25T19:35:37.491Z"
   },
   {
    "duration": 1344,
    "start_time": "2021-12-25T19:36:23.693Z"
   },
   {
    "duration": 1559,
    "start_time": "2021-12-25T19:36:32.597Z"
   },
   {
    "duration": 54,
    "start_time": "2021-12-25T19:36:34.159Z"
   },
   {
    "duration": 13,
    "start_time": "2021-12-25T19:36:34.219Z"
   },
   {
    "duration": 54,
    "start_time": "2021-12-25T19:36:34.235Z"
   },
   {
    "duration": 21,
    "start_time": "2021-12-25T19:36:34.292Z"
   },
   {
    "duration": 119,
    "start_time": "2021-12-25T19:36:34.315Z"
   },
   {
    "duration": 43,
    "start_time": "2021-12-25T19:37:32.297Z"
   },
   {
    "duration": 42,
    "start_time": "2021-12-25T19:37:38.838Z"
   },
   {
    "duration": 1599,
    "start_time": "2021-12-25T19:37:46.553Z"
   },
   {
    "duration": 52,
    "start_time": "2021-12-25T19:37:48.163Z"
   },
   {
    "duration": 11,
    "start_time": "2021-12-25T19:37:48.219Z"
   },
   {
    "duration": 52,
    "start_time": "2021-12-25T19:37:48.232Z"
   },
   {
    "duration": 30,
    "start_time": "2021-12-25T19:37:48.286Z"
   },
   {
    "duration": 148,
    "start_time": "2021-12-25T19:37:48.318Z"
   },
   {
    "duration": 37,
    "start_time": "2021-12-25T19:40:57.300Z"
   },
   {
    "duration": 34,
    "start_time": "2021-12-25T20:03:47.245Z"
   },
   {
    "duration": 457,
    "start_time": "2021-12-25T20:09:08.928Z"
   },
   {
    "duration": 1573,
    "start_time": "2021-12-25T20:15:31.567Z"
   },
   {
    "duration": 51,
    "start_time": "2021-12-25T20:15:33.143Z"
   },
   {
    "duration": 11,
    "start_time": "2021-12-25T20:15:33.197Z"
   },
   {
    "duration": 54,
    "start_time": "2021-12-25T20:15:33.211Z"
   },
   {
    "duration": 20,
    "start_time": "2021-12-25T20:15:33.267Z"
   },
   {
    "duration": 111,
    "start_time": "2021-12-25T20:15:33.290Z"
   },
   {
    "duration": 27,
    "start_time": "2021-12-25T20:15:33.404Z"
   },
   {
    "duration": 55,
    "start_time": "2021-12-25T20:15:33.434Z"
   },
   {
    "duration": 8,
    "start_time": "2021-12-25T20:24:18.822Z"
   },
   {
    "duration": 9,
    "start_time": "2021-12-25T20:25:42.455Z"
   },
   {
    "duration": 9,
    "start_time": "2021-12-25T20:26:00.060Z"
   },
   {
    "duration": 356,
    "start_time": "2021-12-27T18:28:35.807Z"
   },
   {
    "duration": 1644,
    "start_time": "2021-12-27T18:28:42.162Z"
   },
   {
    "duration": 42,
    "start_time": "2021-12-27T18:28:43.808Z"
   },
   {
    "duration": 12,
    "start_time": "2021-12-27T18:28:43.852Z"
   },
   {
    "duration": 39,
    "start_time": "2021-12-27T18:28:43.866Z"
   },
   {
    "duration": 36,
    "start_time": "2021-12-27T18:28:43.917Z"
   },
   {
    "duration": 97,
    "start_time": "2021-12-27T18:28:43.956Z"
   },
   {
    "duration": 33,
    "start_time": "2021-12-27T18:28:44.055Z"
   },
   {
    "duration": 59,
    "start_time": "2021-12-27T18:28:44.091Z"
   },
   {
    "duration": 9,
    "start_time": "2021-12-27T18:28:44.153Z"
   },
   {
    "duration": 8,
    "start_time": "2021-12-27T18:29:25.892Z"
   },
   {
    "duration": 8,
    "start_time": "2021-12-27T18:31:09.534Z"
   },
   {
    "duration": 7,
    "start_time": "2021-12-27T18:32:05.440Z"
   },
   {
    "duration": 1598,
    "start_time": "2021-12-27T18:32:12.492Z"
   },
   {
    "duration": 42,
    "start_time": "2021-12-27T18:32:14.092Z"
   },
   {
    "duration": 11,
    "start_time": "2021-12-27T18:32:14.137Z"
   },
   {
    "duration": 36,
    "start_time": "2021-12-27T18:32:14.151Z"
   },
   {
    "duration": 61,
    "start_time": "2021-12-27T18:32:14.190Z"
   },
   {
    "duration": 104,
    "start_time": "2021-12-27T18:32:14.253Z"
   },
   {
    "duration": 30,
    "start_time": "2021-12-27T18:32:14.359Z"
   },
   {
    "duration": 8,
    "start_time": "2021-12-27T18:32:14.392Z"
   },
   {
    "duration": 9,
    "start_time": "2021-12-27T18:32:14.417Z"
   },
   {
    "duration": 8,
    "start_time": "2021-12-27T18:32:14.428Z"
   },
   {
    "duration": 25,
    "start_time": "2021-12-27T18:33:55.817Z"
   },
   {
    "duration": 8,
    "start_time": "2021-12-27T18:34:05.867Z"
   },
   {
    "duration": 28,
    "start_time": "2021-12-27T18:35:24.457Z"
   },
   {
    "duration": 12,
    "start_time": "2021-12-27T18:38:49.956Z"
   },
   {
    "duration": 31,
    "start_time": "2021-12-27T18:41:44.344Z"
   },
   {
    "duration": 455,
    "start_time": "2021-12-27T18:43:13.019Z"
   },
   {
    "duration": 32,
    "start_time": "2021-12-27T18:43:16.759Z"
   },
   {
    "duration": 9,
    "start_time": "2021-12-27T18:47:37.126Z"
   },
   {
    "duration": 11,
    "start_time": "2021-12-27T18:48:43.582Z"
   },
   {
    "duration": 14,
    "start_time": "2021-12-27T18:53:06.180Z"
   },
   {
    "duration": 15,
    "start_time": "2021-12-27T18:56:09.813Z"
   },
   {
    "duration": 13,
    "start_time": "2021-12-27T18:56:32.341Z"
   },
   {
    "duration": 1584,
    "start_time": "2021-12-27T18:56:38.816Z"
   },
   {
    "duration": 46,
    "start_time": "2021-12-27T18:56:40.403Z"
   },
   {
    "duration": 13,
    "start_time": "2021-12-27T18:56:40.453Z"
   },
   {
    "duration": 47,
    "start_time": "2021-12-27T18:56:40.469Z"
   },
   {
    "duration": 36,
    "start_time": "2021-12-27T18:56:40.520Z"
   },
   {
    "duration": 111,
    "start_time": "2021-12-27T18:56:40.559Z"
   },
   {
    "duration": 31,
    "start_time": "2021-12-27T18:56:40.673Z"
   },
   {
    "duration": 14,
    "start_time": "2021-12-27T18:56:40.716Z"
   },
   {
    "duration": 14,
    "start_time": "2021-12-27T18:56:40.733Z"
   },
   {
    "duration": 8,
    "start_time": "2021-12-27T18:56:40.750Z"
   },
   {
    "duration": 12,
    "start_time": "2021-12-27T18:57:15.807Z"
   },
   {
    "duration": 11,
    "start_time": "2021-12-27T18:58:50.310Z"
   },
   {
    "duration": 17,
    "start_time": "2021-12-27T19:09:31.899Z"
   },
   {
    "duration": 544,
    "start_time": "2021-12-27T19:11:57.885Z"
   },
   {
    "duration": 13,
    "start_time": "2021-12-27T19:12:07.396Z"
   },
   {
    "duration": 11,
    "start_time": "2021-12-27T19:12:14.694Z"
   },
   {
    "duration": 11,
    "start_time": "2021-12-27T19:18:16.301Z"
   },
   {
    "duration": 10,
    "start_time": "2021-12-27T19:18:17.809Z"
   },
   {
    "duration": 364,
    "start_time": "2021-12-27T19:18:25.059Z"
   },
   {
    "duration": 314,
    "start_time": "2021-12-27T19:20:42.205Z"
   },
   {
    "duration": 297,
    "start_time": "2021-12-27T19:20:50.477Z"
   },
   {
    "duration": 5,
    "start_time": "2021-12-27T19:21:40.779Z"
   },
   {
    "duration": 26,
    "start_time": "2021-12-27T19:21:55.480Z"
   },
   {
    "duration": 1395,
    "start_time": "2021-12-27T19:32:31.783Z"
   },
   {
    "duration": 17,
    "start_time": "2021-12-27T19:35:47.244Z"
   },
   {
    "duration": 41,
    "start_time": "2021-12-27T19:36:07.344Z"
   },
   {
    "duration": 1629,
    "start_time": "2021-12-27T19:36:36.011Z"
   },
   {
    "duration": 43,
    "start_time": "2021-12-27T19:36:37.643Z"
   },
   {
    "duration": 12,
    "start_time": "2021-12-27T19:36:37.690Z"
   },
   {
    "duration": 44,
    "start_time": "2021-12-27T19:36:37.706Z"
   },
   {
    "duration": 34,
    "start_time": "2021-12-27T19:36:37.752Z"
   },
   {
    "duration": 77,
    "start_time": "2021-12-27T19:36:37.817Z"
   },
   {
    "duration": 48,
    "start_time": "2021-12-27T19:36:37.897Z"
   },
   {
    "duration": 14,
    "start_time": "2021-12-27T19:36:37.949Z"
   },
   {
    "duration": 15,
    "start_time": "2021-12-27T19:36:37.965Z"
   },
   {
    "duration": 43,
    "start_time": "2021-12-27T19:36:37.983Z"
   },
   {
    "duration": 11,
    "start_time": "2021-12-27T19:36:38.028Z"
   },
   {
    "duration": 12,
    "start_time": "2021-12-27T19:36:38.041Z"
   },
   {
    "duration": 11,
    "start_time": "2021-12-27T19:36:38.055Z"
   },
   {
    "duration": 52,
    "start_time": "2021-12-27T19:36:38.068Z"
   },
   {
    "duration": 29,
    "start_time": "2021-12-27T19:36:38.122Z"
   },
   {
    "duration": 65,
    "start_time": "2021-12-27T19:36:38.154Z"
   },
   {
    "duration": 38,
    "start_time": "2021-12-27T19:37:06.387Z"
   },
   {
    "duration": 6,
    "start_time": "2021-12-27T19:40:02.262Z"
   },
   {
    "duration": 30,
    "start_time": "2021-12-27T19:40:12.141Z"
   },
   {
    "duration": 8,
    "start_time": "2021-12-27T19:40:30.255Z"
   },
   {
    "duration": 9,
    "start_time": "2021-12-27T19:40:36.415Z"
   },
   {
    "duration": 31,
    "start_time": "2021-12-27T19:40:45.395Z"
   },
   {
    "duration": 458,
    "start_time": "2021-12-27T19:51:07.230Z"
   },
   {
    "duration": 6,
    "start_time": "2021-12-27T19:51:13.508Z"
   },
   {
    "duration": 10,
    "start_time": "2021-12-27T19:51:27.012Z"
   },
   {
    "duration": 285,
    "start_time": "2021-12-27T19:52:26.008Z"
   },
   {
    "duration": 12,
    "start_time": "2021-12-27T19:52:50.950Z"
   },
   {
    "duration": 13,
    "start_time": "2021-12-27T19:53:04.386Z"
   },
   {
    "duration": 350,
    "start_time": "2021-12-27T19:53:21.976Z"
   },
   {
    "duration": 339,
    "start_time": "2021-12-27T19:53:30.069Z"
   },
   {
    "duration": 341,
    "start_time": "2021-12-27T19:53:39.434Z"
   },
   {
    "duration": 598,
    "start_time": "2021-12-27T19:54:17.789Z"
   },
   {
    "duration": 110,
    "start_time": "2021-12-27T20:01:38.110Z"
   },
   {
    "duration": 524,
    "start_time": "2022-01-01T20:25:00.513Z"
   },
   {
    "duration": 1642,
    "start_time": "2022-01-01T20:25:11.331Z"
   },
   {
    "duration": 95,
    "start_time": "2022-01-01T20:25:12.976Z"
   },
   {
    "duration": 14,
    "start_time": "2022-01-01T20:25:13.075Z"
   },
   {
    "duration": 36,
    "start_time": "2022-01-01T20:25:13.092Z"
   },
   {
    "duration": 69,
    "start_time": "2022-01-01T20:25:13.131Z"
   },
   {
    "duration": 102,
    "start_time": "2022-01-01T20:25:13.202Z"
   },
   {
    "duration": 45,
    "start_time": "2022-01-01T20:25:13.306Z"
   },
   {
    "duration": 19,
    "start_time": "2022-01-01T20:25:13.369Z"
   },
   {
    "duration": 18,
    "start_time": "2022-01-01T20:25:13.391Z"
   },
   {
    "duration": 15,
    "start_time": "2022-01-01T20:25:13.413Z"
   },
   {
    "duration": 46,
    "start_time": "2022-01-01T20:25:13.431Z"
   },
   {
    "duration": 12,
    "start_time": "2022-01-01T20:25:13.479Z"
   },
   {
    "duration": 11,
    "start_time": "2022-01-01T20:25:13.493Z"
   },
   {
    "duration": 9,
    "start_time": "2022-01-01T20:25:13.507Z"
   },
   {
    "duration": 67,
    "start_time": "2022-01-01T20:25:13.519Z"
   },
   {
    "duration": 41,
    "start_time": "2022-01-01T20:25:13.588Z"
   },
   {
    "duration": 55,
    "start_time": "2022-01-01T20:25:13.632Z"
   },
   {
    "duration": 623,
    "start_time": "2022-01-01T20:25:13.690Z"
   },
   {
    "duration": 34,
    "start_time": "2022-01-01T20:25:14.316Z"
   },
   {
    "duration": 24,
    "start_time": "2022-01-01T20:26:18.696Z"
   },
   {
    "duration": 1604,
    "start_time": "2022-01-01T20:26:36.076Z"
   },
   {
    "duration": 68,
    "start_time": "2022-01-01T20:26:37.683Z"
   },
   {
    "duration": 12,
    "start_time": "2022-01-01T20:26:37.754Z"
   },
   {
    "duration": 43,
    "start_time": "2022-01-01T20:26:37.768Z"
   },
   {
    "duration": 34,
    "start_time": "2022-01-01T20:26:37.813Z"
   },
   {
    "duration": 95,
    "start_time": "2022-01-01T20:26:37.850Z"
   },
   {
    "duration": 49,
    "start_time": "2022-01-01T20:26:37.947Z"
   },
   {
    "duration": 14,
    "start_time": "2022-01-01T20:26:38.000Z"
   },
   {
    "duration": 14,
    "start_time": "2022-01-01T20:26:38.016Z"
   },
   {
    "duration": 41,
    "start_time": "2022-01-01T20:26:38.032Z"
   },
   {
    "duration": 11,
    "start_time": "2022-01-01T20:26:38.075Z"
   },
   {
    "duration": 13,
    "start_time": "2022-01-01T20:26:38.088Z"
   },
   {
    "duration": 11,
    "start_time": "2022-01-01T20:26:38.103Z"
   },
   {
    "duration": 53,
    "start_time": "2022-01-01T20:26:38.117Z"
   },
   {
    "duration": 30,
    "start_time": "2022-01-01T20:26:38.172Z"
   },
   {
    "duration": 62,
    "start_time": "2022-01-01T20:26:38.205Z"
   },
   {
    "duration": 31,
    "start_time": "2022-01-01T20:26:38.269Z"
   },
   {
    "duration": 661,
    "start_time": "2022-01-01T20:26:38.303Z"
   },
   {
    "duration": 28,
    "start_time": "2022-01-01T20:26:38.968Z"
   },
   {
    "duration": 32,
    "start_time": "2022-01-01T20:35:55.844Z"
   },
   {
    "duration": 31,
    "start_time": "2022-01-01T20:42:32.615Z"
   },
   {
    "duration": 46,
    "start_time": "2022-01-01T20:45:29.934Z"
   },
   {
    "duration": 31,
    "start_time": "2022-01-01T20:49:43.610Z"
   },
   {
    "duration": 152,
    "start_time": "2022-01-01T20:51:44.254Z"
   },
   {
    "duration": 582,
    "start_time": "2022-01-01T20:54:29.629Z"
   },
   {
    "duration": 343,
    "start_time": "2022-01-01T20:54:39.460Z"
   },
   {
    "duration": 1556,
    "start_time": "2022-01-01T21:00:51.498Z"
   },
   {
    "duration": 61,
    "start_time": "2022-01-01T21:00:53.057Z"
   },
   {
    "duration": 18,
    "start_time": "2022-01-01T21:00:53.126Z"
   },
   {
    "duration": 38,
    "start_time": "2022-01-01T21:00:53.147Z"
   },
   {
    "duration": 34,
    "start_time": "2022-01-01T21:00:53.187Z"
   },
   {
    "duration": 102,
    "start_time": "2022-01-01T21:00:53.224Z"
   },
   {
    "duration": 50,
    "start_time": "2022-01-01T21:00:53.330Z"
   },
   {
    "duration": 15,
    "start_time": "2022-01-01T21:00:53.383Z"
   },
   {
    "duration": 15,
    "start_time": "2022-01-01T21:00:53.400Z"
   },
   {
    "duration": 13,
    "start_time": "2022-01-01T21:00:53.417Z"
   },
   {
    "duration": 41,
    "start_time": "2022-01-01T21:00:53.432Z"
   },
   {
    "duration": 14,
    "start_time": "2022-01-01T21:00:53.475Z"
   },
   {
    "duration": 11,
    "start_time": "2022-01-01T21:00:53.491Z"
   },
   {
    "duration": 10,
    "start_time": "2022-01-01T21:00:53.505Z"
   },
   {
    "duration": 77,
    "start_time": "2022-01-01T21:00:53.518Z"
   },
   {
    "duration": 42,
    "start_time": "2022-01-01T21:00:53.598Z"
   },
   {
    "duration": 52,
    "start_time": "2022-01-01T21:00:53.643Z"
   },
   {
    "duration": 690,
    "start_time": "2022-01-01T21:00:53.698Z"
   },
   {
    "duration": 26,
    "start_time": "2022-01-01T21:00:54.391Z"
   },
   {
    "duration": 57,
    "start_time": "2022-01-01T21:00:54.419Z"
   },
   {
    "duration": 458,
    "start_time": "2022-01-01T21:00:54.478Z"
   },
   {
    "duration": 365,
    "start_time": "2022-01-01T21:01:21.192Z"
   },
   {
    "duration": 412,
    "start_time": "2022-01-01T21:03:45.310Z"
   },
   {
    "duration": 58,
    "start_time": "2022-01-01T21:03:48.262Z"
   },
   {
    "duration": 369,
    "start_time": "2022-01-01T21:04:22.713Z"
   },
   {
    "duration": 383,
    "start_time": "2022-01-01T21:05:02.840Z"
   },
   {
    "duration": 58,
    "start_time": "2022-01-01T21:05:07.343Z"
   },
   {
    "duration": 58,
    "start_time": "2022-01-01T21:05:24.605Z"
   },
   {
    "duration": 316,
    "start_time": "2022-01-01T21:20:15.540Z"
   },
   {
    "duration": 346,
    "start_time": "2022-01-01T21:20:20.531Z"
   },
   {
    "duration": 11,
    "start_time": "2022-01-01T21:21:46.534Z"
   },
   {
    "duration": 2156,
    "start_time": "2022-01-01T21:23:20.429Z"
   },
   {
    "duration": 2189,
    "start_time": "2022-01-01T21:23:35.643Z"
   },
   {
    "duration": 142,
    "start_time": "2022-01-01T21:23:45.261Z"
   },
   {
    "duration": 2261,
    "start_time": "2022-01-01T21:23:51.182Z"
   },
   {
    "duration": 110,
    "start_time": "2022-01-01T21:24:07.279Z"
   },
   {
    "duration": 1752,
    "start_time": "2022-01-01T21:24:13.929Z"
   },
   {
    "duration": 55,
    "start_time": "2022-01-01T21:24:15.685Z"
   },
   {
    "duration": 12,
    "start_time": "2022-01-01T21:24:15.745Z"
   },
   {
    "duration": 39,
    "start_time": "2022-01-01T21:24:15.761Z"
   },
   {
    "duration": 37,
    "start_time": "2022-01-01T21:24:15.803Z"
   },
   {
    "duration": 100,
    "start_time": "2022-01-01T21:24:15.843Z"
   },
   {
    "duration": 49,
    "start_time": "2022-01-01T21:24:15.946Z"
   },
   {
    "duration": 13,
    "start_time": "2022-01-01T21:24:15.998Z"
   },
   {
    "duration": 15,
    "start_time": "2022-01-01T21:24:16.015Z"
   },
   {
    "duration": 44,
    "start_time": "2022-01-01T21:24:16.032Z"
   },
   {
    "duration": 12,
    "start_time": "2022-01-01T21:24:16.078Z"
   },
   {
    "duration": 13,
    "start_time": "2022-01-01T21:24:16.093Z"
   },
   {
    "duration": 13,
    "start_time": "2022-01-01T21:24:16.108Z"
   },
   {
    "duration": 53,
    "start_time": "2022-01-01T21:24:16.123Z"
   },
   {
    "duration": 29,
    "start_time": "2022-01-01T21:24:16.179Z"
   },
   {
    "duration": 68,
    "start_time": "2022-01-01T21:24:16.210Z"
   },
   {
    "duration": 30,
    "start_time": "2022-01-01T21:24:16.281Z"
   },
   {
    "duration": 640,
    "start_time": "2022-01-01T21:24:16.313Z"
   },
   {
    "duration": 33,
    "start_time": "2022-01-01T21:24:16.956Z"
   },
   {
    "duration": 30,
    "start_time": "2022-01-01T21:24:16.992Z"
   },
   {
    "duration": 89,
    "start_time": "2022-01-01T21:24:17.024Z"
   },
   {
    "duration": 115,
    "start_time": "2022-01-01T21:24:17.115Z"
   },
   {
    "duration": 8,
    "start_time": "2022-01-01T21:24:23.600Z"
   },
   {
    "duration": 9,
    "start_time": "2022-01-01T21:24:26.432Z"
   },
   {
    "duration": 398,
    "start_time": "2022-01-04T07:25:09.735Z"
   },
   {
    "duration": 1587,
    "start_time": "2022-01-04T07:25:18.578Z"
   },
   {
    "duration": 46,
    "start_time": "2022-01-04T07:25:20.168Z"
   },
   {
    "duration": 13,
    "start_time": "2022-01-04T07:25:20.217Z"
   },
   {
    "duration": 45,
    "start_time": "2022-01-04T07:25:20.233Z"
   },
   {
    "duration": 33,
    "start_time": "2022-01-04T07:25:20.280Z"
   },
   {
    "duration": 107,
    "start_time": "2022-01-04T07:25:20.316Z"
   },
   {
    "duration": 44,
    "start_time": "2022-01-04T07:25:20.426Z"
   },
   {
    "duration": 13,
    "start_time": "2022-01-04T07:25:20.473Z"
   },
   {
    "duration": 13,
    "start_time": "2022-01-04T07:25:20.490Z"
   },
   {
    "duration": 13,
    "start_time": "2022-01-04T07:25:20.506Z"
   },
   {
    "duration": 53,
    "start_time": "2022-01-04T07:25:20.521Z"
   },
   {
    "duration": 14,
    "start_time": "2022-01-04T07:25:20.578Z"
   },
   {
    "duration": 14,
    "start_time": "2022-01-04T07:25:20.594Z"
   },
   {
    "duration": 12,
    "start_time": "2022-01-04T07:25:20.610Z"
   },
   {
    "duration": 28,
    "start_time": "2022-01-04T07:25:20.668Z"
   },
   {
    "duration": 68,
    "start_time": "2022-01-04T07:25:20.699Z"
   },
   {
    "duration": 32,
    "start_time": "2022-01-04T07:25:20.771Z"
   },
   {
    "duration": 718,
    "start_time": "2022-01-04T07:25:20.806Z"
   },
   {
    "duration": 48,
    "start_time": "2022-01-04T07:25:21.528Z"
   },
   {
    "duration": 33,
    "start_time": "2022-01-04T07:25:21.580Z"
   },
   {
    "duration": 96,
    "start_time": "2022-01-04T07:25:21.616Z"
   },
   {
    "duration": 9,
    "start_time": "2022-01-04T07:25:21.715Z"
   },
   {
    "duration": 18,
    "start_time": "2022-01-04T07:33:01.006Z"
   },
   {
    "duration": 34,
    "start_time": "2022-01-04T07:35:25.297Z"
   },
   {
    "duration": 109,
    "start_time": "2022-01-04T07:36:55.657Z"
   },
   {
    "duration": 8,
    "start_time": "2022-01-04T07:36:59.437Z"
   },
   {
    "duration": 7,
    "start_time": "2022-01-04T07:37:11.035Z"
   },
   {
    "duration": 8,
    "start_time": "2022-01-04T07:37:18.726Z"
   },
   {
    "duration": 15,
    "start_time": "2022-01-04T07:38:07.246Z"
   },
   {
    "duration": 1617,
    "start_time": "2022-01-08T12:28:59.385Z"
   },
   {
    "duration": 43,
    "start_time": "2022-01-08T12:29:01.005Z"
   },
   {
    "duration": 19,
    "start_time": "2022-01-08T12:29:01.051Z"
   },
   {
    "duration": 64,
    "start_time": "2022-01-08T12:29:01.073Z"
   },
   {
    "duration": 33,
    "start_time": "2022-01-08T12:29:01.139Z"
   },
   {
    "duration": 103,
    "start_time": "2022-01-08T12:29:01.175Z"
   },
   {
    "duration": 43,
    "start_time": "2022-01-08T12:29:01.281Z"
   },
   {
    "duration": 13,
    "start_time": "2022-01-08T12:29:01.326Z"
   },
   {
    "duration": 21,
    "start_time": "2022-01-08T12:29:01.343Z"
   },
   {
    "duration": 12,
    "start_time": "2022-01-08T12:29:01.367Z"
   },
   {
    "duration": 52,
    "start_time": "2022-01-08T12:29:01.381Z"
   },
   {
    "duration": 33,
    "start_time": "2022-01-08T12:29:01.435Z"
   },
   {
    "duration": 46,
    "start_time": "2022-01-08T12:29:01.470Z"
   },
   {
    "duration": 16,
    "start_time": "2022-01-08T12:29:01.518Z"
   },
   {
    "duration": 46,
    "start_time": "2022-01-08T12:29:01.536Z"
   },
   {
    "duration": 38,
    "start_time": "2022-01-08T12:29:01.585Z"
   },
   {
    "duration": 48,
    "start_time": "2022-01-08T12:29:01.625Z"
   },
   {
    "duration": 753,
    "start_time": "2022-01-08T12:29:01.675Z"
   },
   {
    "duration": 23,
    "start_time": "2022-01-08T12:29:02.431Z"
   },
   {
    "duration": 38,
    "start_time": "2022-01-08T12:29:02.456Z"
   },
   {
    "duration": 75,
    "start_time": "2022-01-08T12:29:02.497Z"
   },
   {
    "duration": 53,
    "start_time": "2022-01-08T12:29:02.574Z"
   },
   {
    "duration": 460,
    "start_time": "2022-01-08T12:38:37.110Z"
   },
   {
    "duration": 430,
    "start_time": "2022-01-08T12:38:56.106Z"
   },
   {
    "duration": 18,
    "start_time": "2022-01-08T12:39:59.693Z"
   },
   {
    "duration": 451,
    "start_time": "2022-01-08T12:46:47.331Z"
   },
   {
    "duration": 401,
    "start_time": "2022-01-08T12:47:27.170Z"
   },
   {
    "duration": 19,
    "start_time": "2022-01-08T12:49:06.287Z"
   },
   {
    "duration": 394,
    "start_time": "2022-01-08T12:49:28.412Z"
   },
   {
    "duration": 457,
    "start_time": "2022-01-08T12:49:50.622Z"
   },
   {
    "duration": 26,
    "start_time": "2022-01-08T12:50:12.490Z"
   },
   {
    "duration": 26,
    "start_time": "2022-01-08T12:50:36.720Z"
   },
   {
    "duration": 105,
    "start_time": "2022-01-08T12:51:49.424Z"
   },
   {
    "duration": 395,
    "start_time": "2022-01-08T12:53:06.174Z"
   },
   {
    "duration": 20,
    "start_time": "2022-01-08T12:53:10.775Z"
   },
   {
    "duration": 27,
    "start_time": "2022-01-08T12:54:29.951Z"
   },
   {
    "duration": 19,
    "start_time": "2022-01-08T12:54:36.646Z"
   },
   {
    "duration": 21,
    "start_time": "2022-01-08T12:54:47.733Z"
   },
   {
    "duration": 343,
    "start_time": "2022-01-08T12:55:48.124Z"
   },
   {
    "duration": 394,
    "start_time": "2022-01-08T12:56:03.397Z"
   },
   {
    "duration": 166,
    "start_time": "2022-01-08T12:56:13.960Z"
   },
   {
    "duration": 19,
    "start_time": "2022-01-08T12:56:27.982Z"
   },
   {
    "duration": 113,
    "start_time": "2022-01-08T12:56:56.104Z"
   },
   {
    "duration": 22,
    "start_time": "2022-01-08T12:57:34.153Z"
   },
   {
    "duration": 23,
    "start_time": "2022-01-08T13:00:15.137Z"
   },
   {
    "duration": 381,
    "start_time": "2022-01-08T13:08:17.209Z"
   },
   {
    "duration": 119,
    "start_time": "2022-01-08T13:08:32.572Z"
   },
   {
    "duration": 24,
    "start_time": "2022-01-08T13:08:38.055Z"
   },
   {
    "duration": 76,
    "start_time": "2022-01-08T13:08:54.022Z"
   },
   {
    "duration": 77,
    "start_time": "2022-01-08T13:08:58.356Z"
   },
   {
    "duration": 47,
    "start_time": "2022-01-08T13:09:10.013Z"
   },
   {
    "duration": 27,
    "start_time": "2022-01-08T13:10:28.715Z"
   },
   {
    "duration": 31,
    "start_time": "2022-01-08T13:10:52.118Z"
   },
   {
    "duration": 57,
    "start_time": "2022-01-08T13:15:35.947Z"
   },
   {
    "duration": 1618,
    "start_time": "2022-01-08T13:15:40.878Z"
   },
   {
    "duration": 44,
    "start_time": "2022-01-08T13:15:42.498Z"
   },
   {
    "duration": 13,
    "start_time": "2022-01-08T13:15:42.545Z"
   },
   {
    "duration": 37,
    "start_time": "2022-01-08T13:15:42.561Z"
   },
   {
    "duration": 60,
    "start_time": "2022-01-08T13:15:42.601Z"
   },
   {
    "duration": 103,
    "start_time": "2022-01-08T13:15:42.663Z"
   },
   {
    "duration": 27,
    "start_time": "2022-01-08T13:15:42.769Z"
   },
   {
    "duration": 28,
    "start_time": "2022-01-08T13:15:42.798Z"
   },
   {
    "duration": 13,
    "start_time": "2022-01-08T13:15:42.829Z"
   },
   {
    "duration": 13,
    "start_time": "2022-01-08T13:15:42.846Z"
   },
   {
    "duration": 55,
    "start_time": "2022-01-08T13:15:42.862Z"
   },
   {
    "duration": 12,
    "start_time": "2022-01-08T13:15:42.919Z"
   },
   {
    "duration": 11,
    "start_time": "2022-01-08T13:15:42.933Z"
   },
   {
    "duration": 10,
    "start_time": "2022-01-08T13:15:42.947Z"
   },
   {
    "duration": 62,
    "start_time": "2022-01-08T13:15:42.959Z"
   },
   {
    "duration": 45,
    "start_time": "2022-01-08T13:15:43.024Z"
   },
   {
    "duration": 65,
    "start_time": "2022-01-08T13:15:43.071Z"
   },
   {
    "duration": 782,
    "start_time": "2022-01-08T13:15:43.139Z"
   },
   {
    "duration": 26,
    "start_time": "2022-01-08T13:15:43.924Z"
   },
   {
    "duration": 33,
    "start_time": "2022-01-08T13:15:43.953Z"
   },
   {
    "duration": 59,
    "start_time": "2022-01-08T13:15:44.017Z"
   },
   {
    "duration": 115,
    "start_time": "2022-01-08T13:15:44.078Z"
   },
   {
    "duration": 24,
    "start_time": "2022-01-08T13:15:44.195Z"
   },
   {
    "duration": 25,
    "start_time": "2022-01-08T13:15:44.222Z"
   },
   {
    "duration": 29,
    "start_time": "2022-01-08T13:15:44.250Z"
   },
   {
    "duration": 129,
    "start_time": "2022-01-08T13:15:44.318Z"
   },
   {
    "duration": 91,
    "start_time": "2022-01-08T13:16:31.386Z"
   },
   {
    "duration": 36,
    "start_time": "2022-01-08T13:16:49.768Z"
   },
   {
    "duration": 21,
    "start_time": "2022-01-08T13:21:33.288Z"
   },
   {
    "duration": 26,
    "start_time": "2022-01-08T13:28:56.126Z"
   },
   {
    "duration": 26,
    "start_time": "2022-01-08T13:30:46.178Z"
   },
   {
    "duration": 27,
    "start_time": "2022-01-08T13:31:27.675Z"
   },
   {
    "duration": 2042,
    "start_time": "2022-01-08T13:31:46.270Z"
   },
   {
    "duration": 52,
    "start_time": "2022-01-08T13:31:48.321Z"
   },
   {
    "duration": 14,
    "start_time": "2022-01-08T13:31:48.376Z"
   },
   {
    "duration": 40,
    "start_time": "2022-01-08T13:31:48.393Z"
   },
   {
    "duration": 33,
    "start_time": "2022-01-08T13:31:48.435Z"
   },
   {
    "duration": 108,
    "start_time": "2022-01-08T13:31:48.471Z"
   },
   {
    "duration": 44,
    "start_time": "2022-01-08T13:31:48.582Z"
   },
   {
    "duration": 14,
    "start_time": "2022-01-08T13:31:48.638Z"
   },
   {
    "duration": 16,
    "start_time": "2022-01-08T13:31:48.655Z"
   },
   {
    "duration": 13,
    "start_time": "2022-01-08T13:31:48.673Z"
   },
   {
    "duration": 42,
    "start_time": "2022-01-08T13:31:48.688Z"
   },
   {
    "duration": 12,
    "start_time": "2022-01-08T13:31:48.733Z"
   },
   {
    "duration": 13,
    "start_time": "2022-01-08T13:31:48.747Z"
   },
   {
    "duration": 13,
    "start_time": "2022-01-08T13:31:48.762Z"
   },
   {
    "duration": 69,
    "start_time": "2022-01-08T13:31:48.778Z"
   },
   {
    "duration": 67,
    "start_time": "2022-01-08T13:31:48.850Z"
   },
   {
    "duration": 45,
    "start_time": "2022-01-08T13:31:48.920Z"
   },
   {
    "duration": 765,
    "start_time": "2022-01-08T13:31:48.967Z"
   },
   {
    "duration": 36,
    "start_time": "2022-01-08T13:31:49.735Z"
   },
   {
    "duration": 71,
    "start_time": "2022-01-08T13:31:49.774Z"
   },
   {
    "duration": 93,
    "start_time": "2022-01-08T13:31:49.848Z"
   },
   {
    "duration": 132,
    "start_time": "2022-01-08T13:31:49.944Z"
   },
   {
    "duration": 17,
    "start_time": "2022-01-08T13:31:50.081Z"
   },
   {
    "duration": 29,
    "start_time": "2022-01-08T13:31:50.117Z"
   },
   {
    "duration": 28,
    "start_time": "2022-01-08T13:31:50.148Z"
   },
   {
    "duration": 67,
    "start_time": "2022-01-08T13:31:50.178Z"
   },
   {
    "duration": 21,
    "start_time": "2022-01-08T13:31:50.247Z"
   },
   {
    "duration": 1693,
    "start_time": "2022-01-08T13:34:30.734Z"
   },
   {
    "duration": 45,
    "start_time": "2022-01-08T13:34:32.430Z"
   },
   {
    "duration": 11,
    "start_time": "2022-01-08T13:34:32.478Z"
   },
   {
    "duration": 55,
    "start_time": "2022-01-08T13:34:32.492Z"
   },
   {
    "duration": 33,
    "start_time": "2022-01-08T13:34:32.550Z"
   },
   {
    "duration": 111,
    "start_time": "2022-01-08T13:34:32.585Z"
   },
   {
    "duration": 56,
    "start_time": "2022-01-08T13:34:32.698Z"
   },
   {
    "duration": 14,
    "start_time": "2022-01-08T13:34:32.757Z"
   },
   {
    "duration": 54,
    "start_time": "2022-01-08T13:34:32.775Z"
   },
   {
    "duration": 12,
    "start_time": "2022-01-08T13:34:32.835Z"
   },
   {
    "duration": 29,
    "start_time": "2022-01-08T13:34:32.849Z"
   },
   {
    "duration": 23,
    "start_time": "2022-01-08T13:34:32.881Z"
   },
   {
    "duration": 27,
    "start_time": "2022-01-08T13:34:32.908Z"
   },
   {
    "duration": 15,
    "start_time": "2022-01-08T13:34:32.938Z"
   },
   {
    "duration": 33,
    "start_time": "2022-01-08T13:34:32.956Z"
   },
   {
    "duration": 72,
    "start_time": "2022-01-08T13:34:32.991Z"
   },
   {
    "duration": 84,
    "start_time": "2022-01-08T13:34:33.066Z"
   },
   {
    "duration": 883,
    "start_time": "2022-01-08T13:34:33.153Z"
   },
   {
    "duration": 28,
    "start_time": "2022-01-08T13:34:34.039Z"
   },
   {
    "duration": 71,
    "start_time": "2022-01-08T13:34:34.070Z"
   },
   {
    "duration": 99,
    "start_time": "2022-01-08T13:34:34.144Z"
   },
   {
    "duration": 157,
    "start_time": "2022-01-08T13:34:34.247Z"
   },
   {
    "duration": 31,
    "start_time": "2022-01-08T13:34:34.407Z"
   },
   {
    "duration": 27,
    "start_time": "2022-01-08T13:34:34.441Z"
   },
   {
    "duration": 69,
    "start_time": "2022-01-08T13:34:34.471Z"
   },
   {
    "duration": 20,
    "start_time": "2022-01-08T13:34:34.543Z"
   },
   {
    "duration": 21,
    "start_time": "2022-01-08T13:34:34.567Z"
   },
   {
    "duration": 21,
    "start_time": "2022-01-08T13:36:58.844Z"
   },
   {
    "duration": 2018,
    "start_time": "2022-01-08T13:37:24.401Z"
   },
   {
    "duration": 49,
    "start_time": "2022-01-08T13:37:26.422Z"
   },
   {
    "duration": 15,
    "start_time": "2022-01-08T13:37:26.476Z"
   },
   {
    "duration": 71,
    "start_time": "2022-01-08T13:37:26.495Z"
   },
   {
    "duration": 67,
    "start_time": "2022-01-08T13:37:26.569Z"
   },
   {
    "duration": 103,
    "start_time": "2022-01-08T13:37:26.641Z"
   },
   {
    "duration": 39,
    "start_time": "2022-01-08T13:37:26.747Z"
   },
   {
    "duration": 35,
    "start_time": "2022-01-08T13:37:26.792Z"
   },
   {
    "duration": 25,
    "start_time": "2022-01-08T13:37:26.838Z"
   },
   {
    "duration": 16,
    "start_time": "2022-01-08T13:37:26.872Z"
   },
   {
    "duration": 42,
    "start_time": "2022-01-08T13:37:26.890Z"
   },
   {
    "duration": 39,
    "start_time": "2022-01-08T13:37:26.941Z"
   },
   {
    "duration": 17,
    "start_time": "2022-01-08T13:37:26.989Z"
   },
   {
    "duration": 17,
    "start_time": "2022-01-08T13:37:27.010Z"
   },
   {
    "duration": 58,
    "start_time": "2022-01-08T13:37:27.032Z"
   },
   {
    "duration": 111,
    "start_time": "2022-01-08T13:37:27.093Z"
   },
   {
    "duration": 59,
    "start_time": "2022-01-08T13:37:27.210Z"
   },
   {
    "duration": 1211,
    "start_time": "2022-01-08T13:37:27.272Z"
   },
   {
    "duration": 42,
    "start_time": "2022-01-08T13:37:28.486Z"
   },
   {
    "duration": 45,
    "start_time": "2022-01-08T13:37:28.531Z"
   },
   {
    "duration": 97,
    "start_time": "2022-01-08T13:37:28.578Z"
   },
   {
    "duration": 119,
    "start_time": "2022-01-08T13:37:28.678Z"
   },
   {
    "duration": 28,
    "start_time": "2022-01-08T13:37:28.801Z"
   },
   {
    "duration": 31,
    "start_time": "2022-01-08T13:37:28.831Z"
   },
   {
    "duration": 66,
    "start_time": "2022-01-08T13:37:28.864Z"
   },
   {
    "duration": 26,
    "start_time": "2022-01-08T13:37:28.938Z"
   },
   {
    "duration": 54,
    "start_time": "2022-01-08T13:37:28.967Z"
   },
   {
    "duration": 29,
    "start_time": "2022-01-08T13:37:29.024Z"
   },
   {
    "duration": 1737,
    "start_time": "2022-01-08T13:38:00.105Z"
   },
   {
    "duration": 47,
    "start_time": "2022-01-08T13:38:01.846Z"
   },
   {
    "duration": 13,
    "start_time": "2022-01-08T13:38:01.897Z"
   },
   {
    "duration": 41,
    "start_time": "2022-01-08T13:38:01.924Z"
   },
   {
    "duration": 78,
    "start_time": "2022-01-08T13:38:01.968Z"
   },
   {
    "duration": 108,
    "start_time": "2022-01-08T13:38:02.049Z"
   },
   {
    "duration": 44,
    "start_time": "2022-01-08T13:38:02.160Z"
   },
   {
    "duration": 19,
    "start_time": "2022-01-08T13:38:02.222Z"
   },
   {
    "duration": 17,
    "start_time": "2022-01-08T13:38:02.244Z"
   },
   {
    "duration": 14,
    "start_time": "2022-01-08T13:38:02.263Z"
   },
   {
    "duration": 53,
    "start_time": "2022-01-08T13:38:02.279Z"
   },
   {
    "duration": 14,
    "start_time": "2022-01-08T13:38:02.336Z"
   },
   {
    "duration": 13,
    "start_time": "2022-01-08T13:38:02.353Z"
   },
   {
    "duration": 23,
    "start_time": "2022-01-08T13:38:02.369Z"
   },
   {
    "duration": 67,
    "start_time": "2022-01-08T13:38:02.396Z"
   },
   {
    "duration": 84,
    "start_time": "2022-01-08T13:38:02.466Z"
   },
   {
    "duration": 42,
    "start_time": "2022-01-08T13:38:02.554Z"
   },
   {
    "duration": 772,
    "start_time": "2022-01-08T13:38:02.618Z"
   },
   {
    "duration": 46,
    "start_time": "2022-01-08T13:38:03.393Z"
   },
   {
    "duration": 47,
    "start_time": "2022-01-08T13:38:03.442Z"
   },
   {
    "duration": 113,
    "start_time": "2022-01-08T13:38:03.493Z"
   },
   {
    "duration": 122,
    "start_time": "2022-01-08T13:38:03.617Z"
   },
   {
    "duration": 18,
    "start_time": "2022-01-08T13:38:03.746Z"
   },
   {
    "duration": 34,
    "start_time": "2022-01-08T13:38:03.769Z"
   },
   {
    "duration": 36,
    "start_time": "2022-01-08T13:38:03.824Z"
   },
   {
    "duration": 32,
    "start_time": "2022-01-08T13:38:03.863Z"
   },
   {
    "duration": 46,
    "start_time": "2022-01-08T13:38:03.897Z"
   },
   {
    "duration": 26,
    "start_time": "2022-01-08T13:38:03.947Z"
   },
   {
    "duration": 25,
    "start_time": "2022-01-08T13:43:17.544Z"
   },
   {
    "duration": 27,
    "start_time": "2022-01-08T13:43:26.000Z"
   },
   {
    "duration": 25,
    "start_time": "2022-01-08T13:43:34.105Z"
   },
   {
    "duration": 1725,
    "start_time": "2022-01-08T13:45:38.228Z"
   },
   {
    "duration": 51,
    "start_time": "2022-01-08T13:45:39.956Z"
   },
   {
    "duration": 26,
    "start_time": "2022-01-08T13:45:40.011Z"
   },
   {
    "duration": 51,
    "start_time": "2022-01-08T13:45:40.040Z"
   },
   {
    "duration": 53,
    "start_time": "2022-01-08T13:45:40.093Z"
   },
   {
    "duration": 109,
    "start_time": "2022-01-08T13:45:40.149Z"
   },
   {
    "duration": 33,
    "start_time": "2022-01-08T13:45:40.261Z"
   },
   {
    "duration": 36,
    "start_time": "2022-01-08T13:45:40.298Z"
   },
   {
    "duration": 20,
    "start_time": "2022-01-08T13:45:40.337Z"
   },
   {
    "duration": 17,
    "start_time": "2022-01-08T13:45:40.360Z"
   },
   {
    "duration": 45,
    "start_time": "2022-01-08T13:45:40.380Z"
   },
   {
    "duration": 17,
    "start_time": "2022-01-08T13:45:40.428Z"
   },
   {
    "duration": 15,
    "start_time": "2022-01-08T13:45:40.449Z"
   },
   {
    "duration": 14,
    "start_time": "2022-01-08T13:45:40.468Z"
   },
   {
    "duration": 41,
    "start_time": "2022-01-08T13:45:40.518Z"
   },
   {
    "duration": 79,
    "start_time": "2022-01-08T13:45:40.561Z"
   },
   {
    "duration": 40,
    "start_time": "2022-01-08T13:45:40.642Z"
   },
   {
    "duration": 1009,
    "start_time": "2022-01-08T13:45:40.684Z"
   },
   {
    "duration": 39,
    "start_time": "2022-01-08T13:45:41.696Z"
   },
   {
    "duration": 34,
    "start_time": "2022-01-08T13:45:41.737Z"
   },
   {
    "duration": 97,
    "start_time": "2022-01-08T13:45:41.773Z"
   },
   {
    "duration": 175,
    "start_time": "2022-01-08T13:45:41.873Z"
   },
   {
    "duration": -751,
    "start_time": "2022-01-08T13:45:42.803Z"
   },
   {
    "duration": -751,
    "start_time": "2022-01-08T13:45:42.805Z"
   },
   {
    "duration": -754,
    "start_time": "2022-01-08T13:45:42.809Z"
   },
   {
    "duration": -753,
    "start_time": "2022-01-08T13:45:42.810Z"
   },
   {
    "duration": -753,
    "start_time": "2022-01-08T13:45:42.812Z"
   },
   {
    "duration": -754,
    "start_time": "2022-01-08T13:45:42.816Z"
   },
   {
    "duration": 1718,
    "start_time": "2022-01-08T13:46:10.318Z"
   },
   {
    "duration": 45,
    "start_time": "2022-01-08T13:46:12.040Z"
   },
   {
    "duration": 25,
    "start_time": "2022-01-08T13:46:12.092Z"
   },
   {
    "duration": 36,
    "start_time": "2022-01-08T13:46:12.119Z"
   },
   {
    "duration": 62,
    "start_time": "2022-01-08T13:46:12.158Z"
   },
   {
    "duration": 144,
    "start_time": "2022-01-08T13:46:12.223Z"
   },
   {
    "duration": 57,
    "start_time": "2022-01-08T13:46:12.373Z"
   },
   {
    "duration": 20,
    "start_time": "2022-01-08T13:46:12.435Z"
   },
   {
    "duration": 20,
    "start_time": "2022-01-08T13:46:12.458Z"
   },
   {
    "duration": 46,
    "start_time": "2022-01-08T13:46:12.481Z"
   },
   {
    "duration": 22,
    "start_time": "2022-01-08T13:46:12.530Z"
   },
   {
    "duration": 19,
    "start_time": "2022-01-08T13:46:12.556Z"
   },
   {
    "duration": 38,
    "start_time": "2022-01-08T13:46:12.579Z"
   },
   {
    "duration": 16,
    "start_time": "2022-01-08T13:46:12.620Z"
   },
   {
    "duration": 33,
    "start_time": "2022-01-08T13:46:12.638Z"
   },
   {
    "duration": 74,
    "start_time": "2022-01-08T13:46:12.673Z"
   },
   {
    "duration": 71,
    "start_time": "2022-01-08T13:46:12.749Z"
   },
   {
    "duration": 884,
    "start_time": "2022-01-08T13:46:12.824Z"
   },
   {
    "duration": 29,
    "start_time": "2022-01-08T13:46:13.711Z"
   },
   {
    "duration": 52,
    "start_time": "2022-01-08T13:46:13.744Z"
   },
   {
    "duration": 66,
    "start_time": "2022-01-08T13:46:13.818Z"
   },
   {
    "duration": 117,
    "start_time": "2022-01-08T13:46:13.889Z"
   },
   {
    "duration": 19,
    "start_time": "2022-01-08T13:46:14.018Z"
   },
   {
    "duration": 30,
    "start_time": "2022-01-08T13:46:14.040Z"
   },
   {
    "duration": 57,
    "start_time": "2022-01-08T13:46:14.073Z"
   },
   {
    "duration": 23,
    "start_time": "2022-01-08T13:46:14.132Z"
   },
   {
    "duration": 23,
    "start_time": "2022-01-08T13:46:14.158Z"
   },
   {
    "duration": 24,
    "start_time": "2022-01-08T13:46:14.219Z"
   },
   {
    "duration": 28,
    "start_time": "2022-01-08T13:48:43.043Z"
   },
   {
    "duration": 29,
    "start_time": "2022-01-08T13:49:34.195Z"
   },
   {
    "duration": 30,
    "start_time": "2022-01-08T13:49:52.911Z"
   },
   {
    "duration": 41,
    "start_time": "2022-01-08T13:50:59.026Z"
   },
   {
    "duration": 34,
    "start_time": "2022-01-08T13:51:06.638Z"
   },
   {
    "duration": 1760,
    "start_time": "2022-01-08T13:53:40.939Z"
   },
   {
    "duration": 45,
    "start_time": "2022-01-08T13:53:42.702Z"
   },
   {
    "duration": 12,
    "start_time": "2022-01-08T13:53:42.750Z"
   },
   {
    "duration": 34,
    "start_time": "2022-01-08T13:53:42.765Z"
   },
   {
    "duration": 36,
    "start_time": "2022-01-08T13:53:42.821Z"
   },
   {
    "duration": 104,
    "start_time": "2022-01-08T13:53:42.859Z"
   },
   {
    "duration": 33,
    "start_time": "2022-01-08T13:53:42.966Z"
   },
   {
    "duration": 29,
    "start_time": "2022-01-08T13:53:43.001Z"
   },
   {
    "duration": 14,
    "start_time": "2022-01-08T13:53:43.040Z"
   },
   {
    "duration": 12,
    "start_time": "2022-01-08T13:53:43.058Z"
   },
   {
    "duration": 8,
    "start_time": "2022-01-08T13:53:43.072Z"
   },
   {
    "duration": 17,
    "start_time": "2022-01-08T13:53:43.118Z"
   },
   {
    "duration": 12,
    "start_time": "2022-01-08T13:53:43.137Z"
   },
   {
    "duration": 14,
    "start_time": "2022-01-08T13:53:43.151Z"
   },
   {
    "duration": 74,
    "start_time": "2022-01-08T13:53:43.167Z"
   },
   {
    "duration": 45,
    "start_time": "2022-01-08T13:53:43.243Z"
   },
   {
    "duration": 63,
    "start_time": "2022-01-08T13:53:43.290Z"
   },
   {
    "duration": 763,
    "start_time": "2022-01-08T13:53:43.356Z"
   },
   {
    "duration": 28,
    "start_time": "2022-01-08T13:53:44.122Z"
   },
   {
    "duration": 32,
    "start_time": "2022-01-08T13:53:44.153Z"
   },
   {
    "duration": 89,
    "start_time": "2022-01-08T13:53:44.188Z"
   },
   {
    "duration": 127,
    "start_time": "2022-01-08T13:53:44.280Z"
   },
   {
    "duration": 28,
    "start_time": "2022-01-08T13:53:44.409Z"
   },
   {
    "duration": 37,
    "start_time": "2022-01-08T13:53:44.441Z"
   },
   {
    "duration": 67,
    "start_time": "2022-01-08T13:53:44.481Z"
   },
   {
    "duration": 21,
    "start_time": "2022-01-08T13:53:44.550Z"
   },
   {
    "duration": 21,
    "start_time": "2022-01-08T13:53:44.576Z"
   },
   {
    "duration": 23,
    "start_time": "2022-01-08T13:53:44.629Z"
   },
   {
    "duration": 20,
    "start_time": "2022-01-08T13:53:44.654Z"
   },
   {
    "duration": 114,
    "start_time": "2022-01-08T13:57:11.827Z"
   },
   {
    "duration": 106,
    "start_time": "2022-01-08T13:57:15.206Z"
   },
   {
    "duration": 2158,
    "start_time": "2022-01-09T17:35:05.238Z"
   },
   {
    "duration": 55,
    "start_time": "2022-01-09T17:35:07.399Z"
   },
   {
    "duration": 17,
    "start_time": "2022-01-09T17:35:07.457Z"
   },
   {
    "duration": 52,
    "start_time": "2022-01-09T17:35:07.477Z"
   },
   {
    "duration": 57,
    "start_time": "2022-01-09T17:35:07.532Z"
   },
   {
    "duration": 98,
    "start_time": "2022-01-09T17:35:07.592Z"
   },
   {
    "duration": 33,
    "start_time": "2022-01-09T17:35:07.692Z"
   },
   {
    "duration": 37,
    "start_time": "2022-01-09T17:35:07.727Z"
   },
   {
    "duration": 15,
    "start_time": "2022-01-09T17:35:07.768Z"
   },
   {
    "duration": 11,
    "start_time": "2022-01-09T17:35:07.786Z"
   },
   {
    "duration": 7,
    "start_time": "2022-01-09T17:35:07.800Z"
   },
   {
    "duration": 58,
    "start_time": "2022-01-09T17:35:07.810Z"
   },
   {
    "duration": 11,
    "start_time": "2022-01-09T17:35:07.871Z"
   },
   {
    "duration": 10,
    "start_time": "2022-01-09T17:35:07.885Z"
   },
   {
    "duration": 72,
    "start_time": "2022-01-09T17:35:07.897Z"
   },
   {
    "duration": 45,
    "start_time": "2022-01-09T17:35:07.972Z"
   },
   {
    "duration": 70,
    "start_time": "2022-01-09T17:35:08.020Z"
   },
   {
    "duration": 6396,
    "start_time": "2022-01-09T17:35:08.092Z"
   },
   {
    "duration": 28,
    "start_time": "2022-01-09T17:35:14.491Z"
   },
   {
    "duration": 64,
    "start_time": "2022-01-09T17:35:14.522Z"
   },
   {
    "duration": 83,
    "start_time": "2022-01-09T17:35:14.588Z"
   },
   {
    "duration": 61,
    "start_time": "2022-01-09T17:35:14.674Z"
   },
   {
    "duration": 33,
    "start_time": "2022-01-09T17:35:14.737Z"
   },
   {
    "duration": 27,
    "start_time": "2022-01-09T17:35:14.773Z"
   },
   {
    "duration": 71,
    "start_time": "2022-01-09T17:35:14.802Z"
   },
   {
    "duration": 21,
    "start_time": "2022-01-09T17:35:14.876Z"
   },
   {
    "duration": 19,
    "start_time": "2022-01-09T17:35:14.902Z"
   },
   {
    "duration": 20,
    "start_time": "2022-01-09T17:35:14.964Z"
   },
   {
    "duration": 22,
    "start_time": "2022-01-09T17:35:14.987Z"
   },
   {
    "duration": 11,
    "start_time": "2022-01-09T17:40:01.034Z"
   },
   {
    "duration": 8,
    "start_time": "2022-01-09T17:40:26.187Z"
   },
   {
    "duration": 22,
    "start_time": "2022-01-09T17:40:37.344Z"
   },
   {
    "duration": 36,
    "start_time": "2022-01-09T18:03:55.916Z"
   },
   {
    "duration": 2402,
    "start_time": "2022-01-10T04:26:49.971Z"
   },
   {
    "duration": 42,
    "start_time": "2022-01-10T04:26:52.377Z"
   },
   {
    "duration": 11,
    "start_time": "2022-01-10T04:26:52.422Z"
   },
   {
    "duration": 34,
    "start_time": "2022-01-10T04:26:52.435Z"
   },
   {
    "duration": 56,
    "start_time": "2022-01-10T04:26:52.471Z"
   },
   {
    "duration": 71,
    "start_time": "2022-01-10T04:26:52.530Z"
   },
   {
    "duration": 46,
    "start_time": "2022-01-10T04:26:52.603Z"
   },
   {
    "duration": 11,
    "start_time": "2022-01-10T04:26:52.653Z"
   },
   {
    "duration": 13,
    "start_time": "2022-01-10T04:26:52.667Z"
   },
   {
    "duration": 42,
    "start_time": "2022-01-10T04:26:52.682Z"
   },
   {
    "duration": 7,
    "start_time": "2022-01-10T04:26:52.726Z"
   },
   {
    "duration": 16,
    "start_time": "2022-01-10T04:26:52.736Z"
   },
   {
    "duration": 12,
    "start_time": "2022-01-10T04:26:52.754Z"
   },
   {
    "duration": 11,
    "start_time": "2022-01-10T04:26:52.768Z"
   },
   {
    "duration": 63,
    "start_time": "2022-01-10T04:26:52.781Z"
   },
   {
    "duration": 42,
    "start_time": "2022-01-10T04:26:52.846Z"
   },
   {
    "duration": 39,
    "start_time": "2022-01-10T04:26:52.890Z"
   },
   {
    "duration": 37,
    "start_time": "2022-01-10T04:26:52.931Z"
   },
   {
    "duration": 1118,
    "start_time": "2022-01-10T04:26:52.970Z"
   },
   {
    "duration": 41,
    "start_time": "2022-01-10T04:26:54.091Z"
   },
   {
    "duration": 30,
    "start_time": "2022-01-10T04:26:54.135Z"
   },
   {
    "duration": 34,
    "start_time": "2022-01-10T04:26:54.167Z"
   },
   {
    "duration": 52,
    "start_time": "2022-01-10T04:26:54.224Z"
   },
   {
    "duration": 80,
    "start_time": "2022-01-10T04:26:54.279Z"
   },
   {
    "duration": 14,
    "start_time": "2022-01-10T04:26:54.361Z"
   },
   {
    "duration": 45,
    "start_time": "2022-01-10T04:26:54.380Z"
   },
   {
    "duration": 28,
    "start_time": "2022-01-10T04:26:54.427Z"
   },
   {
    "duration": 22,
    "start_time": "2022-01-10T04:26:54.458Z"
   },
   {
    "duration": 57,
    "start_time": "2022-01-10T04:26:54.484Z"
   },
   {
    "duration": 19,
    "start_time": "2022-01-10T04:26:54.544Z"
   },
   {
    "duration": 20,
    "start_time": "2022-01-10T04:26:54.566Z"
   },
   {
    "duration": 281,
    "start_time": "2022-01-10T04:31:18.734Z"
   },
   {
    "duration": 374,
    "start_time": "2022-01-10T04:31:30.350Z"
   },
   {
    "duration": 268,
    "start_time": "2022-01-10T04:31:34.118Z"
   },
   {
    "duration": 8,
    "start_time": "2022-01-10T04:31:54.920Z"
   },
   {
    "duration": 9,
    "start_time": "2022-01-10T04:31:58.245Z"
   },
   {
    "duration": 24,
    "start_time": "2022-01-10T04:32:01.350Z"
   },
   {
    "duration": 618,
    "start_time": "2022-01-10T04:32:22.481Z"
   },
   {
    "duration": 279,
    "start_time": "2022-01-10T04:32:26.421Z"
   },
   {
    "duration": 936,
    "start_time": "2022-01-10T04:33:03.285Z"
   },
   {
    "duration": 8,
    "start_time": "2022-01-10T04:33:26.536Z"
   },
   {
    "duration": 26,
    "start_time": "2022-01-10T04:33:29.629Z"
   },
   {
    "duration": 290,
    "start_time": "2022-01-10T04:35:02.288Z"
   },
   {
    "duration": 2667,
    "start_time": "2022-01-10T04:36:09.126Z"
   },
   {
    "duration": 507,
    "start_time": "2022-01-10T04:36:33.994Z"
   },
   {
    "duration": 623,
    "start_time": "2022-01-10T04:47:19.827Z"
   },
   {
    "duration": 363,
    "start_time": "2022-01-10T04:47:44.176Z"
   },
   {
    "duration": 324,
    "start_time": "2022-01-10T04:47:49.200Z"
   },
   {
    "duration": 329,
    "start_time": "2022-01-10T04:47:52.809Z"
   },
   {
    "duration": 617,
    "start_time": "2022-01-10T04:47:57.940Z"
   },
   {
    "duration": 7,
    "start_time": "2022-01-10T04:51:03.429Z"
   },
   {
    "duration": 25,
    "start_time": "2022-01-10T04:51:06.116Z"
   },
   {
    "duration": 1463,
    "start_time": "2022-01-10T04:51:17.702Z"
   },
   {
    "duration": 42,
    "start_time": "2022-01-10T04:51:19.168Z"
   },
   {
    "duration": 11,
    "start_time": "2022-01-10T04:51:19.213Z"
   },
   {
    "duration": 37,
    "start_time": "2022-01-10T04:51:19.227Z"
   },
   {
    "duration": 59,
    "start_time": "2022-01-10T04:51:19.266Z"
   },
   {
    "duration": 96,
    "start_time": "2022-01-10T04:51:19.327Z"
   },
   {
    "duration": 28,
    "start_time": "2022-01-10T04:51:19.425Z"
   },
   {
    "duration": 13,
    "start_time": "2022-01-10T04:51:19.456Z"
   },
   {
    "duration": 15,
    "start_time": "2022-01-10T04:51:19.473Z"
   },
   {
    "duration": 42,
    "start_time": "2022-01-10T04:51:19.491Z"
   },
   {
    "duration": 7,
    "start_time": "2022-01-10T04:51:19.535Z"
   },
   {
    "duration": 12,
    "start_time": "2022-01-10T04:51:19.544Z"
   },
   {
    "duration": 11,
    "start_time": "2022-01-10T04:51:19.559Z"
   },
   {
    "duration": 51,
    "start_time": "2022-01-10T04:51:19.572Z"
   },
   {
    "duration": 27,
    "start_time": "2022-01-10T04:51:19.626Z"
   },
   {
    "duration": 71,
    "start_time": "2022-01-10T04:51:19.655Z"
   },
   {
    "duration": 23,
    "start_time": "2022-01-10T04:51:19.728Z"
   },
   {
    "duration": 40,
    "start_time": "2022-01-10T04:51:19.753Z"
   },
   {
    "duration": 687,
    "start_time": "2022-01-10T04:51:19.796Z"
   },
   {
    "duration": 38,
    "start_time": "2022-01-10T04:51:20.485Z"
   },
   {
    "duration": 32,
    "start_time": "2022-01-10T04:51:20.526Z"
   },
   {
    "duration": 64,
    "start_time": "2022-01-10T04:51:20.560Z"
   },
   {
    "duration": 58,
    "start_time": "2022-01-10T04:51:20.626Z"
   },
   {
    "duration": 82,
    "start_time": "2022-01-10T04:51:20.686Z"
   },
   {
    "duration": 15,
    "start_time": "2022-01-10T04:51:20.770Z"
   },
   {
    "duration": 47,
    "start_time": "2022-01-10T04:51:20.788Z"
   },
   {
    "duration": 27,
    "start_time": "2022-01-10T04:51:20.839Z"
   },
   {
    "duration": 19,
    "start_time": "2022-01-10T04:51:20.868Z"
   },
   {
    "duration": 51,
    "start_time": "2022-01-10T04:51:20.889Z"
   },
   {
    "duration": 20,
    "start_time": "2022-01-10T04:51:20.942Z"
   },
   {
    "duration": 21,
    "start_time": "2022-01-10T04:51:20.964Z"
   },
   {
    "duration": 108,
    "start_time": "2022-01-10T04:52:27.861Z"
   },
   {
    "duration": 124,
    "start_time": "2022-01-10T04:52:43.780Z"
   },
   {
    "duration": 110,
    "start_time": "2022-01-10T04:53:00.970Z"
   },
   {
    "duration": 708,
    "start_time": "2022-01-10T04:53:30.791Z"
   },
   {
    "duration": 253,
    "start_time": "2022-01-10T04:53:41.874Z"
   },
   {
    "duration": 310,
    "start_time": "2022-01-10T04:53:50.390Z"
   },
   {
    "duration": 316,
    "start_time": "2022-01-10T04:55:49.128Z"
   },
   {
    "duration": 330,
    "start_time": "2022-01-10T04:55:59.794Z"
   },
   {
    "duration": 31,
    "start_time": "2022-01-10T04:56:07.491Z"
   },
   {
    "duration": 914,
    "start_time": "2022-01-10T04:56:51.828Z"
   },
   {
    "duration": 363,
    "start_time": "2022-01-10T04:56:58.422Z"
   },
   {
    "duration": 366,
    "start_time": "2022-01-10T04:57:06.451Z"
   },
   {
    "duration": 364,
    "start_time": "2022-01-10T04:57:16.388Z"
   },
   {
    "duration": 341,
    "start_time": "2022-01-10T04:57:31.247Z"
   },
   {
    "duration": 8336,
    "start_time": "2022-01-10T04:57:41.043Z"
   },
   {
    "duration": 22,
    "start_time": "2022-01-10T04:58:22.823Z"
   },
   {
    "duration": 30,
    "start_time": "2022-01-10T04:58:27.470Z"
   },
   {
    "duration": 335,
    "start_time": "2022-01-10T05:08:32.758Z"
   },
   {
    "duration": 200,
    "start_time": "2022-01-10T05:08:50.937Z"
   },
   {
    "duration": 22,
    "start_time": "2022-01-10T05:08:55.781Z"
   },
   {
    "duration": 31,
    "start_time": "2022-01-10T05:09:00.902Z"
   },
   {
    "duration": 343,
    "start_time": "2022-01-10T05:10:31.923Z"
   },
   {
    "duration": 30,
    "start_time": "2022-01-10T05:10:57.530Z"
   },
   {
    "duration": 346,
    "start_time": "2022-01-10T05:11:31.759Z"
   },
   {
    "duration": 487,
    "start_time": "2022-01-10T05:11:34.121Z"
   },
   {
    "duration": 30,
    "start_time": "2022-01-10T05:11:41.480Z"
   },
   {
    "duration": 376,
    "start_time": "2022-01-10T05:12:40.021Z"
   },
   {
    "duration": 21,
    "start_time": "2022-01-10T05:13:05.012Z"
   },
   {
    "duration": 25,
    "start_time": "2022-01-10T05:13:07.071Z"
   },
   {
    "duration": 30,
    "start_time": "2022-01-10T05:13:09.580Z"
   },
   {
    "duration": 342,
    "start_time": "2022-01-10T05:13:31.400Z"
   },
   {
    "duration": 30,
    "start_time": "2022-01-10T05:13:36.887Z"
   },
   {
    "duration": 321,
    "start_time": "2022-01-10T05:22:38.250Z"
   },
   {
    "duration": 6,
    "start_time": "2022-01-10T05:25:44.174Z"
   },
   {
    "duration": 267,
    "start_time": "2022-01-10T05:26:08.053Z"
   },
   {
    "duration": 288,
    "start_time": "2022-01-10T05:26:51.496Z"
   },
   {
    "duration": 256,
    "start_time": "2022-01-10T05:27:20.560Z"
   },
   {
    "duration": 241,
    "start_time": "2022-01-10T05:27:37.284Z"
   },
   {
    "duration": 319,
    "start_time": "2022-01-10T05:27:53.805Z"
   },
   {
    "duration": 22,
    "start_time": "2022-01-10T05:30:05.238Z"
   },
   {
    "duration": 413,
    "start_time": "2022-01-10T05:30:52.384Z"
   },
   {
    "duration": 491,
    "start_time": "2022-01-10T05:31:16.689Z"
   },
   {
    "duration": 389,
    "start_time": "2022-01-10T05:31:54.994Z"
   },
   {
    "duration": 386,
    "start_time": "2022-01-10T05:31:57.052Z"
   },
   {
    "duration": 374,
    "start_time": "2022-01-10T05:32:05.298Z"
   },
   {
    "duration": 386,
    "start_time": "2022-01-10T05:32:14.949Z"
   },
   {
    "duration": 1584,
    "start_time": "2022-01-10T05:34:28.193Z"
   },
   {
    "duration": 44,
    "start_time": "2022-01-10T05:34:29.780Z"
   },
   {
    "duration": 12,
    "start_time": "2022-01-10T05:34:29.827Z"
   },
   {
    "duration": 38,
    "start_time": "2022-01-10T05:34:29.842Z"
   },
   {
    "duration": 73,
    "start_time": "2022-01-10T05:34:29.883Z"
   },
   {
    "duration": 97,
    "start_time": "2022-01-10T05:34:29.958Z"
   },
   {
    "duration": 31,
    "start_time": "2022-01-10T05:34:30.058Z"
   },
   {
    "duration": 34,
    "start_time": "2022-01-10T05:34:30.091Z"
   },
   {
    "duration": 15,
    "start_time": "2022-01-10T05:34:30.129Z"
   },
   {
    "duration": 13,
    "start_time": "2022-01-10T05:34:30.146Z"
   },
   {
    "duration": 10,
    "start_time": "2022-01-10T05:34:30.162Z"
   },
   {
    "duration": 26,
    "start_time": "2022-01-10T05:34:30.174Z"
   },
   {
    "duration": 28,
    "start_time": "2022-01-10T05:34:30.203Z"
   },
   {
    "duration": 15,
    "start_time": "2022-01-10T05:34:30.234Z"
   },
   {
    "duration": 35,
    "start_time": "2022-01-10T05:34:30.252Z"
   },
   {
    "duration": 65,
    "start_time": "2022-01-10T05:34:30.290Z"
   },
   {
    "duration": 20,
    "start_time": "2022-01-10T05:34:30.358Z"
   },
   {
    "duration": 63,
    "start_time": "2022-01-10T05:34:30.380Z"
   },
   {
    "duration": 640,
    "start_time": "2022-01-10T05:34:30.446Z"
   },
   {
    "duration": 271,
    "start_time": "2022-01-10T05:34:31.088Z"
   },
   {
    "duration": 269,
    "start_time": "2022-01-10T05:34:31.361Z"
   },
   {
    "duration": 264,
    "start_time": "2022-01-10T05:34:31.632Z"
   },
   {
    "duration": 47,
    "start_time": "2022-01-10T05:34:31.898Z"
   },
   {
    "duration": 138,
    "start_time": "2022-01-10T05:34:31.948Z"
   },
   {
    "duration": 76,
    "start_time": "2022-01-10T05:34:32.088Z"
   },
   {
    "duration": 15,
    "start_time": "2022-01-10T05:34:32.166Z"
   },
   {
    "duration": 445,
    "start_time": "2022-01-10T05:34:32.187Z"
   },
   {
    "duration": 415,
    "start_time": "2022-01-10T05:34:32.635Z"
   },
   {
    "duration": 447,
    "start_time": "2022-01-10T05:34:33.053Z"
   },
   {
    "duration": 32,
    "start_time": "2022-01-10T05:34:33.502Z"
   },
   {
    "duration": 19,
    "start_time": "2022-01-10T05:34:33.536Z"
   },
   {
    "duration": 18,
    "start_time": "2022-01-10T05:34:33.558Z"
   },
   {
    "duration": 50,
    "start_time": "2022-01-10T05:34:33.578Z"
   },
   {
    "duration": 431,
    "start_time": "2022-01-10T05:35:21.134Z"
   },
   {
    "duration": 324,
    "start_time": "2022-01-10T05:36:02.266Z"
   },
   {
    "duration": 282,
    "start_time": "2022-01-10T05:36:11.541Z"
   },
   {
    "duration": 280,
    "start_time": "2022-01-10T05:36:42.451Z"
   },
   {
    "duration": 268,
    "start_time": "2022-01-10T05:36:50.973Z"
   },
   {
    "duration": 260,
    "start_time": "2022-01-10T05:36:56.132Z"
   },
   {
    "duration": 293,
    "start_time": "2022-01-10T05:37:27.769Z"
   },
   {
    "duration": 305,
    "start_time": "2022-02-10T01:53:28.444Z"
   },
   {
    "duration": 1166,
    "start_time": "2022-02-10T01:53:34.311Z"
   },
   {
    "duration": 42,
    "start_time": "2022-02-10T01:53:35.479Z"
   },
   {
    "duration": 7,
    "start_time": "2022-02-10T01:53:35.524Z"
   },
   {
    "duration": 22,
    "start_time": "2022-02-10T01:53:35.533Z"
   },
   {
    "duration": 17,
    "start_time": "2022-02-10T01:53:35.557Z"
   },
   {
    "duration": 58,
    "start_time": "2022-02-10T01:53:35.575Z"
   },
   {
    "duration": 19,
    "start_time": "2022-02-10T01:53:35.635Z"
   },
   {
    "duration": 8,
    "start_time": "2022-02-10T01:53:35.655Z"
   },
   {
    "duration": 7,
    "start_time": "2022-02-10T01:53:35.665Z"
   },
   {
    "duration": 7,
    "start_time": "2022-02-10T01:53:35.673Z"
   },
   {
    "duration": 4,
    "start_time": "2022-02-10T01:53:35.681Z"
   },
   {
    "duration": 8,
    "start_time": "2022-02-10T01:53:35.687Z"
   },
   {
    "duration": 35,
    "start_time": "2022-02-10T01:53:35.696Z"
   },
   {
    "duration": 6,
    "start_time": "2022-02-10T01:53:35.733Z"
   },
   {
    "duration": 14,
    "start_time": "2022-02-10T01:53:35.741Z"
   },
   {
    "duration": 25,
    "start_time": "2022-02-10T01:53:35.756Z"
   },
   {
    "duration": 12,
    "start_time": "2022-02-10T01:53:35.782Z"
   },
   {
    "duration": 48,
    "start_time": "2022-02-10T01:53:35.795Z"
   },
   {
    "duration": 435,
    "start_time": "2022-02-10T01:53:35.845Z"
   },
   {
    "duration": 151,
    "start_time": "2022-02-10T01:53:36.281Z"
   },
   {
    "duration": 150,
    "start_time": "2022-02-10T01:53:36.433Z"
   },
   {
    "duration": 148,
    "start_time": "2022-02-10T01:53:36.585Z"
   },
   {
    "duration": 21,
    "start_time": "2022-02-10T01:53:36.734Z"
   },
   {
    "duration": 102,
    "start_time": "2022-02-10T01:53:36.756Z"
   },
   {
    "duration": 35,
    "start_time": "2022-02-10T01:53:36.860Z"
   },
   {
    "duration": 9,
    "start_time": "2022-02-10T01:53:36.896Z"
   },
   {
    "duration": 31,
    "start_time": "2022-02-10T01:53:36.907Z"
   },
   {
    "duration": 235,
    "start_time": "2022-02-10T01:53:36.940Z"
   },
   {
    "duration": 229,
    "start_time": "2022-02-10T01:53:37.177Z"
   },
   {
    "duration": 244,
    "start_time": "2022-02-10T01:53:37.407Z"
   },
   {
    "duration": 172,
    "start_time": "2022-02-10T01:53:37.653Z"
   },
   {
    "duration": 158,
    "start_time": "2022-02-10T01:53:37.827Z"
   },
   {
    "duration": 142,
    "start_time": "2022-02-10T01:53:37.986Z"
   },
   {
    "duration": 168,
    "start_time": "2022-02-10T01:53:38.130Z"
   },
   {
    "duration": 1145,
    "start_time": "2022-02-10T01:54:02.333Z"
   },
   {
    "duration": 41,
    "start_time": "2022-02-10T01:54:03.480Z"
   },
   {
    "duration": 7,
    "start_time": "2022-02-10T01:54:03.523Z"
   },
   {
    "duration": 24,
    "start_time": "2022-02-10T01:54:03.531Z"
   },
   {
    "duration": 19,
    "start_time": "2022-02-10T01:54:03.556Z"
   },
   {
    "duration": 60,
    "start_time": "2022-02-10T01:54:03.576Z"
   },
   {
    "duration": 20,
    "start_time": "2022-02-10T01:54:03.638Z"
   },
   {
    "duration": 8,
    "start_time": "2022-02-10T01:54:03.659Z"
   },
   {
    "duration": 8,
    "start_time": "2022-02-10T01:54:03.670Z"
   },
   {
    "duration": 7,
    "start_time": "2022-02-10T01:54:03.679Z"
   },
   {
    "duration": 4,
    "start_time": "2022-02-10T01:54:03.687Z"
   },
   {
    "duration": 35,
    "start_time": "2022-02-10T01:54:03.693Z"
   },
   {
    "duration": 7,
    "start_time": "2022-02-10T01:54:03.729Z"
   },
   {
    "duration": 9,
    "start_time": "2022-02-10T01:54:03.738Z"
   },
   {
    "duration": 18,
    "start_time": "2022-02-10T01:54:03.748Z"
   },
   {
    "duration": 26,
    "start_time": "2022-02-10T01:54:03.768Z"
   },
   {
    "duration": 35,
    "start_time": "2022-02-10T01:54:03.795Z"
   },
   {
    "duration": 23,
    "start_time": "2022-02-10T01:54:03.831Z"
   },
   {
    "duration": 440,
    "start_time": "2022-02-10T01:54:03.855Z"
   },
   {
    "duration": 143,
    "start_time": "2022-02-10T01:54:04.297Z"
   },
   {
    "duration": 154,
    "start_time": "2022-02-10T01:54:04.441Z"
   },
   {
    "duration": 152,
    "start_time": "2022-02-10T01:54:04.597Z"
   },
   {
    "duration": 21,
    "start_time": "2022-02-10T01:54:04.751Z"
   },
   {
    "duration": 103,
    "start_time": "2022-02-10T01:54:04.773Z"
   },
   {
    "duration": 35,
    "start_time": "2022-02-10T01:54:04.877Z"
   },
   {
    "duration": 22,
    "start_time": "2022-02-10T01:54:04.913Z"
   },
   {
    "duration": 225,
    "start_time": "2022-02-10T01:54:04.938Z"
   },
   {
    "duration": 233,
    "start_time": "2022-02-10T01:54:05.165Z"
   },
   {
    "duration": 232,
    "start_time": "2022-02-10T01:54:05.400Z"
   },
   {
    "duration": 244,
    "start_time": "2022-02-10T01:54:05.633Z"
   },
   {
    "duration": 173,
    "start_time": "2022-02-10T01:54:05.879Z"
   },
   {
    "duration": 162,
    "start_time": "2022-02-10T01:54:06.054Z"
   },
   {
    "duration": 145,
    "start_time": "2022-02-10T01:54:06.217Z"
   },
   {
    "duration": 156,
    "start_time": "2022-02-10T01:54:06.363Z"
   }
  ],
  "colab": {
   "name": "DA+. Сборный проект 1. Шаблон (1).ipynb",
   "provenance": []
  },
  "kernelspec": {
   "display_name": "Python 3 (ipykernel)",
   "language": "python",
   "name": "python3"
  },
  "language_info": {
   "codemirror_mode": {
    "name": "ipython",
    "version": 3
   },
   "file_extension": ".py",
   "mimetype": "text/x-python",
   "name": "python",
   "nbconvert_exporter": "python",
   "pygments_lexer": "ipython3",
   "version": "3.11.4"
  },
  "toc": {
   "base_numbering": 1,
   "nav_menu": {},
   "number_sections": true,
   "sideBar": true,
   "skip_h1_title": true,
   "title_cell": "Table of Contents",
   "title_sidebar": "Contents",
   "toc_cell": false,
   "toc_position": {
    "height": "calc(100% - 180px)",
    "left": "10px",
    "top": "150px",
    "width": "375.391px"
   },
   "toc_section_display": true,
   "toc_window_display": false
  }
 },
 "nbformat": 4,
 "nbformat_minor": 1
}
